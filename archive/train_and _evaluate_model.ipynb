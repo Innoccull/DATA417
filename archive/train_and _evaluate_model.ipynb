{
 "cells": [
  {
   "cell_type": "code",
   "execution_count": 2,
   "metadata": {},
   "outputs": [],
   "source": [
    "import csv\n",
    "import json\n",
    "import pandas as pd\n",
    "import spacy\n",
    "import math\n",
    "\n",
    "\n",
    "from bs4 import BeautifulSoup\n",
    "from spacy import displacy\n",
    "from pathlib import Path\n",
    "from cairosvg import svg2png"
   ]
  },
  {
   "cell_type": "code",
   "execution_count": 3,
   "metadata": {},
   "outputs": [
    {
     "name": "stdout",
     "output_type": "stream",
     "text": [
      "ℹ Running workflow 'all'\n",
      "\u001b[1m\n",
      "================================== convert ==================================\u001b[0m\n",
      "ℹ Skipping 'convert': nothing changed\n",
      "\u001b[1m\n",
      "=================================== train ===================================\u001b[0m\n",
      "ℹ Skipping 'train': nothing changed\n",
      "\u001b[1m\n",
      "================================== evaluate ==================================\u001b[0m\n",
      "ℹ Skipping 'evaluate': nothing changed\n"
     ]
    }
   ],
   "source": [
    "#train the model\n",
    "\n",
    "!python -m spacy project run all"
   ]
  },
  {
   "attachments": {},
   "cell_type": "markdown",
   "metadata": {},
   "source": [
    "## Evaluate model performance"
   ]
  },
  {
   "cell_type": "code",
   "execution_count": 4,
   "metadata": {},
   "outputs": [],
   "source": [
    "# Load job data\n",
    "df = pd.read_csv(\"C:\\\\Users\\\\chris\\\\DATA417\\\\data\\\\jobs_raw.zip\")\n",
    "\n",
    "# Get just job descriptions\n",
    "descriptions = df['Job Description']\n"
   ]
  },
  {
   "cell_type": "code",
   "execution_count": 5,
   "metadata": {},
   "outputs": [],
   "source": [
    "# Function to tidy job description data\n",
    "def pre_process_text(description, html=True):\n",
    "\n",
    "    text = description\n",
    "\n",
    "    if(html):\n",
    "        soup = BeautifulSoup(description, \"html.parser\")\n",
    "        text = soup.get_text(separator=' ')\n",
    "\n",
    "        # Replace newline characters with spaces\n",
    "        text = text.replace('\\n', ' ')\n",
    "\n",
    "    return text\n",
    "\n",
    "\n",
    "# Function to get spacy doc summary stats\n",
    "def get_doc_stats(doc):\n",
    "\n",
    "    total_tokens = doc.__len__()\n",
    "\n",
    "    total_masculine = len([ent.text for ent in doc.ents if ent.label_ == \"MAS\"])\n",
    "    total_feminine = len([ent.text for ent in doc.ents if ent.label_ == \"FEM\"])\n",
    "    total_exclusive = len([ent.text for ent in doc.ents if ent.label_ == \"EXC\"])\n",
    "\n",
    "    n = total_feminine + total_masculine\n",
    "    x = (1/n)*(total_feminine - total_masculine)\n",
    "\n",
    "    gt_score = 1/(1+math.exp(-x))\n",
    "\n",
    "    result = {\n",
    "        'total': total_tokens,\n",
    "        'total_masculine': total_masculine,\n",
    "        'total_feminine': total_feminine,\n",
    "        'total_exclusive': total_exclusive,\n",
    "        'pct_masculine': round(total_masculine/total_tokens, 4),\n",
    "        'pct_feminine': round(total_feminine/total_tokens, 4),\n",
    "        'pct_exclusive': round(total_exclusive/total_tokens, 4),\n",
    "        'masc_ents': [ent.text for ent in doc.ents if ent.label_ == \"MAS\"],\n",
    "        'fem_ents' : [ent.text for ent in doc.ents if ent.label_ == \"FEM\"],\n",
    "        'exc_ents' : [ent.text for ent in doc.ents if ent.label_ == \"EXC\"],\n",
    "        'gt_score' : gt_score\n",
    "    }\n",
    "\n",
    "    return result"
   ]
  },
  {
   "cell_type": "code",
   "execution_count": 6,
   "metadata": {},
   "outputs": [],
   "source": [
    "# Get random sample of job descriptions\n",
    "description_eval_sample = pd.DataFrame(descriptions.sample(n=100, random_state=2))\n",
    "\n",
    "# Create clean description\n",
    "description_eval_sample[\"description_clean\"] = description_eval_sample['Job Description'].apply(pre_process_text)"
   ]
  },
  {
   "cell_type": "code",
   "execution_count": 7,
   "metadata": {},
   "outputs": [],
   "source": [
    "# Load NER model\n",
    "nlp = spacy.load(\"C:\\\\Users\\\\chris\\\\DATA417\\\\ner_demo\\\\training\\\\model-best\")"
   ]
  },
  {
   "cell_type": "code",
   "execution_count": 8,
   "metadata": {},
   "outputs": [],
   "source": [
    "doc = nlp(\"Test job description\")"
   ]
  },
  {
   "cell_type": "code",
   "execution_count": 9,
   "metadata": {},
   "outputs": [],
   "source": [
    "# Create spacy Doc object for each job description\n",
    "description_eval_sample['spacy'] = description_eval_sample['description_clean'].apply(lambda row: nlp(row))\n",
    "\n",
    "# Get summary statistics for Doc object\n",
    "description_eval_sample['token_summary'] = description_eval_sample['spacy'].apply(lambda row: get_doc_stats(row))\n",
    "\n",
    "description_eval_sample = pd.concat([description_eval_sample.drop(['token_summary'], axis=1), description_eval_sample['token_summary'].apply(pd.Series)], axis=1)"
   ]
  },
  {
   "attachments": {},
   "cell_type": "markdown",
   "metadata": {},
   "source": [
    "### Summary Statistics\n",
    "\n",
    "Get summary statistics for evaluating solution performance"
   ]
  },
  {
   "cell_type": "code",
   "execution_count": 12,
   "metadata": {},
   "outputs": [
    {
     "name": "stdout",
     "output_type": "stream",
     "text": [
      "There are 97 job descriptions with masculine language (0.970000 percent)\n",
      "There are 100 job descriptions with feminine language (1.000000 percent)\n",
      "There is an average of 0.013359 masculine words per job advertisement\n",
      "There is an average of 0.012563 feminine words per job advertisement\n",
      "The average gender target score across the entire corpus is 0.506421\n",
      "ability    12.609971\n",
      "Ability    11.827957\n",
      "data        8.308895\n",
      "able        6.451613\n",
      "best        4.789834\n",
      "dtype: float64\n",
      "work       28.325688\n",
      "service    18.807339\n",
      "support     9.288991\n",
      "Work        7.224771\n",
      "Service     5.045872\n",
      "dtype: float64\n"
     ]
    }
   ],
   "source": [
    "# Total and percentage masculine and feminine job descriptions across the entire corpus\n",
    "total_masculine_corpus = len(description_eval_sample[description_eval_sample['total_masculine'] != 0])\n",
    "pct_masculine_corpus = total_masculine_corpus/len(description_eval_sample)\n",
    "total_feminine_corpus = len(description_eval_sample[description_eval_sample['total_feminine'] != 0])\n",
    "pct_feminine_corpus = total_feminine_corpus/len(description_eval_sample)\n",
    "\n",
    "# Mean percent of masculine and feminine words in a job advertisement across the entire corpus\n",
    "mean_pct_masculine_corpus = description_eval_sample['pct_masculine'].mean()\n",
    "mean_pct_feminine_corpus = description_eval_sample['pct_feminine'].mean()\n",
    "\n",
    "# Mean gender target score across the entire corpus\n",
    "mean_gt_score_corpus = description_eval_sample['gt_score'].mean()\n",
    "\n",
    "# Top masculine entities and their percentage\n",
    "all_masc_ents = description_eval_sample['masc_ents'].to_list()\n",
    "all_masc_ents = pd.DataFrame([item for all_masc_ents in all_masc_ents for item in all_masc_ents])\n",
    "\n",
    "top_masc = all_masc_ents.value_counts(normalize=True) * 100\n",
    "\n",
    "# Top feminine entities and their percentage\n",
    "all_fem_ents = description_eval_sample['fem_ents'].to_list()\n",
    "all_fem_ents = pd.DataFrame([item for all_fem_ents in all_fem_ents for item in all_fem_ents])\n",
    "\n",
    "top_fem = all_fem_ents.value_counts(normalize=True) * 100\n",
    "\n",
    "\n",
    "print(\"There are %d job descriptions with masculine language (%2f percent)\" % (total_masculine_corpus, pct_masculine_corpus))\n",
    "print(\"There are %d job descriptions with feminine language (%2f percent)\" % (total_feminine_corpus, pct_feminine_corpus))\n",
    "print(\"There is an average of %2f masculine words per job advertisement\" % (mean_pct_masculine_corpus))\n",
    "print(\"There is an average of %2f feminine words per job advertisement\" % (mean_pct_feminine_corpus))\n",
    "print(\"The average gender target score across the entire corpus is %2f\" % mean_gt_score_corpus)\n",
    "\n",
    "print(top_masc[0:5])\n",
    "print(top_fem[0:5])"
   ]
  },
  {
   "cell_type": "markdown",
   "metadata": {},
   "source": [
    "### Manual Inspection\n",
    "\n",
    "Complete a manual inspection of the most masculine and most feminine job advertisements."
   ]
  },
  {
   "cell_type": "code",
   "execution_count": 13,
   "metadata": {},
   "outputs": [],
   "source": [
    "# Get top three masculine pct and feminine pct job advertisements\n",
    "top_fem  = description_eval_sample.sort_values('gt_score', ascending=False).iloc[0:3]\n",
    "top_masc = description_eval_sample.sort_values('gt_score', ascending=False).iloc[-3:]"
   ]
  },
  {
   "cell_type": "code",
   "execution_count": 14,
   "metadata": {},
   "outputs": [],
   "source": [
    "# Settings for producing displacy images\n",
    "colors = {\"MAS\": \"linear-gradient(120deg, #a1c4fd, #a1c4fd)\", \"FEM\": \"linear-gradient(120deg, #fdcbf1, #fdcbf1)\"}\n",
    "options = {\"ents\": [\"MAS\", \"FEM\"], \"colors\": colors}"
   ]
  },
  {
   "attachments": {},
   "cell_type": "markdown",
   "metadata": {},
   "source": [
    "## Masculine"
   ]
  },
  {
   "cell_type": "code",
   "execution_count": 19,
   "metadata": {},
   "outputs": [
    {
     "data": {
      "text/plain": [
       "26024"
      ]
     },
     "execution_count": 19,
     "metadata": {},
     "output_type": "execute_result"
    }
   ],
   "source": [
    "svg = displacy.render(top_masc['spacy'].iloc[0], style='ent', jupyter=False, options=options)\n",
    "\n",
    "output_path = Path(\"C:\\\\Users\\\\chris\\\\DATA417\\\\assets\\\\displacy_images\\\\masc_1.svg\")\n",
    "\n",
    "output_path.open(\"w\", encoding=\"utf-8\").write(svg)"
   ]
  },
  {
   "cell_type": "code",
   "execution_count": 21,
   "metadata": {},
   "outputs": [
    {
     "data": {
      "text/html": [
       "<span class=\"tex2jax_ignore\"><div class=\"entities\" style=\"line-height: 2.5; direction: ltr\">  Reporting to the VP, Digital Marketing, the Global Demand Generation and Analytics Manager is responsible for developing and managing Dynata’s global demand generation campaigns to build thought leadership, drive demand and create pipeline. The role will also be responsible for managing all aspects of demand generation operations, including martech tools and systems, \n",
       "<mark class=\"entity\" style=\"background: linear-gradient(120deg, #a1c4fd, #a1c4fd); padding: 0.45em 0.6em; margin: 0 0.25em; line-height: 1; border-radius: 0.35em;\">\n",
       "    lead\n",
       "    <span style=\"font-size: 0.8em; font-weight: bold; line-height: 1; border-radius: 0.35em; vertical-align: middle; margin-left: 0.5rem\">MAS</span>\n",
       "</mark>\n",
       " scoring and \n",
       "<mark class=\"entity\" style=\"background: linear-gradient(120deg, #a1c4fd, #a1c4fd); padding: 0.45em 0.6em; margin: 0 0.25em; line-height: 1; border-radius: 0.35em;\">\n",
       "    lead\n",
       "    <span style=\"font-size: 0.8em; font-weight: bold; line-height: 1; border-radius: 0.35em; vertical-align: middle; margin-left: 0.5rem\">MAS</span>\n",
       "</mark>\n",
       " nurturing campaigns and processes and analytics and reporting. This position will also  \n",
       "<mark class=\"entity\" style=\"background: linear-gradient(120deg, #fdcbf1, #fdcbf1); padding: 0.45em 0.6em; margin: 0 0.25em; line-height: 1; border-radius: 0.35em;\">\n",
       "    work\n",
       "    <span style=\"font-size: 0.8em; font-weight: bold; line-height: 1; border-radius: 0.35em; vertical-align: middle; margin-left: 0.5rem\">FEM</span>\n",
       "</mark>\n",
       " cross-functionally to educate teams and to enable them to effectively utilize the marketing channels.      RESPONSIBILITIES      Develop, maintain and execute demand generation plans aligned with business goals.    Develop a deep understanding of customers, products and the buyer’s journey and target audience personas.    \n",
       "<mark class=\"entity\" style=\"background: linear-gradient(120deg, #a1c4fd, #a1c4fd); padding: 0.45em 0.6em; margin: 0 0.25em; line-height: 1; border-radius: 0.35em;\">\n",
       "    Lead\n",
       "    <span style=\"font-size: 0.8em; font-weight: bold; line-height: 1; border-radius: 0.35em; vertical-align: middle; margin-left: 0.5rem\">MAS</span>\n",
       "</mark>\n",
       " the strategy and execution of integrated content marketing campaigns, including SEO/SEM, programmatic advertising, social media and event marketing    Must be skilled in content creation to address buyer’s needs at each stage of their journey    Leverage marketing automation and \n",
       "<mark class=\"entity\" style=\"background: linear-gradient(120deg, #a1c4fd, #a1c4fd); padding: 0.45em 0.6em; margin: 0 0.25em; line-height: 1; border-radius: 0.35em;\">\n",
       "    lead\n",
       "    <span style=\"font-size: 0.8em; font-weight: bold; line-height: 1; border-radius: 0.35em; vertical-align: middle; margin-left: 0.5rem\">MAS</span>\n",
       "</mark>\n",
       " management to streamline, automate and measure all marketing tasks and workflows, from \n",
       "<mark class=\"entity\" style=\"background: linear-gradient(120deg, #a1c4fd, #a1c4fd); padding: 0.45em 0.6em; margin: 0 0.25em; line-height: 1; border-radius: 0.35em;\">\n",
       "    lead\n",
       "    <span style=\"font-size: 0.8em; font-weight: bold; line-height: 1; border-radius: 0.35em; vertical-align: middle; margin-left: 0.5rem\">MAS</span>\n",
       "</mark>\n",
       " sourcing, scoring, and nurturing to \n",
       "<mark class=\"entity\" style=\"background: linear-gradient(120deg, #a1c4fd, #a1c4fd); padding: 0.45em 0.6em; margin: 0 0.25em; line-height: 1; border-radius: 0.35em;\">\n",
       "    lead\n",
       "    <span style=\"font-size: 0.8em; font-weight: bold; line-height: 1; border-radius: 0.35em; vertical-align: middle; margin-left: 0.5rem\">MAS</span>\n",
       "</mark>\n",
       " conversion and customer retention.    \n",
       "<mark class=\"entity\" style=\"background: linear-gradient(120deg, #fdcbf1, #fdcbf1); padding: 0.45em 0.6em; margin: 0 0.25em; line-height: 1; border-radius: 0.35em;\">\n",
       "    Work\n",
       "    <span style=\"font-size: 0.8em; font-weight: bold; line-height: 1; border-radius: 0.35em; vertical-align: middle; margin-left: 0.5rem\">FEM</span>\n",
       "</mark>\n",
       " closely with Sales, Products and members of Marketing teams to build cross-functional cohesion.    Constantly evaluate campaign performance and drive continuous improvement for future campaigns.        SKILLS AND ATTRIBUTES      Proven experience with marketing automation (Marketo a plus) and CRM    Skilled in managing numerous simultaneous projects with tight deadlines and defined targets and \n",
       "<mark class=\"entity\" style=\"background: linear-gradient(120deg, #fdcbf1, #fdcbf1); padding: 0.45em 0.6em; margin: 0 0.25em; line-height: 1; border-radius: 0.35em;\">\n",
       "    work\n",
       "    <span style=\"font-size: 0.8em; font-weight: bold; line-height: 1; border-radius: 0.35em; vertical-align: middle; margin-left: 0.5rem\">FEM</span>\n",
       "</mark>\n",
       " well in a fast-paced environment    Excellent communication skills, including strong written communication    Strong problem solving, analysis, prioritization, tactical execution and planning skills        EDUCATION AND EXPERIENCE      Bachelor’s degree required    8+ years of digital marketing and demand generation experience    Expertise in integrated content marketing and campaign analytics        Dynata is one of the world’s leading single providers of first-party \n",
       "<mark class=\"entity\" style=\"background: linear-gradient(120deg, #a1c4fd, #a1c4fd); padding: 0.45em 0.6em; margin: 0 0.25em; line-height: 1; border-radius: 0.35em;\">\n",
       "    data\n",
       "    <span style=\"font-size: 0.8em; font-weight: bold; line-height: 1; border-radius: 0.35em; vertical-align: middle; margin-left: 0.5rem\">MAS</span>\n",
       "</mark>\n",
       " contributed by people who opt-in to member-based panels that the company manages and maintains. With a reach that encompasses 60+ million people globally and an extensive library of \n",
       "<mark class=\"entity\" style=\"background: linear-gradient(120deg, #a1c4fd, #a1c4fd); padding: 0.45em 0.6em; margin: 0 0.25em; line-height: 1; border-radius: 0.35em;\">\n",
       "    individual\n",
       "    <span style=\"font-size: 0.8em; font-weight: bold; line-height: 1; border-radius: 0.35em; vertical-align: middle; margin-left: 0.5rem\">MAS</span>\n",
       "</mark>\n",
       " profile attributes collected through surveys, Dynata is the cornerstone for precise, trustworthy quality \n",
       "<mark class=\"entity\" style=\"background: linear-gradient(120deg, #a1c4fd, #a1c4fd); padding: 0.45em 0.6em; margin: 0 0.25em; line-height: 1; border-radius: 0.35em;\">\n",
       "    data\n",
       "    <span style=\"font-size: 0.8em; font-weight: bold; line-height: 1; border-radius: 0.35em; vertical-align: middle; margin-left: 0.5rem\">MAS</span>\n",
       "</mark>\n",
       ". The company has built innovative \n",
       "<mark class=\"entity\" style=\"background: linear-gradient(120deg, #a1c4fd, #a1c4fd); padding: 0.45em 0.6em; margin: 0 0.25em; line-height: 1; border-radius: 0.35em;\">\n",
       "    data\n",
       "    <span style=\"font-size: 0.8em; font-weight: bold; line-height: 1; border-radius: 0.35em; vertical-align: middle; margin-left: 0.5rem\">MAS</span>\n",
       "</mark>\n",
       " services and solutions around this core asset to bring the voice of the \n",
       "<mark class=\"entity\" style=\"background: linear-gradient(120deg, #a1c4fd, #a1c4fd); padding: 0.45em 0.6em; margin: 0 0.25em; line-height: 1; border-radius: 0.35em;\">\n",
       "    individual\n",
       "    <span style=\"font-size: 0.8em; font-weight: bold; line-height: 1; border-radius: 0.35em; vertical-align: middle; margin-left: 0.5rem\">MAS</span>\n",
       "</mark>\n",
       " to the entire marketing spectrum, from market \n",
       "<mark class=\"entity\" style=\"background: linear-gradient(120deg, #a1c4fd, #a1c4fd); padding: 0.45em 0.6em; margin: 0 0.25em; line-height: 1; border-radius: 0.35em;\">\n",
       "    research\n",
       "    <span style=\"font-size: 0.8em; font-weight: bold; line-height: 1; border-radius: 0.35em; vertical-align: middle; margin-left: 0.5rem\">MAS</span>\n",
       "</mark>\n",
       " to marketing and advertising. Dynata serves nearly 6,000 market \n",
       "<mark class=\"entity\" style=\"background: linear-gradient(120deg, #a1c4fd, #a1c4fd); padding: 0.45em 0.6em; margin: 0 0.25em; line-height: 1; border-radius: 0.35em;\">\n",
       "    research\n",
       "    <span style=\"font-size: 0.8em; font-weight: bold; line-height: 1; border-radius: 0.35em; vertical-align: middle; margin-left: 0.5rem\">MAS</span>\n",
       "</mark>\n",
       " agencies, media and advertising agencies, consulting &amp; investment firms and healthcare and corporate customers in the Americas, Europe, and Asia-Pacific      Dynata is an equal employment and affirmative action employer  EOE/Minority/Female/Veteran/Disabled/Sexual Orientation/Gender Identity  </div></span>"
      ],
      "text/plain": [
       "<IPython.core.display.HTML object>"
      ]
     },
     "metadata": {},
     "output_type": "display_data"
    }
   ],
   "source": [
    "displacy.render(top_masc['spacy'].iloc[1], style='ent', options=options)"
   ]
  },
  {
   "cell_type": "code",
   "execution_count": 75,
   "metadata": {},
   "outputs": [
    {
     "data": {
      "text/html": [
       "<span class=\"tex2jax_ignore\"><div class=\"entities\" style=\"line-height: 2.5; direction: ltr\">  IQVIA™ is the leading human \n",
       "<mark class=\"entity\" style=\"background: linear-gradient(120deg, #a1c4fd, #a1c4fd); padding: 0.45em 0.6em; margin: 0 0.25em; line-height: 1; border-radius: 0.35em;\">\n",
       "    data\n",
       "    <span style=\"font-size: 0.8em; font-weight: bold; line-height: 1; border-radius: 0.35em; vertical-align: middle; margin-left: 0.5rem\">MAS</span>\n",
       "</mark>\n",
       " science company focused on helping healthcare clients find \n",
       "<mark class=\"entity\" style=\"background: linear-gradient(120deg, #a1c4fd, #a1c4fd); padding: 0.45em 0.6em; margin: 0 0.25em; line-height: 1; border-radius: 0.35em;\">\n",
       "    unparalleled\n",
       "    <span style=\"font-size: 0.8em; font-weight: bold; line-height: 1; border-radius: 0.35em; vertical-align: middle; margin-left: 0.5rem\">MAS</span>\n",
       "</mark>\n",
       " insights and better solutions for patients. Formed through the merger of IMS Health and Quintiles, IQVIA offers a broad range of solutions that harness the power of healthcare \n",
       "<mark class=\"entity\" style=\"background: linear-gradient(120deg, #a1c4fd, #a1c4fd); padding: 0.45em 0.6em; margin: 0 0.25em; line-height: 1; border-radius: 0.35em;\">\n",
       "    data\n",
       "    <span style=\"font-size: 0.8em; font-weight: bold; line-height: 1; border-radius: 0.35em; vertical-align: middle; margin-left: 0.5rem\">MAS</span>\n",
       "</mark>\n",
       ", domain expertise, transformative technology, and advanced analytics to drive healthcare forward.    Associate Sales Director, Technology Platforms – Plymouth Meeting, US    Real World Solutions (RWS) Technology    Job Description    Joining a high-profile and talented team as a consummate technology services sales professional within our RWS Technology team, you will focus on our world leading software platforms; Privacy Analytics and E360 and bespoke solutions covering ODHSI, as well as AI &amp; ML - whose complimentary approaches turn learning health systems from concept to reality - to identify opportunities for customized implementations to meet specific client needs.    Privacy Analytics is an innovative suite of \n",
       "<mark class=\"entity\" style=\"background: linear-gradient(120deg, #a1c4fd, #a1c4fd); padding: 0.45em 0.6em; margin: 0 0.25em; line-height: 1; border-radius: 0.35em;\">\n",
       "    data\n",
       "    <span style=\"font-size: 0.8em; font-weight: bold; line-height: 1; border-radius: 0.35em; vertical-align: middle; margin-left: 0.5rem\">MAS</span>\n",
       "</mark>\n",
       " governance software that enables stakeholders to optimize benefits of the growing volume and availability of new, complex datasets while protecting patient privacy. Solutions include scalable tools for de-identifying and anonymizing structured and unstructured patient-level \n",
       "<mark class=\"entity\" style=\"background: linear-gradient(120deg, #a1c4fd, #a1c4fd); padding: 0.45em 0.6em; margin: 0 0.25em; line-height: 1; border-radius: 0.35em;\">\n",
       "    data\n",
       "    <span style=\"font-size: 0.8em; font-weight: bold; line-height: 1; border-radius: 0.35em; vertical-align: middle; margin-left: 0.5rem\">MAS</span>\n",
       "</mark>\n",
       ", across real world datasets and clinical trials. Find out more here: https://privacy-analytics.com    E360 is a comprehensive analytics &amp; software for healthcare \n",
       "<mark class=\"entity\" style=\"background: linear-gradient(120deg, #a1c4fd, #a1c4fd); padding: 0.45em 0.6em; margin: 0 0.25em; line-height: 1; border-radius: 0.35em;\">\n",
       "    research\n",
       "    <span style=\"font-size: 0.8em; font-weight: bold; line-height: 1; border-radius: 0.35em; vertical-align: middle; margin-left: 0.5rem\">MAS</span>\n",
       "</mark>\n",
       ", enabling the curation and real-time analysis for large-scale patient level datasets such as EHR or health plan claims. E360 also enables health systems engagement, through interoperability with EHR systems, to drive innovative medicates development such as via pragmatic trials. Find out more here: https://www.iqvia.com/solutions/real-world-value-and-outcomes/enterprise-technology-and-analytics/e360   Responsibilities      Drive sales across the offering suite to attain sales, revenue, and ebitda quotas as assigned.    \n",
       "<mark class=\"entity\" style=\"background: linear-gradient(120deg, #fdcbf1, #fdcbf1); padding: 0.45em 0.6em; margin: 0 0.25em; line-height: 1; border-radius: 0.35em;\">\n",
       "    Work\n",
       "    <span style=\"font-size: 0.8em; font-weight: bold; line-height: 1; border-radius: 0.35em; vertical-align: middle; margin-left: 0.5rem\">FEM</span>\n",
       "</mark>\n",
       " with sales managers and offering managers to segment clients, build out account plans, and develop / evolve client specific account strategies based on current European client Real-World ecosystems and maturity    Map white space within clients and successfully deploy sales teams to penetrate and drive both revenue &amp; growth    Partner with Global Account Directors to engage C-suite and key influencers and budget holders.    Personally, \n",
       "<mark class=\"entity\" style=\"background: linear-gradient(120deg, #a1c4fd, #a1c4fd); padding: 0.45em 0.6em; margin: 0 0.25em; line-height: 1; border-radius: 0.35em;\">\n",
       "    lead\n",
       "    <span style=\"font-size: 0.8em; font-weight: bold; line-height: 1; border-radius: 0.35em; vertical-align: middle; margin-left: 0.5rem\">MAS</span>\n",
       "</mark>\n",
       " key strategic and/or large opportunities that are critical to achieving global plan and financial goals    \n",
       "<mark class=\"entity\" style=\"background: linear-gradient(120deg, #fdcbf1, #fdcbf1); padding: 0.45em 0.6em; margin: 0 0.25em; line-height: 1; border-radius: 0.35em;\">\n",
       "    Work\n",
       "    <span style=\"font-size: 0.8em; font-weight: bold; line-height: 1; border-radius: 0.35em; vertical-align: middle; margin-left: 0.5rem\">FEM</span>\n",
       "</mark>\n",
       " with current European RBU Sales teams (functional, local) to build a community to drive and increase the account opportunity pipeline e.g. generating leads / open doors for RWT Specialists. Drive clarity in the collaborative sales approach.    \n",
       "<mark class=\"entity\" style=\"background: linear-gradient(120deg, #fdcbf1, #fdcbf1); padding: 0.45em 0.6em; margin: 0 0.25em; line-height: 1; border-radius: 0.35em;\">\n",
       "    Work\n",
       "    <span style=\"font-size: 0.8em; font-weight: bold; line-height: 1; border-radius: 0.35em; vertical-align: middle; margin-left: 0.5rem\">FEM</span>\n",
       "</mark>\n",
       " with offerings teams to provide input to develop and adapt current solutions, to create new &amp; improved client centric offerings    Optimize sales \n",
       "<mark class=\"entity\" style=\"background: linear-gradient(120deg, #a1c4fd, #a1c4fd); padding: 0.45em 0.6em; margin: 0 0.25em; line-height: 1; border-radius: 0.35em;\">\n",
       "    talent\n",
       "    <span style=\"font-size: 0.8em; font-weight: bold; line-height: 1; border-radius: 0.35em; vertical-align: middle; margin-left: 0.5rem\">MAS</span>\n",
       "</mark>\n",
       " within team, identifying opportunities to improve team via training or redeployment. Evaluate team \n",
       "<mark class=\"entity\" style=\"background: linear-gradient(120deg, #a1c4fd, #a1c4fd); padding: 0.45em 0.6em; margin: 0 0.25em; line-height: 1; border-radius: 0.35em;\">\n",
       "    capacity\n",
       "    <span style=\"font-size: 0.8em; font-weight: bold; line-height: 1; border-radius: 0.35em; vertical-align: middle; margin-left: 0.5rem\">MAS</span>\n",
       "</mark>\n",
       " versus revenue and sales expectations.    \n",
       "<mark class=\"entity\" style=\"background: linear-gradient(120deg, #a1c4fd, #a1c4fd); padding: 0.45em 0.6em; margin: 0 0.25em; line-height: 1; border-radius: 0.35em;\">\n",
       "    Lead\n",
       "    <span style=\"font-size: 0.8em; font-weight: bold; line-height: 1; border-radius: 0.35em; vertical-align: middle; margin-left: 0.5rem\">MAS</span>\n",
       "</mark>\n",
       " annual quota setting by client for RWT with input from offering owners.     Essential skills &amp; experience      Bachelor’s degree in with substantial experience in health industry    Extensive knowledge of Real-world tech offerings, customer account management and the pharmaceutical industry    Demonstrated \n",
       "<mark class=\"entity\" style=\"background: linear-gradient(120deg, #a1c4fd, #a1c4fd); padding: 0.45em 0.6em; margin: 0 0.25em; line-height: 1; border-radius: 0.35em;\">\n",
       "    ability\n",
       "    <span style=\"font-size: 0.8em; font-weight: bold; line-height: 1; border-radius: 0.35em; vertical-align: middle; margin-left: 0.5rem\">MAS</span>\n",
       "</mark>\n",
       " to influence senior level execs both internally and at customer organizations    \n",
       "<mark class=\"entity\" style=\"background: linear-gradient(120deg, #a1c4fd, #a1c4fd); padding: 0.45em 0.6em; margin: 0 0.25em; line-height: 1; border-radius: 0.35em;\">\n",
       "    Ability\n",
       "    <span style=\"font-size: 0.8em; font-weight: bold; line-height: 1; border-radius: 0.35em; vertical-align: middle; margin-left: 0.5rem\">MAS</span>\n",
       "</mark>\n",
       " to \n",
       "<mark class=\"entity\" style=\"background: linear-gradient(120deg, #fdcbf1, #fdcbf1); padding: 0.45em 0.6em; margin: 0 0.25em; line-height: 1; border-radius: 0.35em;\">\n",
       "    work\n",
       "    <span style=\"font-size: 0.8em; font-weight: bold; line-height: 1; border-radius: 0.35em; vertical-align: middle; margin-left: 0.5rem\">FEM</span>\n",
       "</mark>\n",
       " independently and engage stakeholders across organization both internally and externally    Demonstrated leadership thinking strategically and acting with vision and \n",
       "<mark class=\"entity\" style=\"background: linear-gradient(120deg, #a1c4fd, #a1c4fd); padding: 0.45em 0.6em; margin: 0 0.25em; line-height: 1; border-radius: 0.35em;\">\n",
       "    ability\n",
       "    <span style=\"font-size: 0.8em; font-weight: bold; line-height: 1; border-radius: 0.35em; vertical-align: middle; margin-left: 0.5rem\">MAS</span>\n",
       "</mark>\n",
       " to drive innovation     The Team    The RWS Technology &amp; \n",
       "<mark class=\"entity\" style=\"background: linear-gradient(120deg, #a1c4fd, #a1c4fd); padding: 0.45em 0.6em; margin: 0 0.25em; line-height: 1; border-radius: 0.35em;\">\n",
       "    Data\n",
       "    <span style=\"font-size: 0.8em; font-weight: bold; line-height: 1; border-radius: 0.35em; vertical-align: middle; margin-left: 0.5rem\">MAS</span>\n",
       "</mark>\n",
       " Science mission is to deliver world-\n",
       "<mark class=\"entity\" style=\"background: linear-gradient(120deg, #fdcbf1, #fdcbf1); padding: 0.45em 0.6em; margin: 0 0.25em; line-height: 1; border-radius: 0.35em;\">\n",
       "    class\n",
       "    <span style=\"font-size: 0.8em; font-weight: bold; line-height: 1; border-radius: 0.35em; vertical-align: middle; margin-left: 0.5rem\">FEM</span>\n",
       "</mark>\n",
       " and globally scalable technology platforms and analytics applied to complex and large-scale clinical datasets, to \n",
       "<mark class=\"entity\" style=\"background: linear-gradient(120deg, #fdcbf1, #fdcbf1); padding: 0.45em 0.6em; margin: 0 0.25em; line-height: 1; border-radius: 0.35em;\">\n",
       "    support\n",
       "    <span style=\"font-size: 0.8em; font-weight: bold; line-height: 1; border-radius: 0.35em; vertical-align: middle; margin-left: 0.5rem\">FEM</span>\n",
       "</mark>\n",
       " IQVIA's ongoing and rapid growth in RWS Solutions, as well as the development of new product lines - this requires global leadership across technical and \n",
       "<mark class=\"entity\" style=\"background: linear-gradient(120deg, #a1c4fd, #a1c4fd); padding: 0.45em 0.6em; margin: 0 0.25em; line-height: 1; border-radius: 0.35em;\">\n",
       "    data\n",
       "    <span style=\"font-size: 0.8em; font-weight: bold; line-height: 1; border-radius: 0.35em; vertical-align: middle; margin-left: 0.5rem\">MAS</span>\n",
       "</mark>\n",
       " architecture, software development and \n",
       "<mark class=\"entity\" style=\"background: linear-gradient(120deg, #a1c4fd, #a1c4fd); padding: 0.45em 0.6em; margin: 0 0.25em; line-height: 1; border-radius: 0.35em;\">\n",
       "    data\n",
       "    <span style=\"font-size: 0.8em; font-weight: bold; line-height: 1; border-radius: 0.35em; vertical-align: middle; margin-left: 0.5rem\">MAS</span>\n",
       "</mark>\n",
       " visualization, privacy management, \n",
       "<mark class=\"entity\" style=\"background: linear-gradient(120deg, #a1c4fd, #a1c4fd); padding: 0.45em 0.6em; margin: 0 0.25em; line-height: 1; border-radius: 0.35em;\">\n",
       "    analytical\n",
       "    <span style=\"font-size: 0.8em; font-weight: bold; line-height: 1; border-radius: 0.35em; vertical-align: middle; margin-left: 0.5rem\">MAS</span>\n",
       "</mark>\n",
       " methods, \n",
       "<mark class=\"entity\" style=\"background: linear-gradient(120deg, #a1c4fd, #a1c4fd); padding: 0.45em 0.6em; margin: 0 0.25em; line-height: 1; border-radius: 0.35em;\">\n",
       "    data\n",
       "    <span style=\"font-size: 0.8em; font-weight: bold; line-height: 1; border-radius: 0.35em; vertical-align: middle; margin-left: 0.5rem\">MAS</span>\n",
       "</mark>\n",
       " science, machine learning, deep learning, and \n",
       "<mark class=\"entity\" style=\"background: linear-gradient(120deg, #a1c4fd, #a1c4fd); padding: 0.45em 0.6em; margin: 0 0.25em; line-height: 1; border-radius: 0.35em;\">\n",
       "    natural\n",
       "    <span style=\"font-size: 0.8em; font-weight: bold; line-height: 1; border-radius: 0.35em; vertical-align: middle; margin-left: 0.5rem\">MAS</span>\n",
       "</mark>\n",
       " language processing (NLP) - building upon 100s of novel technologies and methods either published in peer-reviewed journals or patented by our team.    We are serious about healthcare software. We don’t have ping pong or a snooze room. We have a dedicated, collaborative team with meaningful shared goals who can use the \n",
       "<mark class=\"entity\" style=\"background: linear-gradient(120deg, #a1c4fd, #a1c4fd); padding: 0.45em 0.6em; margin: 0 0.25em; line-height: 1; border-radius: 0.35em;\">\n",
       "    most\n",
       "    <span style=\"font-size: 0.8em; font-weight: bold; line-height: 1; border-radius: 0.35em; vertical-align: middle; margin-left: 0.5rem\">MAS</span>\n",
       "</mark>\n",
       " cutting-edge technology, the largest \n",
       "<mark class=\"entity\" style=\"background: linear-gradient(120deg, #a1c4fd, #a1c4fd); padding: 0.45em 0.6em; margin: 0 0.25em; line-height: 1; border-radius: 0.35em;\">\n",
       "    data\n",
       "    <span style=\"font-size: 0.8em; font-weight: bold; line-height: 1; border-radius: 0.35em; vertical-align: middle; margin-left: 0.5rem\">MAS</span>\n",
       "</mark>\n",
       " sets, and the \n",
       "<mark class=\"entity\" style=\"background: linear-gradient(120deg, #a1c4fd, #a1c4fd); padding: 0.45em 0.6em; margin: 0 0.25em; line-height: 1; border-radius: 0.35em;\">\n",
       "    best\n",
       "    <span style=\"font-size: 0.8em; font-weight: bold; line-height: 1; border-radius: 0.35em; vertical-align: middle; margin-left: 0.5rem\">MAS</span>\n",
       "</mark>\n",
       " analytics tools to achieve them. And we have fun on the journey!    We invite you to be part of a recognized global leader willing to \n",
       "<mark class=\"entity\" style=\"background: linear-gradient(120deg, #a1c4fd, #a1c4fd); padding: 0.45em 0.6em; margin: 0 0.25em; line-height: 1; border-radius: 0.35em;\">\n",
       "    challenge\n",
       "    <span style=\"font-size: 0.8em; font-weight: bold; line-height: 1; border-radius: 0.35em; vertical-align: middle; margin-left: 0.5rem\">MAS</span>\n",
       "</mark>\n",
       " the status quo to improve patient care. You will be in good company, amongst some of the finest minds in Technology and Healthcare.    Why Join?    Those who join us become part of a recognized global leader still willing to \n",
       "<mark class=\"entity\" style=\"background: linear-gradient(120deg, #a1c4fd, #a1c4fd); padding: 0.45em 0.6em; margin: 0 0.25em; line-height: 1; border-radius: 0.35em;\">\n",
       "    challenge\n",
       "    <span style=\"font-size: 0.8em; font-weight: bold; line-height: 1; border-radius: 0.35em; vertical-align: middle; margin-left: 0.5rem\">MAS</span>\n",
       "</mark>\n",
       " the status quo to improve patient care. In RWS, you will have access to the \n",
       "<mark class=\"entity\" style=\"background: linear-gradient(120deg, #a1c4fd, #a1c4fd); padding: 0.45em 0.6em; margin: 0 0.25em; line-height: 1; border-radius: 0.35em;\">\n",
       "    most\n",
       "    <span style=\"font-size: 0.8em; font-weight: bold; line-height: 1; border-radius: 0.35em; vertical-align: middle; margin-left: 0.5rem\">MAS</span>\n",
       "</mark>\n",
       " cutting-edge technology, the largest \n",
       "<mark class=\"entity\" style=\"background: linear-gradient(120deg, #a1c4fd, #a1c4fd); padding: 0.45em 0.6em; margin: 0 0.25em; line-height: 1; border-radius: 0.35em;\">\n",
       "    data\n",
       "    <span style=\"font-size: 0.8em; font-weight: bold; line-height: 1; border-radius: 0.35em; vertical-align: middle; margin-left: 0.5rem\">MAS</span>\n",
       "</mark>\n",
       " sets, the \n",
       "<mark class=\"entity\" style=\"background: linear-gradient(120deg, #a1c4fd, #a1c4fd); padding: 0.45em 0.6em; margin: 0 0.25em; line-height: 1; border-radius: 0.35em;\">\n",
       "    best\n",
       "    <span style=\"font-size: 0.8em; font-weight: bold; line-height: 1; border-radius: 0.35em; vertical-align: middle; margin-left: 0.5rem\">MAS</span>\n",
       "</mark>\n",
       " analytics tools and, in our \n",
       "<mark class=\"entity\" style=\"background: linear-gradient(120deg, #a1c4fd, #a1c4fd); padding: 0.45em 0.6em; margin: 0 0.25em; line-height: 1; border-radius: 0.35em;\">\n",
       "    opinion\n",
       "    <span style=\"font-size: 0.8em; font-weight: bold; line-height: 1; border-radius: 0.35em; vertical-align: middle; margin-left: 0.5rem\">MAS</span>\n",
       "</mark>\n",
       ", some of the finest minds in the Healthcare industry.    You can drive your career at IQVIA and choose the path that \n",
       "<mark class=\"entity\" style=\"background: linear-gradient(120deg, #a1c4fd, #a1c4fd); padding: 0.45em 0.6em; margin: 0 0.25em; line-height: 1; border-radius: 0.35em;\">\n",
       "    best\n",
       "    <span style=\"font-size: 0.8em; font-weight: bold; line-height: 1; border-radius: 0.35em; vertical-align: middle; margin-left: 0.5rem\">MAS</span>\n",
       "</mark>\n",
       " defines your development and success. With exposure across diverse geographies, capabilities, and vast therapeutic and information and technology areas, you can seek opportunities to change and grow without boundaries.      Join Us      Making a positive impact on human health takes \n",
       "<mark class=\"entity\" style=\"background: linear-gradient(120deg, #a1c4fd, #a1c4fd); padding: 0.45em 0.6em; margin: 0 0.25em; line-height: 1; border-radius: 0.35em;\">\n",
       "    insight\n",
       "    <span style=\"font-size: 0.8em; font-weight: bold; line-height: 1; border-radius: 0.35em; vertical-align: middle; margin-left: 0.5rem\">MAS</span>\n",
       "</mark>\n",
       ", curiosity, and intellectual courage. It takes brave minds, pushing the boundaries to transform healthcare. Regardless of your role, you will have the opportunity to play an important part in helping our clients drive healthcare forward and ultimately improve outcomes for patients.      Forge a career with greater purpose, make an impact, and never stop learning.    IQVIA is an EEO Employer - Minorities/Females/Protected Veterans/Disabled      IQVIA, Inc. provides reasonable accommodations for applicants with disabilities. Applicants who require reasonable accommodation to submit an application for employment or otherwise participate in the application process should contact IQVIA’s \n",
       "<mark class=\"entity\" style=\"background: linear-gradient(120deg, #a1c4fd, #a1c4fd); padding: 0.45em 0.6em; margin: 0 0.25em; line-height: 1; border-radius: 0.35em;\">\n",
       "    Talent\n",
       "    <span style=\"font-size: 0.8em; font-weight: bold; line-height: 1; border-radius: 0.35em; vertical-align: middle; margin-left: 0.5rem\">MAS</span>\n",
       "</mark>\n",
       " Acquisition team at  workday_recruiting@iqvia.com  to arrange for such an accommodation.      Job ID:  R1087625</div></span>"
      ],
      "text/plain": [
       "<IPython.core.display.HTML object>"
      ]
     },
     "metadata": {},
     "output_type": "display_data"
    }
   ],
   "source": [
    "displacy.render(top_masc['spacy'].iloc[2], style='ent', options=options)"
   ]
  },
  {
   "attachments": {},
   "cell_type": "markdown",
   "metadata": {},
   "source": [
    "## Feminine"
   ]
  },
  {
   "cell_type": "code",
   "execution_count": 76,
   "metadata": {},
   "outputs": [
    {
     "data": {
      "text/html": [
       "<span class=\"tex2jax_ignore\"><div class=\"entities\" style=\"line-height: 2.5; direction: ltr\">    Posting Date  Sep 06, 2019   Job Number  19124934   Job Category  Food and Beverage &amp; Culinary   Location  W Hoboken, 225 River St, Hoboken, New Jersey, United States VIEW ON MAP   Brand  W Hotels   Schedule  Full-time   Relocation?  No   Position Type  Non-Management/Hourly     Start Your Journey With Us   Boldly coloring outside the lines of luxury, W turns the traditional notion of the extravagant hotel on its head. Our irreverent attitude and taste for excess redefine revelry for the modern jet set. Our guests have a lust for a life less ordinary that drives them to demand more, experience it all, and hit repeat.  We \n",
       "<mark class=\"entity\" style=\"background: linear-gradient(120deg, #fdcbf1, #fdcbf1); padding: 0.45em 0.6em; margin: 0 0.25em; line-height: 1; border-radius: 0.35em;\">\n",
       "    share\n",
       "    <span style=\"font-size: 0.8em; font-weight: bold; line-height: 1; border-radius: 0.35em; vertical-align: middle; margin-left: 0.5rem\">FEM</span>\n",
       "</mark>\n",
       " our guests’ passions, providing insider access to what’s new and what’s next. Moderation is not in our vocabulary and we know that lust for life demands more, not less. W guests soak it in and live each day with a mantra: Detox.Retox.Repeat. If you’re ready to create the energetic W scene that is magnetic to everyday disruptors around the world, then we invite you to explore a career with W Hotels.       Job Summary          Facilitate positive guest experiences with the in-room honor bar. Inventory honor bar, in-room accessories and promotional materials and replace if required. Maintain the cleanliness and appearance of each honor bar. Utilize software and hand held devices to record sales and take inventory, as appropriate. Maintain an awareness of products availability, product expiration dates, and inventory levels to prevent stock-out situations. Prepare a restocking cart, and push the cart to the floors where rooms are ready to inventory. Respond to requests from guests. \n",
       "<mark class=\"entity\" style=\"background: linear-gradient(120deg, #fdcbf1, #fdcbf1); padding: 0.45em 0.6em; margin: 0 0.25em; line-height: 1; border-radius: 0.35em;\">\n",
       "    Communicate\n",
       "    <span style=\"font-size: 0.8em; font-weight: bold; line-height: 1; border-radius: 0.35em; vertical-align: middle; margin-left: 0.5rem\">FEM</span>\n",
       "</mark>\n",
       " any issues regarding the honor bar operation with hotel management.      Follow all company and safety and security policies and procedures; report accidents, injuries, and unsafe \n",
       "<mark class=\"entity\" style=\"background: linear-gradient(120deg, #fdcbf1, #fdcbf1); padding: 0.45em 0.6em; margin: 0 0.25em; line-height: 1; border-radius: 0.35em;\">\n",
       "    work\n",
       "    <span style=\"font-size: 0.8em; font-weight: bold; line-height: 1; border-radius: 0.35em; vertical-align: middle; margin-left: 0.5rem\">FEM</span>\n",
       "</mark>\n",
       " conditions to manager; and complete safety training and certifications. Ensure uniform and personal appearance are clean and professional, maintain confidentiality of proprietary information, and protect company assets. Welcome and acknowledge all guests according to company standards, anticipate and address guests’ \n",
       "<mark class=\"entity\" style=\"background: linear-gradient(120deg, #fdcbf1, #fdcbf1); padding: 0.45em 0.6em; margin: 0 0.25em; line-height: 1; border-radius: 0.35em;\">\n",
       "    service\n",
       "    <span style=\"font-size: 0.8em; font-weight: bold; line-height: 1; border-radius: 0.35em; vertical-align: middle; margin-left: 0.5rem\">FEM</span>\n",
       "</mark>\n",
       " needs, and thank guests with genuine appreciation. Ensure adherence to quality expectations and standards. Develop and maintain positive working relationships with others, \n",
       "<mark class=\"entity\" style=\"background: linear-gradient(120deg, #fdcbf1, #fdcbf1); padding: 0.45em 0.6em; margin: 0 0.25em; line-height: 1; border-radius: 0.35em;\">\n",
       "    support\n",
       "    <span style=\"font-size: 0.8em; font-weight: bold; line-height: 1; border-radius: 0.35em; vertical-align: middle; margin-left: 0.5rem\">FEM</span>\n",
       "</mark>\n",
       " team to reach common goals. Speak with others using clear and professional language. Read and visually verify information in a variety of formats (e.g., small print). Stand, sit, or walk for an extended period of time or for an entire \n",
       "<mark class=\"entity\" style=\"background: linear-gradient(120deg, #fdcbf1, #fdcbf1); padding: 0.45em 0.6em; margin: 0 0.25em; line-height: 1; border-radius: 0.35em;\">\n",
       "    work\n",
       "    <span style=\"font-size: 0.8em; font-weight: bold; line-height: 1; border-radius: 0.35em; vertical-align: middle; margin-left: 0.5rem\">FEM</span>\n",
       "</mark>\n",
       " shift. Move, lift, carry, push, pull, and place objects weighing less than or equal to 25 pounds without assistance. Grasp, turn, and manipulate objects of varying size and weight, requiring fine motor skills and hand-eye coordination. Move through narrow, confined, or elevated spaces as well as up and down stairs and/or \n",
       "<mark class=\"entity\" style=\"background: linear-gradient(120deg, #fdcbf1, #fdcbf1); padding: 0.45em 0.6em; margin: 0 0.25em; line-height: 1; border-radius: 0.35em;\">\n",
       "    service\n",
       "    <span style=\"font-size: 0.8em; font-weight: bold; line-height: 1; border-radius: 0.35em; vertical-align: middle; margin-left: 0.5rem\">FEM</span>\n",
       "</mark>\n",
       " ramps. Reach overhead and below the knees, including bending, twisting, pulling, and stooping. Perform other reasonable job duties as requested by Supervisors.        Marriott International is an equal opportunity employer committed to hiring a diverse workforce and sustaining an \n",
       "<mark class=\"entity\" style=\"background: linear-gradient(120deg, #fdcbf1, #fdcbf1); padding: 0.45em 0.6em; margin: 0 0.25em; line-height: 1; border-radius: 0.35em;\">\n",
       "    inclusive\n",
       "    <span style=\"font-size: 0.8em; font-weight: bold; line-height: 1; border-radius: 0.35em; vertical-align: middle; margin-left: 0.5rem\">FEM</span>\n",
       "</mark>\n",
       " culture. Marriott International does not discriminate on the basis of disability, veteran status or any other basis protected under federal, state or local laws.  </div></span>"
      ],
      "text/plain": [
       "<IPython.core.display.HTML object>"
      ]
     },
     "metadata": {},
     "output_type": "display_data"
    }
   ],
   "source": [
    "displacy.render(top_fem['spacy'].iloc[0], style='ent', options=options)"
   ]
  },
  {
   "cell_type": "code",
   "execution_count": 77,
   "metadata": {},
   "outputs": [
    {
     "data": {
      "text/html": [
       "<span class=\"tex2jax_ignore\"><div class=\"entities\" style=\"line-height: 2.5; direction: ltr\">  I look forward to speaking with you. With your experience, I’m certain you will do extremely well in our system. We are a explosive company with many opportunities for prosperity. Questions, reach out to me. cell (630)484-4625.   We currently use business software products that are operational in the United States. With new markets opening up this has created an increased demand for more account sales reps.   As a Rep you will be compensated three different ways:   1) $750-$1,500 Commission paid at the point of sale. Receive inbound calls via our virtual office from customers looking for our product. 3 sales per week over five day \n",
       "<mark class=\"entity\" style=\"background: linear-gradient(120deg, #fdcbf1, #fdcbf1); padding: 0.45em 0.6em; margin: 0 0.25em; line-height: 1; border-radius: 0.35em;\">\n",
       "    work\n",
       "    <span style=\"font-size: 0.8em; font-weight: bold; line-height: 1; border-radius: 0.35em; vertical-align: middle; margin-left: 0.5rem\">FEM</span>\n",
       "</mark>\n",
       " week= $2K plus per week.   2) RMP Marketing Platform   3) VM Broadcast Marketing Service- Average Commission is $600 per closed account paid monthly.   All sales begin with the customer initiating contact. So there is no cold calling whatsoever. You can take calls from the call center 24 hours a day.   If you can answer inbound sales calls and follow a short script, you qualify for this sales opportunity.   Please view the links below for a presentation of the product we’re selling and our live inbound call center. Write down any questions you may have and give me a call.   Webinar One —Software Products Information, how to make money without selling anything. http://wi.st/24xhCEH  WATCH IN FULL 19min   Webinar Two – Software Packages &amp; about our multi-channel call system etc.   MUST WATCH WEBINARS IN FULL.   Also if you are interested in the software itself you can buy it, You can also start without buying the software.   After you’re finished with the webinars in full, then contact Toby Williams and proceed to the 2nd part of the interview.   Sincerely   Toby Williams MA (630)484-4625 Illinois Department of Insurance License Number 016945373   Job Types: Full-time, Part-time, Commission   Salary: $30,000.00 to $40,000.00 /year   Experience:   Customer \n",
       "<mark class=\"entity\" style=\"background: linear-gradient(120deg, #fdcbf1, #fdcbf1); padding: 0.45em 0.6em; margin: 0 0.25em; line-height: 1; border-radius: 0.35em;\">\n",
       "    Service\n",
       "    <span style=\"font-size: 0.8em; font-weight: bold; line-height: 1; border-radius: 0.35em; vertical-align: middle; margin-left: 0.5rem\">FEM</span>\n",
       "</mark>\n",
       ": 1 year (Preferred)  </div></span>"
      ],
      "text/plain": [
       "<IPython.core.display.HTML object>"
      ]
     },
     "metadata": {},
     "output_type": "display_data"
    }
   ],
   "source": [
    "displacy.render(top_fem['spacy'].iloc[1], style='ent', options=options)"
   ]
  },
  {
   "cell_type": "code",
   "execution_count": 78,
   "metadata": {},
   "outputs": [
    {
     "data": {
      "text/html": [
       "<span class=\"tex2jax_ignore\"><div class=\"entities\" style=\"line-height: 2.5; direction: ltr\">      Posting Date  Jul 19, 2019   Job Number  19099526   Job Category  Sales and Marketing   Location  Gaylord National Resort &amp; Convention Center, 201 Waterfront Street, Oxon Hill, Maryland, United States VIEW ON MAP   Brand  Gaylord Hotels   Schedule  Seasonal - Part-Time   Position Type  Non-Management/Hourly     Start Your Journey With Us     Gaylord Hotels is a multi-location hospitality brand guided by a single focus: extraordinary meetings and conventions. From guest rooms and meeting space, to entertainment and dining all in a self-contained environment, Gaylord Hotels makes meeting planning easy and provides attendees great networking opportunities. As a Gaylord Hotels STAR, you'll bring your \n",
       "<mark class=\"entity\" style=\"background: linear-gradient(120deg, #fdcbf1, #fdcbf1); padding: 0.45em 0.6em; margin: 0 0.25em; line-height: 1; border-radius: 0.35em;\">\n",
       "    warm\n",
       "    <span style=\"font-size: 0.8em; font-weight: bold; line-height: 1; border-radius: 0.35em; vertical-align: middle; margin-left: 0.5rem\">FEM</span>\n",
       "</mark>\n",
       " smile, genuine excitement and a “consider it done” spirit to \n",
       "<mark class=\"entity\" style=\"background: linear-gradient(120deg, #fdcbf1, #fdcbf1); padding: 0.45em 0.6em; margin: 0 0.25em; line-height: 1; border-radius: 0.35em;\">\n",
       "    work\n",
       "    <span style=\"font-size: 0.8em; font-weight: bold; line-height: 1; border-radius: 0.35em; vertical-align: middle; margin-left: 0.5rem\">FEM</span>\n",
       "</mark>\n",
       ". In return, you’ll experience the rewards of growing your career among a team of professionals with a passion for excellence. Ready for a change? Take the initiative. Enjoy the Rewards.           Job Summary         Promote awareness of brand image internally and externally. Develop marketing materials and assemble information packages (e.g., brochures, promotional materials, maps) for promotional events, property tours, and conferences. Prepare or edit letters, invitations, monthly and quarterly press reports, and news releases, using word processing, spreadsheet, database, or presentation software. Make updates to property website and monitor website for accuracy on a weekly basis. Handle magazine photo shoots on property. When public relations director is not available, response to all daily general media inquiries or refer to an appropriate spokesperson. Help to monitor media coverage and other external factors to identify potential or actual problem areas and opportunities. \n",
       "<mark class=\"entity\" style=\"background: linear-gradient(120deg, #fdcbf1, #fdcbf1); padding: 0.45em 0.6em; margin: 0 0.25em; line-height: 1; border-radius: 0.35em;\">\n",
       "    Support\n",
       "    <span style=\"font-size: 0.8em; font-weight: bold; line-height: 1; border-radius: 0.35em; vertical-align: middle; margin-left: 0.5rem\">FEM</span>\n",
       "</mark>\n",
       " media relations outreach efforts and other activities to bolster the property's reputation and image in the community. Coordinate on-property visits from media, including reservations, amenities, special requests, and dining. File and update press database, digital library, and press clippings.       Follow all company policies and procedures; ensure uniform and personal appearance are clean and professional; maintain confidentiality of proprietary information; protect the privacy and security of guests and coworkers. Welcome and acknowledge all guests according to company standards; anticipate and address guests' \n",
       "<mark class=\"entity\" style=\"background: linear-gradient(120deg, #fdcbf1, #fdcbf1); padding: 0.45em 0.6em; margin: 0 0.25em; line-height: 1; border-radius: 0.35em;\">\n",
       "    service\n",
       "    <span style=\"font-size: 0.8em; font-weight: bold; line-height: 1; border-radius: 0.35em; vertical-align: middle; margin-left: 0.5rem\">FEM</span>\n",
       "</mark>\n",
       " needs; thank guests with genuine appreciation. Speak with others using clear and professional language; prepare and review written documents accurately and completely; answer telephones using appropriate etiquette. Develop and maintain positive working relationships with others; \n",
       "<mark class=\"entity\" style=\"background: linear-gradient(120deg, #fdcbf1, #fdcbf1); padding: 0.45em 0.6em; margin: 0 0.25em; line-height: 1; border-radius: 0.35em;\">\n",
       "    support\n",
       "    <span style=\"font-size: 0.8em; font-weight: bold; line-height: 1; border-radius: 0.35em; vertical-align: middle; margin-left: 0.5rem\">FEM</span>\n",
       "</mark>\n",
       " team to reach common goals; listen and respond appropriately to the concerns of other employees. Read and visually verify information in a variety of formats. Move, lift, carry, push, pull, and place objects weighing less than or equal to 10 pounds without assistance. Perform other reasonable job duties as requested by Supervisors.          Marriott International is an equal opportunity employer committed to hiring a diverse workforce and sustaining an \n",
       "<mark class=\"entity\" style=\"background: linear-gradient(120deg, #fdcbf1, #fdcbf1); padding: 0.45em 0.6em; margin: 0 0.25em; line-height: 1; border-radius: 0.35em;\">\n",
       "    inclusive\n",
       "    <span style=\"font-size: 0.8em; font-weight: bold; line-height: 1; border-radius: 0.35em; vertical-align: middle; margin-left: 0.5rem\">FEM</span>\n",
       "</mark>\n",
       " culture. Marriott International does not discriminate on the basis of disability, veteran status or any other basis protected under federal, state or local laws.        </div></span>"
      ],
      "text/plain": [
       "<IPython.core.display.HTML object>"
      ]
     },
     "metadata": {},
     "output_type": "display_data"
    }
   ],
   "source": [
    "displacy.render(top_fem['spacy'].iloc[2], style='ent', options=options)"
   ]
  },
  {
   "cell_type": "code",
   "execution_count": null,
   "metadata": {},
   "outputs": [],
   "source": []
  }
 ],
 "metadata": {
  "kernelspec": {
   "display_name": "base",
   "language": "python",
   "name": "python3"
  },
  "language_info": {
   "codemirror_mode": {
    "name": "ipython",
    "version": 3
   },
   "file_extension": ".py",
   "mimetype": "text/x-python",
   "name": "python",
   "nbconvert_exporter": "python",
   "pygments_lexer": "ipython3",
   "version": "3.10.9"
  },
  "orig_nbformat": 4
 },
 "nbformat": 4,
 "nbformat_minor": 2
}
