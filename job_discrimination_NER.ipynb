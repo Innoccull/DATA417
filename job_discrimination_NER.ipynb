{
 "cells": [
  {
   "cell_type": "code",
   "execution_count": 76,
   "metadata": {},
   "outputs": [],
   "source": [
    "# Import necessary libraries\n",
    "\n",
    "import pandas as pd\n",
    "from bs4 import BeautifulSoup\n",
    "import os\n",
    "import spacy\n",
    "\n",
    "import csv\n",
    "import json\n",
    "import itertools\n",
    "\n",
    "from pathlib import Path\n",
    "\n",
    "import csv\n",
    "import json\n",
    "import pandas as pd\n",
    "import spacy\n",
    "import math\n",
    "\n",
    "\n",
    "from bs4 import BeautifulSoup\n",
    "from spacy import displacy\n",
    "from pathlib import Path\n",
    "from cairosvg import svg2png"
   ]
  },
  {
   "attachments": {},
   "cell_type": "markdown",
   "metadata": {},
   "source": [
    "## Load and clean job descriptions"
   ]
  },
  {
   "attachments": {},
   "cell_type": "markdown",
   "metadata": {},
   "source": [
    "Load and clean the indeed.com job advertisement data."
   ]
  },
  {
   "cell_type": "code",
   "execution_count": 77,
   "metadata": {},
   "outputs": [],
   "source": [
    "# Get current directory for constructing file paths\n",
    "current_directory = os.getcwd()"
   ]
  },
  {
   "cell_type": "code",
   "execution_count": 78,
   "metadata": {},
   "outputs": [],
   "source": [
    "# Load job data\n",
    "path = Path(os.path.join(current_directory, \"data/jobs_raw.zip\"))\n",
    "df = pd.read_csv(path)\n",
    "\n",
    "# Get just job descriptions\n",
    "descriptions = df['Job Description']"
   ]
  },
  {
   "cell_type": "code",
   "execution_count": 79,
   "metadata": {},
   "outputs": [],
   "source": [
    "# Function to tidy job description data\n",
    "def pre_process_text(description, html=True):\n",
    "\n",
    "    text = description\n",
    "\n",
    "    if(html):\n",
    "        soup = BeautifulSoup(description, \"html.parser\")\n",
    "        text = soup.get_text(separator=' ')\n",
    "\n",
    "        # Replace newline characters with spaces\n",
    "        text = text.replace('\\n', ' ')\n",
    "\n",
    "\n",
    "    # set to lower\n",
    "    text = text.lower()\n",
    "\n",
    "\n",
    "    return text"
   ]
  },
  {
   "cell_type": "code",
   "execution_count": 80,
   "metadata": {},
   "outputs": [],
   "source": [
    "# Tidy and save descriptions - taking a random sample of 1000 descriptions\n",
    "result = descriptions.sample(n=1000, random_state=2)\n",
    "result = result.apply(pre_process_text)\n",
    "\n",
    "result.to_csv(\"data/descriptions_clean.csv\")"
   ]
  },
  {
   "attachments": {},
   "cell_type": "markdown",
   "metadata": {},
   "source": [
    "## Create training data"
   ]
  },
  {
   "attachments": {},
   "cell_type": "markdown",
   "metadata": {},
   "source": [
    "Create training data to be used for training ner model."
   ]
  },
  {
   "cell_type": "code",
   "execution_count": 81,
   "metadata": {},
   "outputs": [],
   "source": [
    "# Define the file paths for the CSV and JSONL files\n",
    "csv_file_path = Path(os.path.join(current_directory, \"data/descriptions_clean.csv\"))\n",
    "jsonl_file_path = Path(os.path.join(current_directory, \"data/data.jsonl\"))\n",
    "masculine_file_path = Path(os.path.join(current_directory, \"data/masculine.csv\"))\n",
    "feminine__file_path = Path(os.path.join(current_directory, \"data/feminine.csv\"))\n",
    "\n",
    "\n",
    "# Load word lists\n",
    "with open(masculine_file_path, newline='') as f:\n",
    "    masculine_words = [row[0] for row in csv.reader(f)]\n",
    "with open(feminine__file_path, newline='') as f:\n",
    "    feminine_words = [row[0] for row in csv.reader(f)]\n",
    "\n",
    "# Create dictionary of word lists\n",
    "wordlists = {\n",
    "    \"MAS\" : masculine_words,\n",
    "    \"FEM\" : feminine_words\n",
    "}"
   ]
  },
  {
   "cell_type": "code",
   "execution_count": 82,
   "metadata": {},
   "outputs": [],
   "source": [
    "# Load spacy\n",
    "nlp = spacy.load('en_core_web_sm')"
   ]
  },
  {
   "cell_type": "code",
   "execution_count": 83,
   "metadata": {},
   "outputs": [],
   "source": [
    "# Define helper functions\n",
    "\n",
    "# Set index of matches in a given text in a spacy document - returns a list of indices that show where word matches appear\n",
    "def match_words(text):\n",
    "    # Create an empty list to store the matches\n",
    "    matches = []\n",
    "    # Create a spaCy Doc object from the text\n",
    "    doc = nlp(text)\n",
    "    # Loop through the word lists and check for matches\n",
    "    for list_name, word_list in wordlists.items():\n",
    "        for word in word_list:\n",
    "            for token in doc:\n",
    "                if token.text.lower() == word:\n",
    "                    matches.append(\n",
    "                        [\n",
    "                            token.idx,\n",
    "                            token.idx + len(token.text),\n",
    "                            list_name\n",
    "                        ]\n",
    "                    )\n",
    "    # Return the matches\n",
    "    return matches\n",
    "\n",
    "\n",
    "# Process each row of a CSV file to identify matches - returns a dictionary of the text and the matches\n",
    "def process_row(row):\n",
    "    # Get the text description from the row\n",
    "    text = row[\"Job Description\"]\n",
    "    # Match the words in the text and get the label attributes\n",
    "    matches = match_words(text)\n",
    "    # Return a dictionary with the text and label attributes\n",
    "    return {\"text\": text, \"label\": matches}"
   ]
  },
  {
   "cell_type": "code",
   "execution_count": 84,
   "metadata": {},
   "outputs": [],
   "source": [
    "# Read in the CSV file and create a list of processed rows\n",
    "processed_rows = []\n",
    "with open(csv_file_path) as csvfile:\n",
    "    reader = csv.DictReader(csvfile)\n",
    "    for row in reader:\n",
    "        processed_rows.append(process_row(row))"
   ]
  },
  {
   "cell_type": "code",
   "execution_count": 85,
   "metadata": {},
   "outputs": [],
   "source": [
    "# Write the processed rows to a JSONL file - JSONL files can be loaded to doccano for review\n",
    "with open(jsonl_file_path, \"w\") as outfile:\n",
    "    for row in processed_rows:\n",
    "        json.dump(row, outfile)\n",
    "        outfile.write(\"\\n\")"
   ]
  },
  {
   "cell_type": "code",
   "execution_count": 86,
   "metadata": {},
   "outputs": [],
   "source": [
    "# Define the file paths for where train and test datasets will be saved\n",
    "train_file_path = Path(os.path.join(current_directory, \"ner_model/assets/train.json\"))\n",
    "test_file_path = Path(os.path.join(current_directory, \"ner_model/assets/dev.json\"))\n",
    "\n",
    "\n",
    "# Create train and dev versions the job description data\n",
    "result = []\n",
    "\n",
    "with open(jsonl_file_path, 'r') as f:\n",
    "    for line in f.readlines():\n",
    "        data = json.loads(line)\n",
    "\n",
    "        labels = data['label']\n",
    "        labels.sort()\n",
    "        labels = list(l for l,_ in itertools.groupby(labels))\n",
    "\n",
    "        entry = [data['text'], {\"entities\" : labels}]\n",
    "\n",
    "        result.append(entry)\n",
    "    \n",
    "    n = len(result)\n",
    "    n_train = int(n * 0.7)\n",
    "\n",
    "    train = result[0:n_train]\n",
    "    dev = result[n_train+1:n]\n",
    "\n",
    "    with open(train_file_path, 'w') as g:\n",
    "        json.dump(train, g)\n",
    "\n",
    "    with open(test_file_path, 'w') as h:\n",
    "        json.dump(dev, h)\n"
   ]
  },
  {
   "attachments": {},
   "cell_type": "markdown",
   "metadata": {},
   "source": [
    "## Train and evaluate model"
   ]
  },
  {
   "attachments": {},
   "cell_type": "markdown",
   "metadata": {},
   "source": [
    "Train and evaluate the Named Entity Recognition model."
   ]
  },
  {
   "cell_type": "code",
   "execution_count": 87,
   "metadata": {},
   "outputs": [
    {
     "name": "stdout",
     "output_type": "stream",
     "text": [
      "ℹ Running workflow 'all'\n",
      "\u001b[1m\n",
      "================================== convert ==================================\u001b[0m\n",
      "Running command: 'c:\\Users\\chris\\anaconda3\\python.exe' scripts/convert.py en assets/train.json corpus/train.spacy\n",
      "Running command: 'c:\\Users\\chris\\anaconda3\\python.exe' scripts/convert.py en assets/dev.json corpus/dev.spacy\n",
      "\u001b[1m\n",
      "=================================== train ===================================\u001b[0m\n",
      "Running command: 'c:\\Users\\chris\\anaconda3\\python.exe' -m spacy train configs/config.cfg --output training/ --paths.train corpus/train.spacy --paths.dev corpus/dev.spacy --training.eval_frequency 10 --training.patience 50 --gpu-id -1\n",
      "ℹ Saving to output directory: training\n",
      "ℹ Using CPU\n",
      "\u001b[1m\n",
      "=========================== Initializing pipeline ===========================\u001b[0m\n",
      "✔ Initialized pipeline\n",
      "\u001b[1m\n",
      "============================= Training pipeline =============================\u001b[0m\n",
      "ℹ Pipeline: ['tok2vec', 'ner']\n",
      "ℹ Initial learn rate: 0.001\n",
      "E    #       LOSS TOK2VEC  LOSS NER  ENTS_F  ENTS_P  ENTS_R  SCORE \n",
      "---  ------  ------------  --------  ------  ------  ------  ------\n",
      "  0       0          0.00    399.20    0.00    0.00    0.00    0.00\n",
      "  0      10          6.40   3582.42    0.00    0.00    0.00    0.00\n",
      "  0      20         10.37    499.48    0.00    0.00    0.00    0.00\n",
      "  0      30          4.44    572.47    0.00    0.00    0.00    0.00\n",
      "  0      40          5.73    343.23   13.72   33.06    8.66    0.14\n",
      "  0      50         10.81    443.77   54.18   70.07   44.17    0.54\n",
      "  0      60          6.64    174.31   67.62   72.05   63.71    0.68\n",
      "  0      70          8.61    190.36   70.95   73.27   68.78    0.71\n",
      "  0      80          4.94    135.34   78.20   85.03   72.39    0.78\n",
      "  0      90          5.44    102.53   87.03   88.82   85.31    0.87\n",
      "  0     100          4.53     68.88   90.08   93.12   87.23    0.90\n",
      "  0     110          5.43     54.23   91.99   93.49   90.53    0.92\n",
      "  0     120          6.40     47.99   94.02   95.98   92.15    0.94\n",
      "  0     130          5.25     32.63   95.66   97.09   94.27    0.96\n",
      "  0     140          4.54     26.25   95.78   97.24   94.37    0.96\n",
      "  0     150          3.06     19.72   96.22   98.06   94.46    0.96\n",
      "  0     160          5.57     28.16   96.96   98.28   95.66    0.97\n",
      "  0     170         14.01     57.44   96.13   96.61   95.65    0.96\n",
      "  0     180          4.71     24.24   97.19   98.57   95.85    0.97\n",
      "  0     190          4.36     24.28   97.67   98.86   96.51    0.98\n",
      "  0     200          1.56      9.85   97.97   99.23   96.75    0.98\n",
      "  0     210          4.36     21.83   98.04   99.74   96.40    0.98\n",
      "  0     220          5.64     25.86   98.42   99.60   97.27    0.98\n",
      "  0     230          2.54     14.69   98.31   99.59   97.06    0.98\n",
      "  0     240          5.47     21.59   98.24   98.79   97.69    0.98\n",
      "  0     250          7.12     24.97   98.45   99.35   97.56    0.98\n",
      "  0     260          2.29      8.78   98.72   99.70   97.77    0.99\n",
      "  0     270          4.48     12.10   98.51   99.15   97.88    0.99\n",
      "  0     280          4.52      8.49   98.86   99.71   98.03    0.99\n",
      "  0     290          8.46     21.02   98.81   99.18   98.43    0.99\n",
      "  0     300          4.66     10.80   98.94   99.37   98.52    0.99\n",
      "  0     310          8.19     15.29   98.91   99.71   98.12    0.99\n",
      "  0     320          6.14     12.10   98.94   99.86   98.04    0.99\n",
      "  0     330          2.75      4.35   98.95   99.57   98.33    0.99\n",
      "  0     340          5.97      9.42   98.95   99.16   98.74    0.99\n",
      "  0     350          9.48     12.79   99.07   99.70   98.44    0.99\n",
      "  0     360          6.82      9.57   98.64   99.85   97.47    0.99\n",
      "  0     370          5.68     11.80   98.86   99.73   97.99    0.99\n",
      "  0     380          6.35      7.88   99.07   99.79   98.37    0.99\n",
      "  0     390          2.72      3.75   99.17   99.50   98.85    0.99\n",
      "  0     400         10.77     12.30   99.03   99.06   98.99    0.99\n",
      "  0     410          3.74      5.79   99.09   99.79   98.41    0.99\n",
      "  0     420          8.29     10.45   99.29   99.57   99.02    0.99\n",
      "  0     430         10.30     14.13   99.20   99.95   98.46    0.99\n",
      "  0     440         13.56     18.76   99.13   99.29   98.97    0.99\n",
      "  0     450          9.67     12.65   99.30   99.55   99.05    0.99\n",
      "  0     460          8.78      8.97   99.31   99.65   98.98    0.99\n",
      "  0     470         14.01     13.58   99.17   99.26   99.08    0.99\n",
      "  0     480          6.71      6.21   99.11   99.89   98.34    0.99\n",
      "  0     490         29.85     28.54   99.09   98.98   99.19    0.99\n",
      "  0     500          3.71      4.80   99.17   99.55   98.79    0.99\n",
      "  0     510         14.12     17.37   99.29   99.39   99.19    0.99\n",
      "✔ Saved pipeline to output directory\n",
      "training\\model-last\n",
      "\u001b[1m\n",
      "================================== evaluate ==================================\u001b[0m\n",
      "Running command: 'c:\\Users\\chris\\anaconda3\\python.exe' -m spacy evaluate training/model-best corpus/dev.spacy --output training/metrics.json\n",
      "ℹ Using CPU\n",
      "\u001b[1m\n",
      "================================== Results ==================================\u001b[0m\n",
      "\n",
      "TOK     100.00\n",
      "NER P   99.65 \n",
      "NER R   98.98 \n",
      "NER F   99.31 \n",
      "SPEED   19830 \n",
      "\n",
      "\u001b[1m\n",
      "=============================== NER (per type) ===============================\u001b[0m\n",
      "\n",
      "          P       R       F\n",
      "MAS   99.53   98.94   99.24\n",
      "FEM   99.80   99.02   99.41\n",
      "\n",
      "✔ Saved results to training\\metrics.json\n"
     ]
    },
    {
     "name": "stderr",
     "output_type": "stream",
     "text": [
      "[2023-04-23 18:23:02,849] [INFO] Set up nlp object from config\n",
      "[2023-04-23 18:23:02,863] [INFO] Pipeline: ['tok2vec', 'ner']\n",
      "[2023-04-23 18:23:02,870] [INFO] Created vocabulary\n",
      "[2023-04-23 18:23:02,885] [INFO] Finished initializing nlp object\n",
      "[2023-04-23 18:23:12,099] [INFO] Initialized pipeline components: ['tok2vec', 'ner']\n"
     ]
    }
   ],
   "source": [
    "# Train the NER model - all model settings and parameters are defined in ner_model/project.yml and ner_model/configs/config.cfg - these are used by spacy for model training/testing\n",
    "\n",
    "!python -m spacy project run all ./ner_model"
   ]
  },
  {
   "cell_type": "code",
   "execution_count": 88,
   "metadata": {},
   "outputs": [],
   "source": [
    "# Function to get spacy doc summary stats\n",
    "def get_doc_stats(doc):\n",
    "\n",
    "    total_tokens = doc.__len__()\n",
    "\n",
    "    total_masculine = len([ent.text for ent in doc.ents if ent.label_ == \"MAS\"])\n",
    "    total_feminine = len([ent.text for ent in doc.ents if ent.label_ == \"FEM\"])\n",
    "\n",
    "    n = total_feminine + total_masculine\n",
    "\n",
    "    if (n == 0):\n",
    "        gt_score = 0.5\n",
    "    else:\n",
    "        x = (1/n)*(total_feminine - total_masculine)\n",
    "        gt_score = 1/(1+math.exp(-x))\n",
    "\n",
    "\n",
    "    result = {\n",
    "        'total': total_tokens,\n",
    "        'total_masculine': total_masculine,\n",
    "        'total_feminine': total_feminine,\n",
    "        'pct_masculine': round(total_masculine/total_tokens, 4),\n",
    "        'pct_feminine': round(total_feminine/total_tokens, 4),\n",
    "        'masc_ents': [ent.text for ent in doc.ents if ent.label_ == \"MAS\"],\n",
    "        'fem_ents' : [ent.text for ent in doc.ents if ent.label_ == \"FEM\"],\n",
    "        'gt_score' : gt_score\n",
    "    }\n",
    "\n",
    "    return result"
   ]
  },
  {
   "cell_type": "code",
   "execution_count": 89,
   "metadata": {},
   "outputs": [],
   "source": [
    "# Load NER model\n",
    "model_path = Path(os.path.join(current_directory, \"ner_model/training/model-best\"))\n",
    "\n",
    "nlp = spacy.load(model_path)"
   ]
  },
  {
   "cell_type": "code",
   "execution_count": 90,
   "metadata": {},
   "outputs": [],
   "source": [
    "# Get random sample of job descriptions\n",
    "description_eval_sample = pd.DataFrame(descriptions.sample(n=1000, random_state=99))\n",
    "\n",
    "# Create clean description\n",
    "description_eval_sample[\"description_clean\"] = description_eval_sample['Job Description'].apply(pre_process_text)\n",
    "\n",
    "# Create spacy Doc object for each job description\n",
    "description_eval_sample['spacy'] = description_eval_sample['description_clean'].apply(lambda row: nlp(row))\n",
    "\n",
    "# Get summary statistics for Doc object\n",
    "description_eval_sample['token_summary'] = description_eval_sample['spacy'].apply(lambda row: get_doc_stats(row))\n",
    "\n",
    "description_eval_sample = pd.concat([description_eval_sample.drop(['token_summary'], axis=1), description_eval_sample['token_summary'].apply(pd.Series)], axis=1)"
   ]
  },
  {
   "attachments": {},
   "cell_type": "markdown",
   "metadata": {},
   "source": [
    "### Summary Statistics\n",
    "\n",
    "Get summary statistics for evaluating solution performance"
   ]
  },
  {
   "cell_type": "code",
   "execution_count": 91,
   "metadata": {},
   "outputs": [
    {
     "name": "stdout",
     "output_type": "stream",
     "text": [
      "There are 997 job descriptions with masculine language (0.997000 percent)\n",
      "There are 996 job descriptions with feminine language (0.996000 percent)\n",
      "There is an average of 0.020398 masculine words per job advertisement\n",
      "There is an average of 0.015232 feminine words per job advertisement\n",
      "The average gender target score across the entire corpus is 0.469476\n",
      "ability      18.169380\n",
      "strong        8.174853\n",
      "data          6.430428\n",
      "able          4.562868\n",
      "excellent     4.501300\n",
      "dtype: float64\n",
      "work             27.459469\n",
      "service          16.037214\n",
      "responsible       6.632277\n",
      "understanding     4.587325\n",
      "communicate       3.491157\n",
      "dtype: float64\n"
     ]
    }
   ],
   "source": [
    "# Total and percentage masculine and feminine job descriptions across the entire corpus\n",
    "total_masculine_corpus = len(description_eval_sample[description_eval_sample['total_masculine'] != 0])\n",
    "pct_masculine_corpus = total_masculine_corpus/len(description_eval_sample)\n",
    "total_feminine_corpus = len(description_eval_sample[description_eval_sample['total_feminine'] != 0])\n",
    "pct_feminine_corpus = total_feminine_corpus/len(description_eval_sample)\n",
    "\n",
    "# Mean percent of masculine and feminine words in a job advertisement across the entire corpus\n",
    "mean_pct_masculine_corpus = description_eval_sample['pct_masculine'].mean()\n",
    "mean_pct_feminine_corpus = description_eval_sample['pct_feminine'].mean()\n",
    "\n",
    "# Mean gender target score across the entire corpus\n",
    "mean_gt_score_corpus = description_eval_sample['gt_score'].mean()\n",
    "\n",
    "# Top masculine entities and their percentage\n",
    "all_masc_ents = description_eval_sample['masc_ents'].to_list()\n",
    "all_masc_ents = pd.DataFrame([item for all_masc_ents in all_masc_ents for item in all_masc_ents])\n",
    "\n",
    "top_masc = all_masc_ents.value_counts(normalize=True) * 100\n",
    "\n",
    "# Top feminine entities and their percentage\n",
    "all_fem_ents = description_eval_sample['fem_ents'].to_list()\n",
    "all_fem_ents = pd.DataFrame([item for all_fem_ents in all_fem_ents for item in all_fem_ents])\n",
    "\n",
    "top_fem = all_fem_ents.value_counts(normalize=True) * 100\n",
    "\n",
    "\n",
    "print(\"There are %d job descriptions with masculine language (%2f percent)\" % (total_masculine_corpus, pct_masculine_corpus))\n",
    "print(\"There are %d job descriptions with feminine language (%2f percent)\" % (total_feminine_corpus, pct_feminine_corpus))\n",
    "print(\"There is an average of %2f masculine words per job advertisement\" % (mean_pct_masculine_corpus))\n",
    "print(\"There is an average of %2f feminine words per job advertisement\" % (mean_pct_feminine_corpus))\n",
    "print(\"The average gender target score across the entire corpus is %2f\" % mean_gt_score_corpus)\n",
    "\n",
    "print(top_masc[0:5])\n",
    "print(top_fem[0:5])"
   ]
  },
  {
   "attachments": {},
   "cell_type": "markdown",
   "metadata": {},
   "source": [
    "### Manual Inspection\n",
    "\n",
    "Complete a manual inspection of the most masculine and most feminine job advertisements."
   ]
  },
  {
   "cell_type": "code",
   "execution_count": 92,
   "metadata": {},
   "outputs": [],
   "source": [
    "# Get top three masculine pct and feminine pct job advertisements\n",
    "top_fem  = description_eval_sample.sort_values('gt_score', ascending=False).iloc[0:3]\n",
    "top_masc = description_eval_sample.sort_values('gt_score', ascending=False).iloc[-3:]"
   ]
  },
  {
   "cell_type": "code",
   "execution_count": 93,
   "metadata": {},
   "outputs": [],
   "source": [
    "# Settings for producing displacy images\n",
    "colors = {\"MAS\": \"linear-gradient(120deg, #a1c4fd, #a1c4fd)\", \"FEM\": \"linear-gradient(120deg, #fdcbf1, #fdcbf1)\"}\n",
    "options = {\"ents\": [\"MAS\", \"FEM\"], \"colors\": colors}"
   ]
  },
  {
   "cell_type": "code",
   "execution_count": 94,
   "metadata": {},
   "outputs": [
    {
     "data": {
      "text/html": [
       "<span class=\"tex2jax_ignore\"><div class=\"entities\" style=\"line-height: 2.5; direction: ltr\">spotlight on relationships  that equal results   clients of all sizes need to reach their audiences in a targeted, compelling and strategic fashion. comcast spotlight, the \n",
       "<mark class=\"entity\" style=\"background: linear-gradient(120deg, #a1c4fd, #a1c4fd); padding: 0.45em 0.6em; margin: 0 0.25em; line-height: 1; border-radius: 0.35em;\">\n",
       "    leading\n",
       "    <span style=\"font-size: 0.8em; font-weight: bold; line-height: 1; border-radius: 0.35em; vertical-align: middle; margin-left: 0.5rem\">MAS</span>\n",
       "</mark>\n",
       " ad-creation business in the industry, has the solutions they’re looking for.   spotlight account executives have an in-depth knowledge of their local markets and competitive landscape. you’ll create and propose advertising solutions across all media, as well as meeting your existing clients’ needs. you will also assist with production planning; attend, participate in, and \n",
       "<mark class=\"entity\" style=\"background: linear-gradient(120deg, #a1c4fd, #a1c4fd); padding: 0.45em 0.6em; margin: 0 0.25em; line-height: 1; border-radius: 0.35em;\">\n",
       "    lead\n",
       "    <span style=\"font-size: 0.8em; font-weight: bold; line-height: 1; border-radius: 0.35em; vertical-align: middle; margin-left: 0.5rem\">MAS</span>\n",
       "</mark>\n",
       " sales meetings; and act as a valued resource to your coworkers. additional responsibilities include handling client issues; and managing all financial aspects for your accounts.   this role is \n",
       "<mark class=\"entity\" style=\"background: linear-gradient(120deg, #a1c4fd, #a1c4fd); padding: 0.45em 0.6em; margin: 0 0.25em; line-height: 1; border-radius: 0.35em;\">\n",
       "    best\n",
       "    <span style=\"font-size: 0.8em; font-weight: bold; line-height: 1; border-radius: 0.35em; vertical-align: middle; margin-left: 0.5rem\">MAS</span>\n",
       "</mark>\n",
       " suited to a sales professional interested in learning more about our suite of advertising solutions and the development of our markets. experience within a sales-oriented setting is key, along with a keen interest in all types of media products (including online/interactive solutions) and the \n",
       "<mark class=\"entity\" style=\"background: linear-gradient(120deg, #a1c4fd, #a1c4fd); padding: 0.45em 0.6em; margin: 0 0.25em; line-height: 1; border-radius: 0.35em;\">\n",
       "    ability\n",
       "    <span style=\"font-size: 0.8em; font-weight: bold; line-height: 1; border-radius: 0.35em; vertical-align: middle; margin-left: 0.5rem\">MAS</span>\n",
       "</mark>\n",
       " to stay current with, or even ahead of, new and emerging technologies. a high school diploma or the equivalent is required; a bachelor’s degree and related sales experience is preferred.   you’ll enjoy an upbeat, supportive environment (which includes regular training, team huddles and even boot camps) and a competitive base salary plus commissions. \n",
       "<mark class=\"entity\" style=\"background: linear-gradient(120deg, #a1c4fd, #a1c4fd); padding: 0.45em 0.6em; margin: 0 0.25em; line-height: 1; border-radius: 0.35em;\">\n",
       "    best\n",
       "    <span style=\"font-size: 0.8em; font-weight: bold; line-height: 1; border-radius: 0.35em; vertical-align: middle; margin-left: 0.5rem\">MAS</span>\n",
       "</mark>\n",
       " of all, you can advance as far and as fast as your abilities and interests allow.   to learn more about this and other exciting opportunities, use the link below to review the full job description, including experience requirements, and complete an application.   comcast is an eoe/veterans/disabled/lgbt employer</div></span>"
      ],
      "text/plain": [
       "<IPython.core.display.HTML object>"
      ]
     },
     "metadata": {},
     "output_type": "display_data"
    }
   ],
   "source": [
    "displacy.render(top_masc['spacy'].iloc[0], style='ent', options=options)"
   ]
  },
  {
   "cell_type": "code",
   "execution_count": 95,
   "metadata": {},
   "outputs": [
    {
     "data": {
      "text/html": [
       "<span class=\"tex2jax_ignore\"><div class=\"entities\" style=\"line-height: 2.5; direction: ltr\">  overview      negotiates contracts, coordinates activities involved with procuring goods and services such as equipment, tools, parts and supplies for evms.     responsibilities      negotiates contracts with vendors, sets up requests for proposals/quotes, reviews bids and brings contract to closure.        coordinates requirements with evms staff. acts as a resource with staff requiring assistance with the computer system. activates and maintains computer records and action documents by using the materials management information system.        administers ongoing contracts.        performed considerable degree of \n",
       "<mark class=\"entity\" style=\"background: linear-gradient(120deg, #a1c4fd, #a1c4fd); padding: 0.45em 0.6em; margin: 0 0.25em; line-height: 1; border-radius: 0.35em;\">\n",
       "    individual\n",
       "    <span style=\"font-size: 0.8em; font-weight: bold; line-height: 1; border-radius: 0.35em; vertical-align: middle; margin-left: 0.5rem\">MAS</span>\n",
       "</mark>\n",
       " responsibility and \n",
       "<mark class=\"entity\" style=\"background: linear-gradient(120deg, #a1c4fd, #a1c4fd); padding: 0.45em 0.6em; margin: 0 0.25em; line-height: 1; border-radius: 0.35em;\">\n",
       "    independent\n",
       "    <span style=\"font-size: 0.8em; font-weight: bold; line-height: 1; border-radius: 0.35em; vertical-align: middle; margin-left: 0.5rem\">MAS</span>\n",
       "</mark>\n",
       " judgment.        planning, coordinating and overseeing purchasing activities. expedites supply activity as required.        monitor orders and shipping status to ensure end users receive goods and services by due date required.        process purchase orders for assigned commodities, obtain confirmations, and respond to end users request for quotes.        prepare price analysis for purchases exceeding competitive bids dollar thresholds or acquire appropriate bids or justification form.        assist requestors with inquiries about order status, changes, or cancellations. contact vendors to schedule or expedite deliveries and to resolve shortages, missed or late deliveries and backorder issues.        review requisition orders to verify accuracy, terminology, and specifications.        prepare, maintain, and review purchasing files, reports and price lists.        compare prices, specifications, and delivery dates in order to \n",
       "<mark class=\"entity\" style=\"background: linear-gradient(120deg, #a1c4fd, #a1c4fd); padding: 0.45em 0.6em; margin: 0 0.25em; line-height: 1; border-radius: 0.35em;\">\n",
       "    determine\n",
       "    <span style=\"font-size: 0.8em; font-weight: bold; line-height: 1; border-radius: 0.35em; vertical-align: middle; margin-left: 0.5rem\">MAS</span>\n",
       "</mark>\n",
       " the \n",
       "<mark class=\"entity\" style=\"background: linear-gradient(120deg, #a1c4fd, #a1c4fd); padding: 0.45em 0.6em; margin: 0 0.25em; line-height: 1; border-radius: 0.35em;\">\n",
       "    best\n",
       "    <span style=\"font-size: 0.8em; font-weight: bold; line-height: 1; border-radius: 0.35em; vertical-align: middle; margin-left: 0.5rem\">MAS</span>\n",
       "</mark>\n",
       " potential supplier. knowledgeable of assigned commodities, in particular information technology, software/licenses, computer systems, audio visual, telecommunications, and etc.        locate suppliers using sources such as catalogs and internet to gather information about products to be ordered.        maintain effective relationship with internal customers, co-workers, and suppliers.        facilitate returns to vendors and assist with resolving vendor invoicing issues.        performs other duties as assigned.     qualifications      associate’s degree in a related field plus three years experience in purchasing or material handling. computer experience required, proficiency in use of computer programs including ms outlook, excel, and word.     location : location    us-va-norfolk  </div></span>"
      ],
      "text/plain": [
       "<IPython.core.display.HTML object>"
      ]
     },
     "metadata": {},
     "output_type": "display_data"
    }
   ],
   "source": [
    "displacy.render(top_masc['spacy'].iloc[1], style='ent', options=options)"
   ]
  },
  {
   "cell_type": "code",
   "execution_count": 96,
   "metadata": {},
   "outputs": [
    {
     "data": {
      "text/html": [
       "<span class=\"tex2jax_ignore\"><div class=\"entities\" style=\"line-height: 2.5; direction: ltr\">  description:    provides administrative and clerical support to an \n",
       "<mark class=\"entity\" style=\"background: linear-gradient(120deg, #a1c4fd, #a1c4fd); padding: 0.45em 0.6em; margin: 0 0.25em; line-height: 1; border-radius: 0.35em;\">\n",
       "    individual\n",
       "    <span style=\"font-size: 0.8em; font-weight: bold; line-height: 1; border-radius: 0.35em; vertical-align: middle; margin-left: 0.5rem\">MAS</span>\n",
       "</mark>\n",
       " manager, department or group of managers.   may spend a significant amount of time coordinating functional administrative activities that support clinical trials, medical information, sales, etc.   in addition to the administrative assistant responsibilities provide administrative and clerical support to the department's interview process, which includes creating, and distributing   agendas, collecting assessment forms and scheduling and making travel arrangements. organizes and schedules extra-department meetings.   ensures computer equipment, and all new hire materials are arranged for the persons first day at client.   tracks and verifies \n",
       "<mark class=\"entity\" style=\"background: linear-gradient(120deg, #a1c4fd, #a1c4fd); padding: 0.45em 0.6em; margin: 0 0.25em; line-height: 1; border-radius: 0.35em;\">\n",
       "    data\n",
       "    <span style=\"font-size: 0.8em; font-weight: bold; line-height: 1; border-radius: 0.35em; vertical-align: middle; margin-left: 0.5rem\">MAS</span>\n",
       "</mark>\n",
       " using a variety of software to conduct \n",
       "<mark class=\"entity\" style=\"background: linear-gradient(120deg, #a1c4fd, #a1c4fd); padding: 0.45em 0.6em; margin: 0 0.25em; line-height: 1; border-radius: 0.35em;\">\n",
       "    data\n",
       "    <span style=\"font-size: 0.8em; font-weight: bold; line-height: 1; border-radius: 0.35em; vertical-align: middle; margin-left: 0.5rem\">MAS</span>\n",
       "</mark>\n",
       " entry and sorting of information.   may track the department budget as directed by the immediate manager. conducts internet searches as directed.   creates or may assist in the creation of presentation materials and draft technical documents as needed.   manipulates excel spreadsheets into different sorts and formats and works with word, power point documents as directed by immediate manager.   gathers, collects, records, tracks and verifies relatively complex \n",
       "<mark class=\"entity\" style=\"background: linear-gradient(120deg, #a1c4fd, #a1c4fd); padding: 0.45em 0.6em; margin: 0 0.25em; line-height: 1; border-radius: 0.35em;\">\n",
       "    data\n",
       "    <span style=\"font-size: 0.8em; font-weight: bold; line-height: 1; border-radius: 0.35em; vertical-align: middle; margin-left: 0.5rem\">MAS</span>\n",
       "</mark>\n",
       " and information from multiple sources.   liaises with external agencies or organizations to coordinate activities that are important to the function of the department.   job type: contract   salary: $24.00 /hour  </div></span>"
      ],
      "text/plain": [
       "<IPython.core.display.HTML object>"
      ]
     },
     "metadata": {},
     "output_type": "display_data"
    }
   ],
   "source": [
    "displacy.render(top_masc['spacy'].iloc[2], style='ent', options=options)"
   ]
  },
  {
   "cell_type": "code",
   "execution_count": 97,
   "metadata": {},
   "outputs": [
    {
     "data": {
      "text/html": [
       "<span class=\"tex2jax_ignore\"><div class=\"entities\" style=\"line-height: 2.5; direction: ltr\">  i look forward to speaking with you. with your experience, i’m certain you will do extremely well in our system. we are a explosive company with many opportunities for prosperity. questions, reach out to me. cell (630)484-4625.   we currently use business software products that are operational in the united states. with new markets opening up this has created an increased demand for more account sales reps.   as a rep you will be compensated three different ways:   1) $750-$1,500 commission paid at the point of sale. receive inbound calls via our virtual office from customers looking for our product. 3 sales per week over five day \n",
       "<mark class=\"entity\" style=\"background: linear-gradient(120deg, #fdcbf1, #fdcbf1); padding: 0.45em 0.6em; margin: 0 0.25em; line-height: 1; border-radius: 0.35em;\">\n",
       "    work\n",
       "    <span style=\"font-size: 0.8em; font-weight: bold; line-height: 1; border-radius: 0.35em; vertical-align: middle; margin-left: 0.5rem\">FEM</span>\n",
       "</mark>\n",
       " week= $2k plus per week.   2) rmp marketing platform   3) vm broadcast marketing service- average commission is $600 per closed account paid monthly.   all sales begin with the customer initiating contact. so there is no cold calling whatsoever. you can take calls from the call center 24 hours a day.   if you can answer inbound sales calls and follow a short script, you qualify for this sales opportunity.   please view the links below for a presentation of the product we’re selling and our live inbound call center. write down any questions you may have and give me a call.   webinar one —software products information, how to make money without selling anything. http://wi.st/24xhceh  watch in full 19min   webinar two – software packages &amp; about our multi-channel call system etc.   must watch webinars in full.   also if you are interested in the software itself you can buy it, you can also start without buying the software.   after you’re finished with the webinars in full, then contact toby williams and proceed to the 2nd part of the interview.   sincerely   toby williams ma (630)484-4625 illinois department of insurance license number 016945373   job types: full-time, part-time, commission   salary: $30,000.00 to $40,000.00 /year   experience:   customer \n",
       "<mark class=\"entity\" style=\"background: linear-gradient(120deg, #fdcbf1, #fdcbf1); padding: 0.45em 0.6em; margin: 0 0.25em; line-height: 1; border-radius: 0.35em;\">\n",
       "    service\n",
       "    <span style=\"font-size: 0.8em; font-weight: bold; line-height: 1; border-radius: 0.35em; vertical-align: middle; margin-left: 0.5rem\">FEM</span>\n",
       "</mark>\n",
       ": 1 year (preferred)  </div></span>"
      ],
      "text/plain": [
       "<IPython.core.display.HTML object>"
      ]
     },
     "metadata": {},
     "output_type": "display_data"
    }
   ],
   "source": [
    "displacy.render(top_fem['spacy'].iloc[0], style='ent', options=options)"
   ]
  },
  {
   "cell_type": "code",
   "execution_count": 98,
   "metadata": {},
   "outputs": [
    {
     "data": {
      "text/html": [
       "<span class=\"tex2jax_ignore\"><div class=\"entities\" style=\"line-height: 2.5; direction: ltr\">  summary   \n",
       "<mark class=\"entity\" style=\"background: linear-gradient(120deg, #fdcbf1, #fdcbf1); padding: 0.45em 0.6em; margin: 0 0.25em; line-height: 1; border-radius: 0.35em;\">\n",
       "    responsible\n",
       "    <span style=\"font-size: 0.8em; font-weight: bold; line-height: 1; border-radius: 0.35em; vertical-align: middle; margin-left: 0.5rem\">FEM</span>\n",
       "</mark>\n",
       " for day-to-day management of ecp’s e-contracting system, as well as serving as the chief point of contact for electronic contracting support with auto dealers, agents, distributors, f&amp;i menu systems and ecp employees.   essential duties and responsibilities    include the following, related to, but not limited to e-contracting. other duties may be assigned.     develop and maintain a working \n",
       "<mark class=\"entity\" style=\"background: linear-gradient(120deg, #fdcbf1, #fdcbf1); padding: 0.45em 0.6em; margin: 0 0.25em; line-height: 1; border-radius: 0.35em;\">\n",
       "    understanding\n",
       "    <span style=\"font-size: 0.8em; font-weight: bold; line-height: 1; border-radius: 0.35em; vertical-align: middle; margin-left: 0.5rem\">FEM</span>\n",
       "</mark>\n",
       " of the tecassured administration application, its capabilities, and its limitations.   create fillable pdf versions of existing ecp warranty and \n",
       "<mark class=\"entity\" style=\"background: linear-gradient(120deg, #fdcbf1, #fdcbf1); padding: 0.45em 0.6em; margin: 0 0.25em; line-height: 1; border-radius: 0.35em;\">\n",
       "    service\n",
       "    <span style=\"font-size: 0.8em; font-weight: bold; line-height: 1; border-radius: 0.35em; vertical-align: middle; margin-left: 0.5rem\">FEM</span>\n",
       "</mark>\n",
       " contract documents.   create crystal reports in e-contracting system.   establish new dealer accounts and maintain existing accounts in software   identify ecp customer id; establish user account for api and remit access; entitle dealers to certain ecp products   create and maintain ecp products which includes,identification of applicable products; production of fillable pdf versions of e-forms; setup of products in the interface; mapping of forms for auto-filling using the software; entitlement of programs to eligible dealers. * develop, deploy, and maintain rating rulesets by developing a working \n",
       "<mark class=\"entity\" style=\"background: linear-gradient(120deg, #fdcbf1, #fdcbf1); padding: 0.45em 0.6em; margin: 0 0.25em; line-height: 1; border-radius: 0.35em;\">\n",
       "    understanding\n",
       "    <span style=\"font-size: 0.8em; font-weight: bold; line-height: 1; border-radius: 0.35em; vertical-align: middle; margin-left: 0.5rem\">FEM</span>\n",
       "</mark>\n",
       " of the rating and eligibility factors applicable   develop, \n",
       "<mark class=\"entity\" style=\"background: linear-gradient(120deg, #fdcbf1, #fdcbf1); padding: 0.45em 0.6em; margin: 0 0.25em; line-height: 1; border-radius: 0.35em;\">\n",
       "    organize\n",
       "    <span style=\"font-size: 0.8em; font-weight: bold; line-height: 1; border-radius: 0.35em; vertical-align: middle; margin-left: 0.5rem\">FEM</span>\n",
       "</mark>\n",
       ", and maintain rate/pricing sheets for all products and design ad-hoc spreadsheets if required   create and maintain master records for the e-contracting system.   develop and \n",
       "<mark class=\"entity\" style=\"background: linear-gradient(120deg, #fdcbf1, #fdcbf1); padding: 0.45em 0.6em; margin: 0 0.25em; line-height: 1; border-radius: 0.35em;\">\n",
       "    organize\n",
       "    <span style=\"font-size: 0.8em; font-weight: bold; line-height: 1; border-radius: 0.35em; vertical-align: middle; margin-left: 0.5rem\">FEM</span>\n",
       "</mark>\n",
       " procedure manuals for system users including remittances and voids   provide technical support on tecassured to dealers, agents, and f&amp;i menu systems.   all other duties as assigned.     preferred skills     creating crystal reports   accounting background a plus   business or customer \n",
       "<mark class=\"entity\" style=\"background: linear-gradient(120deg, #fdcbf1, #fdcbf1); padding: 0.45em 0.6em; margin: 0 0.25em; line-height: 1; border-radius: 0.35em;\">\n",
       "    service\n",
       "    <span style=\"font-size: 0.8em; font-weight: bold; line-height: 1; border-radius: 0.35em; vertical-align: middle; margin-left: 0.5rem\">FEM</span>\n",
       "</mark>\n",
       " related background   it related background a plus   administrative experience   adobe acrobat experience     ecp offers competitive benefits: comprehensive health insurance coverage, dental, vision, life insurance, 401(k) matching, and paid time off.   since 1969, ecp brands have been seen on over 45 million vehicles. over 14 thousand automobile dealers and carwash operators use ecp products, programs and services. our heritage has been in the manufacturing, packaging and distribution of protective coatings, detailing, prep, carwash and \n",
       "<mark class=\"entity\" style=\"background: linear-gradient(120deg, #fdcbf1, #fdcbf1); padding: 0.45em 0.6em; margin: 0 0.25em; line-height: 1; border-radius: 0.35em;\">\n",
       "    service\n",
       "    <span style=\"font-size: 0.8em; font-weight: bold; line-height: 1; border-radius: 0.35em; vertical-align: middle; margin-left: 0.5rem\">FEM</span>\n",
       "</mark>\n",
       " chemicals and supplies, and in providing the administration of product warranties and financial services programs to produce aftermarket sales opportunities and cost savings for automobile dealers and related businesses.   job type: full-time   job type: full-time   experience:   technical, accounting or business: 2 years (preferred)   education:   bachelor's (preferred)   benefits:     health insurance   dental insurance   vision insurance   retirement plan   paid time off    </div></span>"
      ],
      "text/plain": [
       "<IPython.core.display.HTML object>"
      ]
     },
     "metadata": {},
     "output_type": "display_data"
    }
   ],
   "source": [
    "displacy.render(top_fem['spacy'].iloc[1], style='ent', options=options)"
   ]
  },
  {
   "cell_type": "code",
   "execution_count": 99,
   "metadata": {},
   "outputs": [
    {
     "data": {
      "text/html": [
       "<span class=\"tex2jax_ignore\"><div class=\"entities\" style=\"line-height: 2.5; direction: ltr\">    posting date  sep 18, 2019   job number  19130380   job category  food and beverage &amp; culinary   location  w atlanta - buckhead, 3377 peachtree rd ne, atlanta, georgia, united states view on map   brand  w hotels   schedule  full-time   relocation?  no   position type  non-management/hourly     start your journey with us   boldly coloring outside the lines of luxury, w turns the traditional notion of the extravagant hotel on its head. our irreverent attitude and taste for excess redefine revelry for the modern jet set. our guests have a lust for a life less ordinary that drives them to demand more, experience it all, and hit repeat.  we \n",
       "<mark class=\"entity\" style=\"background: linear-gradient(120deg, #fdcbf1, #fdcbf1); padding: 0.45em 0.6em; margin: 0 0.25em; line-height: 1; border-radius: 0.35em;\">\n",
       "    share\n",
       "    <span style=\"font-size: 0.8em; font-weight: bold; line-height: 1; border-radius: 0.35em; vertical-align: middle; margin-left: 0.5rem\">FEM</span>\n",
       "</mark>\n",
       " our guests’ passions, providing insider access to what’s new and what’s next. moderation is not in our vocabulary and we know that lust for life demands more, not less. w guests soak it in and live each day with a mantra: detox.retox.repeat. if you’re ready to create the energetic w scene that is magnetic to everyday disruptors around the world, then we invite you to explore a career with w hotels.       job summary          facilitate positive guest experiences with the in-room honor bar. inventory honor bar, in-room accessories and promotional materials and replace if required. maintain the cleanliness and appearance of each honor bar. utilize software and hand held devices to record sales and take inventory, as appropriate. maintain an awareness of products availability, product expiration dates, and inventory levels to prevent stock-out situations. prepare a restocking cart, and push the cart to the floors where rooms are ready to inventory. respond to requests from guests. \n",
       "<mark class=\"entity\" style=\"background: linear-gradient(120deg, #fdcbf1, #fdcbf1); padding: 0.45em 0.6em; margin: 0 0.25em; line-height: 1; border-radius: 0.35em;\">\n",
       "    communicate\n",
       "    <span style=\"font-size: 0.8em; font-weight: bold; line-height: 1; border-radius: 0.35em; vertical-align: middle; margin-left: 0.5rem\">FEM</span>\n",
       "</mark>\n",
       " any issues regarding the honor bar operation with hotel management.      follow all company and safety and security policies and procedures; report accidents, injuries, and unsafe \n",
       "<mark class=\"entity\" style=\"background: linear-gradient(120deg, #fdcbf1, #fdcbf1); padding: 0.45em 0.6em; margin: 0 0.25em; line-height: 1; border-radius: 0.35em;\">\n",
       "    work\n",
       "    <span style=\"font-size: 0.8em; font-weight: bold; line-height: 1; border-radius: 0.35em; vertical-align: middle; margin-left: 0.5rem\">FEM</span>\n",
       "</mark>\n",
       " conditions to manager; and complete safety training and certifications. ensure uniform and personal appearance are clean and professional, maintain confidentiality of proprietary information, and protect company assets. welcome and acknowledge all guests according to company standards, anticipate and address guests’ \n",
       "<mark class=\"entity\" style=\"background: linear-gradient(120deg, #fdcbf1, #fdcbf1); padding: 0.45em 0.6em; margin: 0 0.25em; line-height: 1; border-radius: 0.35em;\">\n",
       "    service\n",
       "    <span style=\"font-size: 0.8em; font-weight: bold; line-height: 1; border-radius: 0.35em; vertical-align: middle; margin-left: 0.5rem\">FEM</span>\n",
       "</mark>\n",
       " needs, and thank guests with genuine appreciation. ensure adherence to quality expectations and standards. develop and maintain positive working relationships with others, support team to reach common goals. speak with others using clear and professional language. read and visually verify information in a variety of formats (e.g., small print). stand, sit, or walk for an extended period of time or for an entire \n",
       "<mark class=\"entity\" style=\"background: linear-gradient(120deg, #fdcbf1, #fdcbf1); padding: 0.45em 0.6em; margin: 0 0.25em; line-height: 1; border-radius: 0.35em;\">\n",
       "    work\n",
       "    <span style=\"font-size: 0.8em; font-weight: bold; line-height: 1; border-radius: 0.35em; vertical-align: middle; margin-left: 0.5rem\">FEM</span>\n",
       "</mark>\n",
       " shift. move, lift, carry, push, pull, and place objects weighing less than or equal to 25 pounds without assistance. grasp, turn, and manipulate objects of varying size and weight, requiring fine motor skills and hand-eye coordination. move through narrow, confined, or elevated spaces as well as up and down stairs and/or \n",
       "<mark class=\"entity\" style=\"background: linear-gradient(120deg, #fdcbf1, #fdcbf1); padding: 0.45em 0.6em; margin: 0 0.25em; line-height: 1; border-radius: 0.35em;\">\n",
       "    service\n",
       "    <span style=\"font-size: 0.8em; font-weight: bold; line-height: 1; border-radius: 0.35em; vertical-align: middle; margin-left: 0.5rem\">FEM</span>\n",
       "</mark>\n",
       " ramps. reach overhead and below the knees, including bending, twisting, pulling, and stooping. perform other reasonable job duties as requested by supervisors.        marriott international is an equal opportunity employer \n",
       "<mark class=\"entity\" style=\"background: linear-gradient(120deg, #fdcbf1, #fdcbf1); padding: 0.45em 0.6em; margin: 0 0.25em; line-height: 1; border-radius: 0.35em;\">\n",
       "    committed\n",
       "    <span style=\"font-size: 0.8em; font-weight: bold; line-height: 1; border-radius: 0.35em; vertical-align: middle; margin-left: 0.5rem\">FEM</span>\n",
       "</mark>\n",
       " to hiring a diverse workforce and sustaining an \n",
       "<mark class=\"entity\" style=\"background: linear-gradient(120deg, #fdcbf1, #fdcbf1); padding: 0.45em 0.6em; margin: 0 0.25em; line-height: 1; border-radius: 0.35em;\">\n",
       "    inclusive\n",
       "    <span style=\"font-size: 0.8em; font-weight: bold; line-height: 1; border-radius: 0.35em; vertical-align: middle; margin-left: 0.5rem\">FEM</span>\n",
       "</mark>\n",
       " culture. marriott international does not discriminate on the basis of disability, veteran status or any other basis protected under federal, state or local laws.  </div></span>"
      ],
      "text/plain": [
       "<IPython.core.display.HTML object>"
      ]
     },
     "metadata": {},
     "output_type": "display_data"
    }
   ],
   "source": [
    "displacy.render(top_fem['spacy'].iloc[2], style='ent', options=options)"
   ]
  },
  {
   "attachments": {},
   "cell_type": "markdown",
   "metadata": {},
   "source": [
    "## Generative AI Assessment"
   ]
  },
  {
   "attachments": {},
   "cell_type": "markdown",
   "metadata": {},
   "source": [
    "Assess model performance on generative AI examples"
   ]
  },
  {
   "cell_type": "code",
   "execution_count": 100,
   "metadata": {},
   "outputs": [],
   "source": [
    "# Load generative AI created job advertisements\n",
    "ai_descriptions_file_path = Path(os.path.join(current_directory, \"data/generative_ai_advertisements.csv\"))\n",
    "ai_descriptions = pd.read_csv(ai_descriptions_file_path)"
   ]
  },
  {
   "cell_type": "code",
   "execution_count": 101,
   "metadata": {},
   "outputs": [],
   "source": [
    "ai_descriptions['description_clean'] = ai_descriptions[\"description\"].apply(pre_process_text)\n",
    "\n",
    "# Create spacy Doc object for each job description\n",
    "ai_descriptions['spacy'] = ai_descriptions['description_clean'].apply(lambda row: nlp(row))\n",
    "\n",
    "# Get summary statistics for Doc object\n",
    "ai_descriptions['token_summary'] = ai_descriptions['spacy'].apply(lambda row: get_doc_stats(row))\n",
    "\n",
    "ai_descriptions = pd.concat([ai_descriptions.drop(['token_summary'], axis=1), ai_descriptions['token_summary'].apply(pd.Series)], axis=1)"
   ]
  },
  {
   "cell_type": "code",
   "execution_count": 102,
   "metadata": {},
   "outputs": [
    {
     "data": {
      "text/html": [
       "<div>\n",
       "<style scoped>\n",
       "    .dataframe tbody tr th:only-of-type {\n",
       "        vertical-align: middle;\n",
       "    }\n",
       "\n",
       "    .dataframe tbody tr th {\n",
       "        vertical-align: top;\n",
       "    }\n",
       "\n",
       "    .dataframe thead th {\n",
       "        text-align: right;\n",
       "    }\n",
       "</style>\n",
       "<table border=\"1\" class=\"dataframe\">\n",
       "  <thead>\n",
       "    <tr style=\"text-align: right;\">\n",
       "      <th></th>\n",
       "      <th>position</th>\n",
       "      <th>type</th>\n",
       "      <th>description</th>\n",
       "      <th>description_clean</th>\n",
       "      <th>spacy</th>\n",
       "      <th>total</th>\n",
       "      <th>total_masculine</th>\n",
       "      <th>total_feminine</th>\n",
       "      <th>pct_masculine</th>\n",
       "      <th>pct_feminine</th>\n",
       "      <th>masc_ents</th>\n",
       "      <th>fem_ents</th>\n",
       "      <th>gt_score</th>\n",
       "    </tr>\n",
       "  </thead>\n",
       "  <tbody>\n",
       "    <tr>\n",
       "      <th>0</th>\n",
       "      <td>real_estate_agent</td>\n",
       "      <td>masculine</td>\n",
       "      <td>Company: Elite Homes Realty\\r\\nDescription: El...</td>\n",
       "      <td>company: elite homes realty\\r description: eli...</td>\n",
       "      <td>(company, :, elite, homes, realty, \\r , descri...</td>\n",
       "      <td>472</td>\n",
       "      <td>13</td>\n",
       "      <td>8</td>\n",
       "      <td>0.0275</td>\n",
       "      <td>0.0169</td>\n",
       "      <td>[skilled, expertise, strong, unique, research,...</td>\n",
       "      <td>[connect, understand, present, service, collab...</td>\n",
       "      <td>0.440756</td>\n",
       "    </tr>\n",
       "    <tr>\n",
       "      <th>1</th>\n",
       "      <td>real_estate_agent</td>\n",
       "      <td>feminine</td>\n",
       "      <td>\\r\\nCompany: Stellar Properties Group\\r\\nDescr...</td>\n",
       "      <td>\\r company: stellar properties group\\r descrip...</td>\n",
       "      <td>(\\r , company, :, stellar, properties, group, ...</td>\n",
       "      <td>639</td>\n",
       "      <td>16</td>\n",
       "      <td>16</td>\n",
       "      <td>0.0250</td>\n",
       "      <td>0.0250</td>\n",
       "      <td>[leading, skilled, exceptional, strong, resear...</td>\n",
       "      <td>[inclusive, dedicated, service, responsible, s...</td>\n",
       "      <td>0.500000</td>\n",
       "    </tr>\n",
       "    <tr>\n",
       "      <th>2</th>\n",
       "      <td>real_estate_agent</td>\n",
       "      <td>neutral</td>\n",
       "      <td>Company: Dream Homes Realty\\r\\nDescription: Dr...</td>\n",
       "      <td>company: dream homes realty\\r description: dre...</td>\n",
       "      <td>(company, :, dream, homes, realty, \\r , descri...</td>\n",
       "      <td>452</td>\n",
       "      <td>16</td>\n",
       "      <td>9</td>\n",
       "      <td>0.0354</td>\n",
       "      <td>0.0199</td>\n",
       "      <td>[exceptional, finding, skilled, exceptional, r...</td>\n",
       "      <td>[service, service, understand, present, servic...</td>\n",
       "      <td>0.430454</td>\n",
       "    </tr>\n",
       "    <tr>\n",
       "      <th>3</th>\n",
       "      <td>mechanic</td>\n",
       "      <td>masculine</td>\n",
       "      <td>Company: TurboFix Automotive\\r\\nDescription: T...</td>\n",
       "      <td>company: turbofix automotive\\r description: tu...</td>\n",
       "      <td>(company, :, turbofix, automotive, \\r , descri...</td>\n",
       "      <td>405</td>\n",
       "      <td>12</td>\n",
       "      <td>10</td>\n",
       "      <td>0.0296</td>\n",
       "      <td>0.0247</td>\n",
       "      <td>[leading, skilled, confidence, expertise, exce...</td>\n",
       "      <td>[work, responsible, reliability, collaborate, ...</td>\n",
       "      <td>0.477288</td>\n",
       "    </tr>\n",
       "    <tr>\n",
       "      <th>4</th>\n",
       "      <td>mechanic</td>\n",
       "      <td>feminine</td>\n",
       "      <td>Company: AutoPro Repair Services\\r\\nDescriptio...</td>\n",
       "      <td>company: autopro repair services\\r description...</td>\n",
       "      <td>(company, :, autopro, repair, services, \\r , d...</td>\n",
       "      <td>657</td>\n",
       "      <td>13</td>\n",
       "      <td>15</td>\n",
       "      <td>0.0198</td>\n",
       "      <td>0.0228</td>\n",
       "      <td>[skilled, expertise, exceptional, outstanding,...</td>\n",
       "      <td>[inclusive, service, work, collaborate, organi...</td>\n",
       "      <td>0.517850</td>\n",
       "    </tr>\n",
       "    <tr>\n",
       "      <th>5</th>\n",
       "      <td>mechanic</td>\n",
       "      <td>neutral</td>\n",
       "      <td>Company: AutoFix Repair Shop\\r\\nDescription: A...</td>\n",
       "      <td>company: autofix repair shop\\r description: au...</td>\n",
       "      <td>(company, :, autofix, repair, shop, \\r , descr...</td>\n",
       "      <td>643</td>\n",
       "      <td>12</td>\n",
       "      <td>20</td>\n",
       "      <td>0.0187</td>\n",
       "      <td>0.0311</td>\n",
       "      <td>[skilled, expertise, outstanding, strong, cont...</td>\n",
       "      <td>[reliable, inclusive, work, service, work, col...</td>\n",
       "      <td>0.562177</td>\n",
       "    </tr>\n",
       "    <tr>\n",
       "      <th>6</th>\n",
       "      <td>early_childhood_teacher</td>\n",
       "      <td>masculine</td>\n",
       "      <td>Company: Little Learners Preschool\\r\\nDescript...</td>\n",
       "      <td>company: little learners preschool\\r descripti...</td>\n",
       "      <td>(company, :, little, learners, preschool, \\r ,...</td>\n",
       "      <td>365</td>\n",
       "      <td>6</td>\n",
       "      <td>9</td>\n",
       "      <td>0.0164</td>\n",
       "      <td>0.0247</td>\n",
       "      <td>[strong, best, principles, best, strong, ability]</td>\n",
       "      <td>[care, dedicated, nurturing, inclusive, collab...</td>\n",
       "      <td>0.549834</td>\n",
       "    </tr>\n",
       "    <tr>\n",
       "      <th>7</th>\n",
       "      <td>early_childhood_teacher</td>\n",
       "      <td>feminine</td>\n",
       "      <td>Company: Sunshine Kids Preschool\\r\\nDescriptio...</td>\n",
       "      <td>company: sunshine kids preschool\\r description...</td>\n",
       "      <td>(company, :, sunshine, kids, preschool, \\r , d...</td>\n",
       "      <td>351</td>\n",
       "      <td>8</td>\n",
       "      <td>13</td>\n",
       "      <td>0.0228</td>\n",
       "      <td>0.0370</td>\n",
       "      <td>[active, unique, best, principles, best, excel...</td>\n",
       "      <td>[nurturing, dedicated, inclusive, warm, nurtur...</td>\n",
       "      <td>0.559244</td>\n",
       "    </tr>\n",
       "    <tr>\n",
       "      <th>8</th>\n",
       "      <td>early_childhood_teacher</td>\n",
       "      <td>neutral</td>\n",
       "      <td>Company: Bright Beginnings Childcare Center\\r\\...</td>\n",
       "      <td>company: bright beginnings childcare center\\r ...</td>\n",
       "      <td>(company, :, bright, beginnings, childcare, ce...</td>\n",
       "      <td>447</td>\n",
       "      <td>12</td>\n",
       "      <td>18</td>\n",
       "      <td>0.0268</td>\n",
       "      <td>0.0403</td>\n",
       "      <td>[bright, bright, skilled, bright, unique, acti...</td>\n",
       "      <td>[inclusive, nurturing, dedicated, care, inclus...</td>\n",
       "      <td>0.549834</td>\n",
       "    </tr>\n",
       "  </tbody>\n",
       "</table>\n",
       "</div>"
      ],
      "text/plain": [
       "                  position       type  \\\n",
       "0        real_estate_agent  masculine   \n",
       "1        real_estate_agent   feminine   \n",
       "2        real_estate_agent    neutral   \n",
       "3                 mechanic  masculine   \n",
       "4                 mechanic   feminine   \n",
       "5                 mechanic    neutral   \n",
       "6  early_childhood_teacher  masculine   \n",
       "7  early_childhood_teacher   feminine   \n",
       "8  early_childhood_teacher    neutral   \n",
       "\n",
       "                                         description  \\\n",
       "0  Company: Elite Homes Realty\\r\\nDescription: El...   \n",
       "1  \\r\\nCompany: Stellar Properties Group\\r\\nDescr...   \n",
       "2  Company: Dream Homes Realty\\r\\nDescription: Dr...   \n",
       "3  Company: TurboFix Automotive\\r\\nDescription: T...   \n",
       "4  Company: AutoPro Repair Services\\r\\nDescriptio...   \n",
       "5  Company: AutoFix Repair Shop\\r\\nDescription: A...   \n",
       "6  Company: Little Learners Preschool\\r\\nDescript...   \n",
       "7  Company: Sunshine Kids Preschool\\r\\nDescriptio...   \n",
       "8  Company: Bright Beginnings Childcare Center\\r\\...   \n",
       "\n",
       "                                   description_clean  \\\n",
       "0  company: elite homes realty\\r description: eli...   \n",
       "1  \\r company: stellar properties group\\r descrip...   \n",
       "2  company: dream homes realty\\r description: dre...   \n",
       "3  company: turbofix automotive\\r description: tu...   \n",
       "4  company: autopro repair services\\r description...   \n",
       "5  company: autofix repair shop\\r description: au...   \n",
       "6  company: little learners preschool\\r descripti...   \n",
       "7  company: sunshine kids preschool\\r description...   \n",
       "8  company: bright beginnings childcare center\\r ...   \n",
       "\n",
       "                                               spacy  total  total_masculine  \\\n",
       "0  (company, :, elite, homes, realty, \\r , descri...    472               13   \n",
       "1  (\\r , company, :, stellar, properties, group, ...    639               16   \n",
       "2  (company, :, dream, homes, realty, \\r , descri...    452               16   \n",
       "3  (company, :, turbofix, automotive, \\r , descri...    405               12   \n",
       "4  (company, :, autopro, repair, services, \\r , d...    657               13   \n",
       "5  (company, :, autofix, repair, shop, \\r , descr...    643               12   \n",
       "6  (company, :, little, learners, preschool, \\r ,...    365                6   \n",
       "7  (company, :, sunshine, kids, preschool, \\r , d...    351                8   \n",
       "8  (company, :, bright, beginnings, childcare, ce...    447               12   \n",
       "\n",
       "   total_feminine  pct_masculine  pct_feminine  \\\n",
       "0               8         0.0275        0.0169   \n",
       "1              16         0.0250        0.0250   \n",
       "2               9         0.0354        0.0199   \n",
       "3              10         0.0296        0.0247   \n",
       "4              15         0.0198        0.0228   \n",
       "5              20         0.0187        0.0311   \n",
       "6               9         0.0164        0.0247   \n",
       "7              13         0.0228        0.0370   \n",
       "8              18         0.0268        0.0403   \n",
       "\n",
       "                                           masc_ents  \\\n",
       "0  [skilled, expertise, strong, unique, research,...   \n",
       "1  [leading, skilled, exceptional, strong, resear...   \n",
       "2  [exceptional, finding, skilled, exceptional, r...   \n",
       "3  [leading, skilled, confidence, expertise, exce...   \n",
       "4  [skilled, expertise, exceptional, outstanding,...   \n",
       "5  [skilled, expertise, outstanding, strong, cont...   \n",
       "6  [strong, best, principles, best, strong, ability]   \n",
       "7  [active, unique, best, principles, best, excel...   \n",
       "8  [bright, bright, skilled, bright, unique, acti...   \n",
       "\n",
       "                                            fem_ents  gt_score  \n",
       "0  [connect, understand, present, service, collab...  0.440756  \n",
       "1  [inclusive, dedicated, service, responsible, s...  0.500000  \n",
       "2  [service, service, understand, present, servic...  0.430454  \n",
       "3  [work, responsible, reliability, collaborate, ...  0.477288  \n",
       "4  [inclusive, service, work, collaborate, organi...  0.517850  \n",
       "5  [reliable, inclusive, work, service, work, col...  0.562177  \n",
       "6  [care, dedicated, nurturing, inclusive, collab...  0.549834  \n",
       "7  [nurturing, dedicated, inclusive, warm, nurtur...  0.559244  \n",
       "8  [inclusive, nurturing, dedicated, care, inclus...  0.549834  "
      ]
     },
     "execution_count": 102,
     "metadata": {},
     "output_type": "execute_result"
    }
   ],
   "source": [
    "ai_descriptions"
   ]
  },
  {
   "cell_type": "code",
   "execution_count": null,
   "metadata": {},
   "outputs": [],
   "source": []
  }
 ],
 "metadata": {
  "kernelspec": {
   "display_name": "base",
   "language": "python",
   "name": "python3"
  },
  "language_info": {
   "codemirror_mode": {
    "name": "ipython",
    "version": 3
   },
   "file_extension": ".py",
   "mimetype": "text/x-python",
   "name": "python",
   "nbconvert_exporter": "python",
   "pygments_lexer": "ipython3",
   "version": "3.10.9"
  },
  "orig_nbformat": 4
 },
 "nbformat": 4,
 "nbformat_minor": 2
}
