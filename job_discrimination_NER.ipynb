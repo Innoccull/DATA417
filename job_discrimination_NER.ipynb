{
 "cells": [
  {
   "cell_type": "code",
   "execution_count": 61,
   "metadata": {},
   "outputs": [],
   "source": [
    "# Import necessary libraries\n",
    "\n",
    "import pandas as pd\n",
    "from bs4 import BeautifulSoup\n",
    "import os\n",
    "import spacy\n",
    "\n",
    "import csv\n",
    "import json\n",
    "import itertools\n",
    "\n",
    "from pathlib import Path\n",
    "\n",
    "import csv\n",
    "import json\n",
    "import pandas as pd\n",
    "import spacy\n",
    "import math\n",
    "\n",
    "\n",
    "from bs4 import BeautifulSoup\n",
    "from spacy import displacy\n",
    "from pathlib import Path\n",
    "from cairosvg import svg2png"
   ]
  },
  {
   "attachments": {},
   "cell_type": "markdown",
   "metadata": {},
   "source": [
    "## Load and clean job descriptions"
   ]
  },
  {
   "attachments": {},
   "cell_type": "markdown",
   "metadata": {},
   "source": [
    "Load and clean the indeed.com job advertisement data."
   ]
  },
  {
   "cell_type": "code",
   "execution_count": 62,
   "metadata": {},
   "outputs": [],
   "source": [
    "# Get current directory for constructing file paths\n",
    "current_directory = os.getcwd()"
   ]
  },
  {
   "cell_type": "code",
   "execution_count": 63,
   "metadata": {},
   "outputs": [],
   "source": [
    "# Load job data\n",
    "path = Path(os.path.join(current_directory, \"data/jobs_raw.zip\"))\n",
    "df = pd.read_csv(path)\n",
    "\n",
    "# Get just job descriptions\n",
    "descriptions = df['Job Description']"
   ]
  },
  {
   "cell_type": "code",
   "execution_count": 64,
   "metadata": {},
   "outputs": [],
   "source": [
    "# Function to tidy job description data\n",
    "def pre_process_text(description, html=True):\n",
    "\n",
    "    text = description\n",
    "\n",
    "    if(html):\n",
    "        soup = BeautifulSoup(description, \"html.parser\")\n",
    "        text = soup.get_text(separator=' ')\n",
    "\n",
    "        # Replace newline characters with spaces\n",
    "        text = text.replace('\\n', ' ')\n",
    "\n",
    "\n",
    "    # to lower\n",
    "    text = text.lower()\n",
    "\n",
    "    # remove URLS\n",
    "\n",
    "    return text"
   ]
  },
  {
   "cell_type": "code",
   "execution_count": 65,
   "metadata": {},
   "outputs": [],
   "source": [
    "# Tidy and save descriptions - taking just the top 1000 results\n",
    "result = descriptions.sample(n=1000, random_state=2)\n",
    "result = result.apply(pre_process_text)\n",
    "\n",
    "result.to_csv(\"data/descriptions_clean.csv\")"
   ]
  },
  {
   "attachments": {},
   "cell_type": "markdown",
   "metadata": {},
   "source": [
    "## Create training data"
   ]
  },
  {
   "attachments": {},
   "cell_type": "markdown",
   "metadata": {},
   "source": [
    "Create training data to be used for training ner model."
   ]
  },
  {
   "cell_type": "code",
   "execution_count": 66,
   "metadata": {},
   "outputs": [],
   "source": [
    "# Define the file paths for the CSV and JSONL files\n",
    "csv_file_path = Path(os.path.join(current_directory, \"data/descriptions_clean.csv\"))\n",
    "jsonl_file_path = Path(os.path.join(current_directory, \"data/data.jsonl\"))\n",
    "masculine_file_path = Path(os.path.join(current_directory, \"data/masculine.csv\"))\n",
    "feminine__file_path = Path(os.path.join(current_directory, \"data/feminine.csv\"))\n",
    "\n",
    "\n",
    "# Load word lists\n",
    "with open(masculine_file_path, newline='') as f:\n",
    "    masculine_words = [row[0] for row in csv.reader(f)]\n",
    "with open(feminine__file_path, newline='') as f:\n",
    "    feminine_words = [row[0] for row in csv.reader(f)]\n",
    "\n",
    "\n",
    "wordlists = {\n",
    "    \"MAS\" : masculine_words,\n",
    "    \"FEM\" : feminine_words\n",
    "}"
   ]
  },
  {
   "cell_type": "code",
   "execution_count": 67,
   "metadata": {},
   "outputs": [],
   "source": [
    "# Load spacy\n",
    "nlp = spacy.load('en_core_web_sm')"
   ]
  },
  {
   "cell_type": "code",
   "execution_count": 68,
   "metadata": {},
   "outputs": [],
   "source": [
    "# Define helper functions\n",
    "\n",
    "# Set index of matches in for a given text in a spacy document\n",
    "def match_words(text):\n",
    "    # Create an empty list to store the matches\n",
    "    matches = []\n",
    "    # Create a spaCy Doc object from the text\n",
    "    doc = nlp(text)\n",
    "    # Loop through the word lists and check for matches\n",
    "    for list_name, word_list in wordlists.items():\n",
    "        for word in word_list:\n",
    "            for token in doc:\n",
    "                if token.text.lower() == word:\n",
    "                    matches.append(\n",
    "                        [\n",
    "                            token.idx,\n",
    "                            token.idx + len(token.text),\n",
    "                            list_name\n",
    "                        ]\n",
    "                    )\n",
    "    # Return the matches\n",
    "    return matches\n",
    "\n",
    "\n",
    "# Process each row of a CSV file\n",
    "def process_row(row):\n",
    "    # Get the text description from the row\n",
    "    text = row[\"Job Description\"]\n",
    "    # Match the words in the text and get the label attributes\n",
    "    matches = match_words(text)\n",
    "    # Return a dictionary with the text and label attributes\n",
    "    return {\"text\": text, \"label\": matches}"
   ]
  },
  {
   "cell_type": "code",
   "execution_count": 69,
   "metadata": {},
   "outputs": [],
   "source": [
    "# Read in the CSV file and create a list of processed rows\n",
    "processed_rows = []\n",
    "with open(csv_file_path) as csvfile:\n",
    "    reader = csv.DictReader(csvfile)\n",
    "    for row in reader:\n",
    "        processed_rows.append(process_row(row))"
   ]
  },
  {
   "cell_type": "code",
   "execution_count": 70,
   "metadata": {},
   "outputs": [],
   "source": [
    "# Write the processed rows to a JSONL file\n",
    "with open(jsonl_file_path, \"w\") as outfile:\n",
    "    for row in processed_rows:\n",
    "        json.dump(row, outfile)\n",
    "        outfile.write(\"\\n\")"
   ]
  },
  {
   "cell_type": "code",
   "execution_count": 71,
   "metadata": {},
   "outputs": [],
   "source": [
    "# Define the file paths for train and test\n",
    "train_file_path = Path(os.path.join(current_directory, \"ner_demo/assets/train.json\"))\n",
    "test_file_path = Path(os.path.join(current_directory, \"ner_demo/assets/test.json\"))\n",
    "\n",
    "\n",
    "# Create train and dev versions the job description data\n",
    "result = []\n",
    "\n",
    "with open(jsonl_file_path, 'r') as f:\n",
    "    for line in f.readlines():\n",
    "        data = json.loads(line)\n",
    "\n",
    "        labels = data['label']\n",
    "        labels.sort()\n",
    "        labels = list(l for l,_ in itertools.groupby(labels))\n",
    "\n",
    "        entry = [data['text'], {\"entities\" : labels}]\n",
    "\n",
    "        result.append(entry)\n",
    "    \n",
    "    n = len(result)\n",
    "    n_train = int(n * 0.7)\n",
    "\n",
    "    train = result[0:n_train]\n",
    "    dev = result[n_train+1:n]\n",
    "\n",
    "    with open(train_file_path, 'w') as g:\n",
    "        json.dump(train, g)\n",
    "\n",
    "    with open(test_file_path, 'w') as h:\n",
    "        json.dump(dev, h)\n"
   ]
  },
  {
   "attachments": {},
   "cell_type": "markdown",
   "metadata": {},
   "source": [
    "## Train and evaluate model"
   ]
  },
  {
   "attachments": {},
   "cell_type": "markdown",
   "metadata": {},
   "source": [
    "Train and evaluate the Named Entity Recognition model."
   ]
  },
  {
   "cell_type": "code",
   "execution_count": 72,
   "metadata": {},
   "outputs": [
    {
     "name": "stdout",
     "output_type": "stream",
     "text": [
      "ℹ Running workflow 'all'\n",
      "\u001b[1m\n",
      "================================== convert ==================================\u001b[0m\n",
      "ℹ Skipping 'convert': nothing changed\n",
      "\u001b[1m\n",
      "=================================== train ===================================\u001b[0m\n",
      "ℹ Skipping 'train': nothing changed\n",
      "\u001b[1m\n",
      "================================== evaluate ==================================\u001b[0m\n",
      "ℹ Skipping 'evaluate': nothing changed\n"
     ]
    }
   ],
   "source": [
    "# Train the model\n",
    "\n",
    "!python -m spacy project run all ./ner_demo"
   ]
  },
  {
   "cell_type": "code",
   "execution_count": 99,
   "metadata": {},
   "outputs": [],
   "source": [
    "# Function to get spacy doc summary stats\n",
    "def get_doc_stats(doc):\n",
    "\n",
    "    total_tokens = doc.__len__()\n",
    "\n",
    "    total_masculine = len([ent.text for ent in doc.ents if ent.label_ == \"MAS\"])\n",
    "    total_feminine = len([ent.text for ent in doc.ents if ent.label_ == \"FEM\"])\n",
    "\n",
    "    n = total_feminine + total_masculine\n",
    "\n",
    "    if (n == 0):\n",
    "        gt_score = 0.5\n",
    "    else:\n",
    "        x = (1/n)*(total_feminine - total_masculine)\n",
    "        gt_score = 1/(1+math.exp(-x))\n",
    "\n",
    "\n",
    "    result = {\n",
    "        'total': total_tokens,\n",
    "        'total_masculine': total_masculine,\n",
    "        'total_feminine': total_feminine,\n",
    "        'pct_masculine': round(total_masculine/total_tokens, 4),\n",
    "        'pct_feminine': round(total_feminine/total_tokens, 4),\n",
    "        'masc_ents': [ent.text for ent in doc.ents if ent.label_ == \"MAS\"],\n",
    "        'fem_ents' : [ent.text for ent in doc.ents if ent.label_ == \"FEM\"],\n",
    "        'gt_score' : gt_score\n",
    "    }\n",
    "\n",
    "    return result"
   ]
  },
  {
   "cell_type": "code",
   "execution_count": 100,
   "metadata": {},
   "outputs": [],
   "source": [
    "# Load NER model\n",
    "model_path = Path(os.path.join(current_directory, \"ner_demo/training/model-best\"))\n",
    "\n",
    "nlp = spacy.load(model_path)"
   ]
  },
  {
   "cell_type": "code",
   "execution_count": 120,
   "metadata": {},
   "outputs": [
    {
     "ename": "KeyboardInterrupt",
     "evalue": "",
     "output_type": "error",
     "traceback": [
      "\u001b[1;31m---------------------------------------------------------------------------\u001b[0m",
      "\u001b[1;31mKeyboardInterrupt\u001b[0m                         Traceback (most recent call last)",
      "Cell \u001b[1;32mIn[120], line 8\u001b[0m\n\u001b[0;32m      5\u001b[0m description_eval_sample[\u001b[39m\"\u001b[39m\u001b[39mdescription_clean\u001b[39m\u001b[39m\"\u001b[39m] \u001b[39m=\u001b[39m description_eval_sample[\u001b[39m'\u001b[39m\u001b[39mJob Description\u001b[39m\u001b[39m'\u001b[39m]\u001b[39m.\u001b[39mapply(pre_process_text)\n\u001b[0;32m      7\u001b[0m \u001b[39m# Create spacy Doc object for each job description\u001b[39;00m\n\u001b[1;32m----> 8\u001b[0m description_eval_sample[\u001b[39m'\u001b[39m\u001b[39mspacy\u001b[39m\u001b[39m'\u001b[39m] \u001b[39m=\u001b[39m description_eval_sample[\u001b[39m'\u001b[39;49m\u001b[39mdescription_clean\u001b[39;49m\u001b[39m'\u001b[39;49m]\u001b[39m.\u001b[39;49mapply(\u001b[39mlambda\u001b[39;49;00m row: nlp(row))\n\u001b[0;32m     10\u001b[0m \u001b[39m# Get summary statistics for Doc object\u001b[39;00m\n\u001b[0;32m     11\u001b[0m description_eval_sample[\u001b[39m'\u001b[39m\u001b[39mtoken_summary\u001b[39m\u001b[39m'\u001b[39m] \u001b[39m=\u001b[39m description_eval_sample[\u001b[39m'\u001b[39m\u001b[39mspacy\u001b[39m\u001b[39m'\u001b[39m]\u001b[39m.\u001b[39mapply(\u001b[39mlambda\u001b[39;00m row: get_doc_stats(row))\n",
      "File \u001b[1;32mc:\\Users\\chris\\anaconda3\\lib\\site-packages\\pandas\\core\\series.py:4771\u001b[0m, in \u001b[0;36mSeries.apply\u001b[1;34m(self, func, convert_dtype, args, **kwargs)\u001b[0m\n\u001b[0;32m   4661\u001b[0m \u001b[39mdef\u001b[39;00m \u001b[39mapply\u001b[39m(\n\u001b[0;32m   4662\u001b[0m     \u001b[39mself\u001b[39m,\n\u001b[0;32m   4663\u001b[0m     func: AggFuncType,\n\u001b[1;32m   (...)\u001b[0m\n\u001b[0;32m   4666\u001b[0m     \u001b[39m*\u001b[39m\u001b[39m*\u001b[39mkwargs,\n\u001b[0;32m   4667\u001b[0m ) \u001b[39m-\u001b[39m\u001b[39m>\u001b[39m DataFrame \u001b[39m|\u001b[39m Series:\n\u001b[0;32m   4668\u001b[0m     \u001b[39m\"\"\"\u001b[39;00m\n\u001b[0;32m   4669\u001b[0m \u001b[39m    Invoke function on values of Series.\u001b[39;00m\n\u001b[0;32m   4670\u001b[0m \n\u001b[1;32m   (...)\u001b[0m\n\u001b[0;32m   4769\u001b[0m \u001b[39m    dtype: float64\u001b[39;00m\n\u001b[0;32m   4770\u001b[0m \u001b[39m    \"\"\"\u001b[39;00m\n\u001b[1;32m-> 4771\u001b[0m     \u001b[39mreturn\u001b[39;00m SeriesApply(\u001b[39mself\u001b[39;49m, func, convert_dtype, args, kwargs)\u001b[39m.\u001b[39;49mapply()\n",
      "File \u001b[1;32mc:\\Users\\chris\\anaconda3\\lib\\site-packages\\pandas\\core\\apply.py:1123\u001b[0m, in \u001b[0;36mSeriesApply.apply\u001b[1;34m(self)\u001b[0m\n\u001b[0;32m   1120\u001b[0m     \u001b[39mreturn\u001b[39;00m \u001b[39mself\u001b[39m\u001b[39m.\u001b[39mapply_str()\n\u001b[0;32m   1122\u001b[0m \u001b[39m# self.f is Callable\u001b[39;00m\n\u001b[1;32m-> 1123\u001b[0m \u001b[39mreturn\u001b[39;00m \u001b[39mself\u001b[39;49m\u001b[39m.\u001b[39;49mapply_standard()\n",
      "File \u001b[1;32mc:\\Users\\chris\\anaconda3\\lib\\site-packages\\pandas\\core\\apply.py:1174\u001b[0m, in \u001b[0;36mSeriesApply.apply_standard\u001b[1;34m(self)\u001b[0m\n\u001b[0;32m   1172\u001b[0m     \u001b[39melse\u001b[39;00m:\n\u001b[0;32m   1173\u001b[0m         values \u001b[39m=\u001b[39m obj\u001b[39m.\u001b[39mastype(\u001b[39mobject\u001b[39m)\u001b[39m.\u001b[39m_values\n\u001b[1;32m-> 1174\u001b[0m         mapped \u001b[39m=\u001b[39m lib\u001b[39m.\u001b[39;49mmap_infer(\n\u001b[0;32m   1175\u001b[0m             values,\n\u001b[0;32m   1176\u001b[0m             f,\n\u001b[0;32m   1177\u001b[0m             convert\u001b[39m=\u001b[39;49m\u001b[39mself\u001b[39;49m\u001b[39m.\u001b[39;49mconvert_dtype,\n\u001b[0;32m   1178\u001b[0m         )\n\u001b[0;32m   1180\u001b[0m \u001b[39mif\u001b[39;00m \u001b[39mlen\u001b[39m(mapped) \u001b[39mand\u001b[39;00m \u001b[39misinstance\u001b[39m(mapped[\u001b[39m0\u001b[39m], ABCSeries):\n\u001b[0;32m   1181\u001b[0m     \u001b[39m# GH#43986 Need to do list(mapped) in order to get treated as nested\u001b[39;00m\n\u001b[0;32m   1182\u001b[0m     \u001b[39m#  See also GH#25959 regarding EA support\u001b[39;00m\n\u001b[0;32m   1183\u001b[0m     \u001b[39mreturn\u001b[39;00m obj\u001b[39m.\u001b[39m_constructor_expanddim(\u001b[39mlist\u001b[39m(mapped), index\u001b[39m=\u001b[39mobj\u001b[39m.\u001b[39mindex)\n",
      "File \u001b[1;32mc:\\Users\\chris\\anaconda3\\lib\\site-packages\\pandas\\_libs\\lib.pyx:2924\u001b[0m, in \u001b[0;36mpandas._libs.lib.map_infer\u001b[1;34m()\u001b[0m\n",
      "Cell \u001b[1;32mIn[120], line 8\u001b[0m, in \u001b[0;36m<lambda>\u001b[1;34m(row)\u001b[0m\n\u001b[0;32m      5\u001b[0m description_eval_sample[\u001b[39m\"\u001b[39m\u001b[39mdescription_clean\u001b[39m\u001b[39m\"\u001b[39m] \u001b[39m=\u001b[39m description_eval_sample[\u001b[39m'\u001b[39m\u001b[39mJob Description\u001b[39m\u001b[39m'\u001b[39m]\u001b[39m.\u001b[39mapply(pre_process_text)\n\u001b[0;32m      7\u001b[0m \u001b[39m# Create spacy Doc object for each job description\u001b[39;00m\n\u001b[1;32m----> 8\u001b[0m description_eval_sample[\u001b[39m'\u001b[39m\u001b[39mspacy\u001b[39m\u001b[39m'\u001b[39m] \u001b[39m=\u001b[39m description_eval_sample[\u001b[39m'\u001b[39m\u001b[39mdescription_clean\u001b[39m\u001b[39m'\u001b[39m]\u001b[39m.\u001b[39mapply(\u001b[39mlambda\u001b[39;00m row: nlp(row))\n\u001b[0;32m     10\u001b[0m \u001b[39m# Get summary statistics for Doc object\u001b[39;00m\n\u001b[0;32m     11\u001b[0m description_eval_sample[\u001b[39m'\u001b[39m\u001b[39mtoken_summary\u001b[39m\u001b[39m'\u001b[39m] \u001b[39m=\u001b[39m description_eval_sample[\u001b[39m'\u001b[39m\u001b[39mspacy\u001b[39m\u001b[39m'\u001b[39m]\u001b[39m.\u001b[39mapply(\u001b[39mlambda\u001b[39;00m row: get_doc_stats(row))\n",
      "File \u001b[1;32mc:\\Users\\chris\\anaconda3\\lib\\site-packages\\spacy\\language.py:1020\u001b[0m, in \u001b[0;36mLanguage.__call__\u001b[1;34m(self, text, disable, component_cfg)\u001b[0m\n\u001b[0;32m   1018\u001b[0m     error_handler \u001b[39m=\u001b[39m proc\u001b[39m.\u001b[39mget_error_handler()\n\u001b[0;32m   1019\u001b[0m \u001b[39mtry\u001b[39;00m:\n\u001b[1;32m-> 1020\u001b[0m     doc \u001b[39m=\u001b[39m proc(doc, \u001b[39m*\u001b[39m\u001b[39m*\u001b[39mcomponent_cfg\u001b[39m.\u001b[39mget(name, {}))  \u001b[39m# type: ignore[call-arg]\u001b[39;00m\n\u001b[0;32m   1021\u001b[0m \u001b[39mexcept\u001b[39;00m \u001b[39mKeyError\u001b[39;00m \u001b[39mas\u001b[39;00m e:\n\u001b[0;32m   1022\u001b[0m     \u001b[39m# This typically happens if a component is not initialized\u001b[39;00m\n\u001b[0;32m   1023\u001b[0m     \u001b[39mraise\u001b[39;00m \u001b[39mValueError\u001b[39;00m(Errors\u001b[39m.\u001b[39mE109\u001b[39m.\u001b[39mformat(name\u001b[39m=\u001b[39mname)) \u001b[39mfrom\u001b[39;00m \u001b[39me\u001b[39;00m\n",
      "File \u001b[1;32mc:\\Users\\chris\\anaconda3\\lib\\site-packages\\spacy\\pipeline\\trainable_pipe.pyx:52\u001b[0m, in \u001b[0;36mspacy.pipeline.trainable_pipe.TrainablePipe.__call__\u001b[1;34m()\u001b[0m\n",
      "File \u001b[1;32mc:\\Users\\chris\\anaconda3\\lib\\site-packages\\spacy\\pipeline\\tok2vec.py:125\u001b[0m, in \u001b[0;36mTok2Vec.predict\u001b[1;34m(self, docs)\u001b[0m\n\u001b[0;32m    123\u001b[0m     width \u001b[39m=\u001b[39m \u001b[39mself\u001b[39m\u001b[39m.\u001b[39mmodel\u001b[39m.\u001b[39mget_dim(\u001b[39m\"\u001b[39m\u001b[39mnO\u001b[39m\u001b[39m\"\u001b[39m)\n\u001b[0;32m    124\u001b[0m     \u001b[39mreturn\u001b[39;00m [\u001b[39mself\u001b[39m\u001b[39m.\u001b[39mmodel\u001b[39m.\u001b[39mops\u001b[39m.\u001b[39malloc((\u001b[39m0\u001b[39m, width)) \u001b[39mfor\u001b[39;00m doc \u001b[39min\u001b[39;00m docs]\n\u001b[1;32m--> 125\u001b[0m tokvecs \u001b[39m=\u001b[39m \u001b[39mself\u001b[39;49m\u001b[39m.\u001b[39;49mmodel\u001b[39m.\u001b[39;49mpredict(docs)\n\u001b[0;32m    126\u001b[0m batch_id \u001b[39m=\u001b[39m Tok2VecListener\u001b[39m.\u001b[39mget_batch_id(docs)\n\u001b[0;32m    127\u001b[0m \u001b[39mfor\u001b[39;00m listener \u001b[39min\u001b[39;00m \u001b[39mself\u001b[39m\u001b[39m.\u001b[39mlisteners:\n",
      "File \u001b[1;32mc:\\Users\\chris\\anaconda3\\lib\\site-packages\\thinc\\model.py:315\u001b[0m, in \u001b[0;36mModel.predict\u001b[1;34m(self, X)\u001b[0m\n\u001b[0;32m    311\u001b[0m \u001b[39mdef\u001b[39;00m \u001b[39mpredict\u001b[39m(\u001b[39mself\u001b[39m, X: InT) \u001b[39m-\u001b[39m\u001b[39m>\u001b[39m OutT:\n\u001b[0;32m    312\u001b[0m     \u001b[39m\"\"\"Call the model's `forward` function with `is_train=False`, and return\u001b[39;00m\n\u001b[0;32m    313\u001b[0m \u001b[39m    only the output, instead of the `(output, callback)` tuple.\u001b[39;00m\n\u001b[0;32m    314\u001b[0m \u001b[39m    \"\"\"\u001b[39;00m\n\u001b[1;32m--> 315\u001b[0m     \u001b[39mreturn\u001b[39;00m \u001b[39mself\u001b[39;49m\u001b[39m.\u001b[39;49m_func(\u001b[39mself\u001b[39;49m, X, is_train\u001b[39m=\u001b[39;49m\u001b[39mFalse\u001b[39;49;00m)[\u001b[39m0\u001b[39m]\n",
      "File \u001b[1;32mc:\\Users\\chris\\anaconda3\\lib\\site-packages\\thinc\\layers\\chain.py:54\u001b[0m, in \u001b[0;36mforward\u001b[1;34m(model, X, is_train)\u001b[0m\n\u001b[0;32m     52\u001b[0m callbacks \u001b[39m=\u001b[39m []\n\u001b[0;32m     53\u001b[0m \u001b[39mfor\u001b[39;00m layer \u001b[39min\u001b[39;00m model\u001b[39m.\u001b[39mlayers:\n\u001b[1;32m---> 54\u001b[0m     Y, inc_layer_grad \u001b[39m=\u001b[39m layer(X, is_train\u001b[39m=\u001b[39;49mis_train)\n\u001b[0;32m     55\u001b[0m     callbacks\u001b[39m.\u001b[39mappend(inc_layer_grad)\n\u001b[0;32m     56\u001b[0m     X \u001b[39m=\u001b[39m Y\n",
      "File \u001b[1;32mc:\\Users\\chris\\anaconda3\\lib\\site-packages\\thinc\\model.py:291\u001b[0m, in \u001b[0;36mModel.__call__\u001b[1;34m(self, X, is_train)\u001b[0m\n\u001b[0;32m    288\u001b[0m \u001b[39mdef\u001b[39;00m \u001b[39m__call__\u001b[39m(\u001b[39mself\u001b[39m, X: InT, is_train: \u001b[39mbool\u001b[39m) \u001b[39m-\u001b[39m\u001b[39m>\u001b[39m Tuple[OutT, Callable]:\n\u001b[0;32m    289\u001b[0m     \u001b[39m\"\"\"Call the model's `forward` function, returning the output and a\u001b[39;00m\n\u001b[0;32m    290\u001b[0m \u001b[39m    callback to compute the gradients via backpropagation.\"\"\"\u001b[39;00m\n\u001b[1;32m--> 291\u001b[0m     \u001b[39mreturn\u001b[39;00m \u001b[39mself\u001b[39;49m\u001b[39m.\u001b[39;49m_func(\u001b[39mself\u001b[39;49m, X, is_train\u001b[39m=\u001b[39;49mis_train)\n",
      "File \u001b[1;32mc:\\Users\\chris\\anaconda3\\lib\\site-packages\\thinc\\layers\\with_array.py:40\u001b[0m, in \u001b[0;36mforward\u001b[1;34m(model, Xseq, is_train)\u001b[0m\n\u001b[0;32m     38\u001b[0m     \u001b[39mreturn\u001b[39;00m model\u001b[39m.\u001b[39mlayers[\u001b[39m0\u001b[39m](Xseq, is_train)\n\u001b[0;32m     39\u001b[0m \u001b[39melse\u001b[39;00m:\n\u001b[1;32m---> 40\u001b[0m     \u001b[39mreturn\u001b[39;00m _list_forward(cast(Model[List2d, List2d], model), Xseq, is_train)\n",
      "File \u001b[1;32mc:\\Users\\chris\\anaconda3\\lib\\site-packages\\thinc\\layers\\with_array.py:76\u001b[0m, in \u001b[0;36m_list_forward\u001b[1;34m(model, Xs, is_train)\u001b[0m\n\u001b[0;32m     74\u001b[0m lengths \u001b[39m=\u001b[39m layer\u001b[39m.\u001b[39mops\u001b[39m.\u001b[39masarray1i([\u001b[39mlen\u001b[39m(seq) \u001b[39mfor\u001b[39;00m seq \u001b[39min\u001b[39;00m Xs])\n\u001b[0;32m     75\u001b[0m Xf \u001b[39m=\u001b[39m layer\u001b[39m.\u001b[39mops\u001b[39m.\u001b[39mflatten(Xs, pad\u001b[39m=\u001b[39mpad)  \u001b[39m# type: ignore\u001b[39;00m\n\u001b[1;32m---> 76\u001b[0m Yf, get_dXf \u001b[39m=\u001b[39m layer(Xf, is_train)\n\u001b[0;32m     78\u001b[0m \u001b[39mdef\u001b[39;00m \u001b[39mbackprop\u001b[39m(dYs: List2d) \u001b[39m-\u001b[39m\u001b[39m>\u001b[39m List2d:\n\u001b[0;32m     79\u001b[0m     dYf \u001b[39m=\u001b[39m layer\u001b[39m.\u001b[39mops\u001b[39m.\u001b[39mflatten(dYs, pad\u001b[39m=\u001b[39mpad)  \u001b[39m# type: ignore\u001b[39;00m\n",
      "File \u001b[1;32mc:\\Users\\chris\\anaconda3\\lib\\site-packages\\thinc\\model.py:291\u001b[0m, in \u001b[0;36mModel.__call__\u001b[1;34m(self, X, is_train)\u001b[0m\n\u001b[0;32m    288\u001b[0m \u001b[39mdef\u001b[39;00m \u001b[39m__call__\u001b[39m(\u001b[39mself\u001b[39m, X: InT, is_train: \u001b[39mbool\u001b[39m) \u001b[39m-\u001b[39m\u001b[39m>\u001b[39m Tuple[OutT, Callable]:\n\u001b[0;32m    289\u001b[0m     \u001b[39m\"\"\"Call the model's `forward` function, returning the output and a\u001b[39;00m\n\u001b[0;32m    290\u001b[0m \u001b[39m    callback to compute the gradients via backpropagation.\"\"\"\u001b[39;00m\n\u001b[1;32m--> 291\u001b[0m     \u001b[39mreturn\u001b[39;00m \u001b[39mself\u001b[39;49m\u001b[39m.\u001b[39;49m_func(\u001b[39mself\u001b[39;49m, X, is_train\u001b[39m=\u001b[39;49mis_train)\n",
      "File \u001b[1;32mc:\\Users\\chris\\anaconda3\\lib\\site-packages\\thinc\\layers\\chain.py:54\u001b[0m, in \u001b[0;36mforward\u001b[1;34m(model, X, is_train)\u001b[0m\n\u001b[0;32m     52\u001b[0m callbacks \u001b[39m=\u001b[39m []\n\u001b[0;32m     53\u001b[0m \u001b[39mfor\u001b[39;00m layer \u001b[39min\u001b[39;00m model\u001b[39m.\u001b[39mlayers:\n\u001b[1;32m---> 54\u001b[0m     Y, inc_layer_grad \u001b[39m=\u001b[39m layer(X, is_train\u001b[39m=\u001b[39;49mis_train)\n\u001b[0;32m     55\u001b[0m     callbacks\u001b[39m.\u001b[39mappend(inc_layer_grad)\n\u001b[0;32m     56\u001b[0m     X \u001b[39m=\u001b[39m Y\n",
      "File \u001b[1;32mc:\\Users\\chris\\anaconda3\\lib\\site-packages\\thinc\\model.py:291\u001b[0m, in \u001b[0;36mModel.__call__\u001b[1;34m(self, X, is_train)\u001b[0m\n\u001b[0;32m    288\u001b[0m \u001b[39mdef\u001b[39;00m \u001b[39m__call__\u001b[39m(\u001b[39mself\u001b[39m, X: InT, is_train: \u001b[39mbool\u001b[39m) \u001b[39m-\u001b[39m\u001b[39m>\u001b[39m Tuple[OutT, Callable]:\n\u001b[0;32m    289\u001b[0m     \u001b[39m\"\"\"Call the model's `forward` function, returning the output and a\u001b[39;00m\n\u001b[0;32m    290\u001b[0m \u001b[39m    callback to compute the gradients via backpropagation.\"\"\"\u001b[39;00m\n\u001b[1;32m--> 291\u001b[0m     \u001b[39mreturn\u001b[39;00m \u001b[39mself\u001b[39;49m\u001b[39m.\u001b[39;49m_func(\u001b[39mself\u001b[39;49m, X, is_train\u001b[39m=\u001b[39;49mis_train)\n",
      "File \u001b[1;32mc:\\Users\\chris\\anaconda3\\lib\\site-packages\\thinc\\layers\\residual.py:40\u001b[0m, in \u001b[0;36mforward\u001b[1;34m(model, X, is_train)\u001b[0m\n\u001b[0;32m     37\u001b[0m     \u001b[39melse\u001b[39;00m:\n\u001b[0;32m     38\u001b[0m         \u001b[39mreturn\u001b[39;00m d_output \u001b[39m+\u001b[39m dX\n\u001b[1;32m---> 40\u001b[0m Y, backprop_layer \u001b[39m=\u001b[39m model\u001b[39m.\u001b[39;49mlayers[\u001b[39m0\u001b[39;49m](X, is_train)\n\u001b[0;32m     41\u001b[0m \u001b[39mif\u001b[39;00m \u001b[39misinstance\u001b[39m(X, \u001b[39mlist\u001b[39m):\n\u001b[0;32m     42\u001b[0m     \u001b[39mreturn\u001b[39;00m [X[i] \u001b[39m+\u001b[39m Y[i] \u001b[39mfor\u001b[39;00m i \u001b[39min\u001b[39;00m \u001b[39mrange\u001b[39m(\u001b[39mlen\u001b[39m(X))], backprop\n",
      "File \u001b[1;32mc:\\Users\\chris\\anaconda3\\lib\\site-packages\\thinc\\model.py:291\u001b[0m, in \u001b[0;36mModel.__call__\u001b[1;34m(self, X, is_train)\u001b[0m\n\u001b[0;32m    288\u001b[0m \u001b[39mdef\u001b[39;00m \u001b[39m__call__\u001b[39m(\u001b[39mself\u001b[39m, X: InT, is_train: \u001b[39mbool\u001b[39m) \u001b[39m-\u001b[39m\u001b[39m>\u001b[39m Tuple[OutT, Callable]:\n\u001b[0;32m    289\u001b[0m     \u001b[39m\"\"\"Call the model's `forward` function, returning the output and a\u001b[39;00m\n\u001b[0;32m    290\u001b[0m \u001b[39m    callback to compute the gradients via backpropagation.\"\"\"\u001b[39;00m\n\u001b[1;32m--> 291\u001b[0m     \u001b[39mreturn\u001b[39;00m \u001b[39mself\u001b[39;49m\u001b[39m.\u001b[39;49m_func(\u001b[39mself\u001b[39;49m, X, is_train\u001b[39m=\u001b[39;49mis_train)\n",
      "File \u001b[1;32mc:\\Users\\chris\\anaconda3\\lib\\site-packages\\thinc\\layers\\chain.py:54\u001b[0m, in \u001b[0;36mforward\u001b[1;34m(model, X, is_train)\u001b[0m\n\u001b[0;32m     52\u001b[0m callbacks \u001b[39m=\u001b[39m []\n\u001b[0;32m     53\u001b[0m \u001b[39mfor\u001b[39;00m layer \u001b[39min\u001b[39;00m model\u001b[39m.\u001b[39mlayers:\n\u001b[1;32m---> 54\u001b[0m     Y, inc_layer_grad \u001b[39m=\u001b[39m layer(X, is_train\u001b[39m=\u001b[39;49mis_train)\n\u001b[0;32m     55\u001b[0m     callbacks\u001b[39m.\u001b[39mappend(inc_layer_grad)\n\u001b[0;32m     56\u001b[0m     X \u001b[39m=\u001b[39m Y\n",
      "File \u001b[1;32mc:\\Users\\chris\\anaconda3\\lib\\site-packages\\thinc\\model.py:291\u001b[0m, in \u001b[0;36mModel.__call__\u001b[1;34m(self, X, is_train)\u001b[0m\n\u001b[0;32m    288\u001b[0m \u001b[39mdef\u001b[39;00m \u001b[39m__call__\u001b[39m(\u001b[39mself\u001b[39m, X: InT, is_train: \u001b[39mbool\u001b[39m) \u001b[39m-\u001b[39m\u001b[39m>\u001b[39m Tuple[OutT, Callable]:\n\u001b[0;32m    289\u001b[0m     \u001b[39m\"\"\"Call the model's `forward` function, returning the output and a\u001b[39;00m\n\u001b[0;32m    290\u001b[0m \u001b[39m    callback to compute the gradients via backpropagation.\"\"\"\u001b[39;00m\n\u001b[1;32m--> 291\u001b[0m     \u001b[39mreturn\u001b[39;00m \u001b[39mself\u001b[39;49m\u001b[39m.\u001b[39;49m_func(\u001b[39mself\u001b[39;49m, X, is_train\u001b[39m=\u001b[39;49mis_train)\n",
      "File \u001b[1;32mc:\\Users\\chris\\anaconda3\\lib\\site-packages\\thinc\\layers\\chain.py:54\u001b[0m, in \u001b[0;36mforward\u001b[1;34m(model, X, is_train)\u001b[0m\n\u001b[0;32m     52\u001b[0m callbacks \u001b[39m=\u001b[39m []\n\u001b[0;32m     53\u001b[0m \u001b[39mfor\u001b[39;00m layer \u001b[39min\u001b[39;00m model\u001b[39m.\u001b[39mlayers:\n\u001b[1;32m---> 54\u001b[0m     Y, inc_layer_grad \u001b[39m=\u001b[39m layer(X, is_train\u001b[39m=\u001b[39;49mis_train)\n\u001b[0;32m     55\u001b[0m     callbacks\u001b[39m.\u001b[39mappend(inc_layer_grad)\n\u001b[0;32m     56\u001b[0m     X \u001b[39m=\u001b[39m Y\n",
      "    \u001b[1;31m[... skipping similar frames: Model.__call__ at line 291 (1 times)]\u001b[0m\n",
      "File \u001b[1;32mc:\\Users\\chris\\anaconda3\\lib\\site-packages\\thinc\\layers\\chain.py:54\u001b[0m, in \u001b[0;36mforward\u001b[1;34m(model, X, is_train)\u001b[0m\n\u001b[0;32m     52\u001b[0m callbacks \u001b[39m=\u001b[39m []\n\u001b[0;32m     53\u001b[0m \u001b[39mfor\u001b[39;00m layer \u001b[39min\u001b[39;00m model\u001b[39m.\u001b[39mlayers:\n\u001b[1;32m---> 54\u001b[0m     Y, inc_layer_grad \u001b[39m=\u001b[39m layer(X, is_train\u001b[39m=\u001b[39;49mis_train)\n\u001b[0;32m     55\u001b[0m     callbacks\u001b[39m.\u001b[39mappend(inc_layer_grad)\n\u001b[0;32m     56\u001b[0m     X \u001b[39m=\u001b[39m Y\n",
      "File \u001b[1;32mc:\\Users\\chris\\anaconda3\\lib\\site-packages\\thinc\\model.py:291\u001b[0m, in \u001b[0;36mModel.__call__\u001b[1;34m(self, X, is_train)\u001b[0m\n\u001b[0;32m    288\u001b[0m \u001b[39mdef\u001b[39;00m \u001b[39m__call__\u001b[39m(\u001b[39mself\u001b[39m, X: InT, is_train: \u001b[39mbool\u001b[39m) \u001b[39m-\u001b[39m\u001b[39m>\u001b[39m Tuple[OutT, Callable]:\n\u001b[0;32m    289\u001b[0m     \u001b[39m\"\"\"Call the model's `forward` function, returning the output and a\u001b[39;00m\n\u001b[0;32m    290\u001b[0m \u001b[39m    callback to compute the gradients via backpropagation.\"\"\"\u001b[39;00m\n\u001b[1;32m--> 291\u001b[0m     \u001b[39mreturn\u001b[39;00m \u001b[39mself\u001b[39;49m\u001b[39m.\u001b[39;49m_func(\u001b[39mself\u001b[39;49m, X, is_train\u001b[39m=\u001b[39;49mis_train)\n",
      "File \u001b[1;32mc:\\Users\\chris\\anaconda3\\lib\\site-packages\\thinc\\layers\\maxout.py:49\u001b[0m, in \u001b[0;36mforward\u001b[1;34m(model, X, is_train)\u001b[0m\n\u001b[0;32m     47\u001b[0m W \u001b[39m=\u001b[39m model\u001b[39m.\u001b[39mget_param(\u001b[39m\"\u001b[39m\u001b[39mW\u001b[39m\u001b[39m\"\u001b[39m)\n\u001b[0;32m     48\u001b[0m W \u001b[39m=\u001b[39m model\u001b[39m.\u001b[39mops\u001b[39m.\u001b[39mreshape2f(W, nO \u001b[39m*\u001b[39m nP, nI)\n\u001b[1;32m---> 49\u001b[0m Y \u001b[39m=\u001b[39m model\u001b[39m.\u001b[39;49mops\u001b[39m.\u001b[39;49mgemm(X, W, trans2\u001b[39m=\u001b[39;49m\u001b[39mTrue\u001b[39;49;00m)\n\u001b[0;32m     50\u001b[0m Y \u001b[39m+\u001b[39m\u001b[39m=\u001b[39m model\u001b[39m.\u001b[39mops\u001b[39m.\u001b[39mreshape1f(b, nO \u001b[39m*\u001b[39m nP)\n\u001b[0;32m     51\u001b[0m Z \u001b[39m=\u001b[39m model\u001b[39m.\u001b[39mops\u001b[39m.\u001b[39mreshape3f(Y, Y\u001b[39m.\u001b[39mshape[\u001b[39m0\u001b[39m], nO, nP)\n",
      "\u001b[1;31mKeyboardInterrupt\u001b[0m: "
     ]
    }
   ],
   "source": [
    "# Get random sample of job descriptions\n",
    "description_eval_sample = pd.DataFrame(descriptions.sample(n=1000, random_state=99))\n",
    "\n",
    "# Create clean description\n",
    "description_eval_sample[\"description_clean\"] = description_eval_sample['Job Description'].apply(pre_process_text)\n",
    "\n",
    "# Create spacy Doc object for each job description\n",
    "description_eval_sample['spacy'] = description_eval_sample['description_clean'].apply(lambda row: nlp(row))\n",
    "\n",
    "# Get summary statistics for Doc object\n",
    "description_eval_sample['token_summary'] = description_eval_sample['spacy'].apply(lambda row: get_doc_stats(row))\n",
    "\n",
    "description_eval_sample = pd.concat([description_eval_sample.drop(['token_summary'], axis=1), description_eval_sample['token_summary'].apply(pd.Series)], axis=1)"
   ]
  },
  {
   "attachments": {},
   "cell_type": "markdown",
   "metadata": {},
   "source": [
    "### Summary Statistics\n",
    "\n",
    "Get summary statistics for evaluating solution performance"
   ]
  },
  {
   "cell_type": "code",
   "execution_count": 102,
   "metadata": {},
   "outputs": [
    {
     "name": "stdout",
     "output_type": "stream",
     "text": [
      "There are 989 job descriptions with masculine language (0.989000 percent)\n",
      "There are 989 job descriptions with feminine language (0.989000 percent)\n",
      "There is an average of 0.014526 masculine words per job advertisement\n",
      "There is an average of 0.011962 feminine words per job advertisement\n",
      "The average gender target score across the entire corpus is 0.480419\n",
      "ability    23.315274\n",
      "data       10.141622\n",
      "able        6.548807\n",
      "project     6.045053\n",
      "best        5.959510\n",
      "dtype: float64\n",
      "work           35.641451\n",
      "service        20.808632\n",
      "support        14.548257\n",
      "communicate     4.801992\n",
      "understand      4.055015\n",
      "dtype: float64\n"
     ]
    }
   ],
   "source": [
    "# Total and percentage masculine and feminine job descriptions across the entire corpus\n",
    "total_masculine_corpus = len(description_eval_sample[description_eval_sample['total_masculine'] != 0])\n",
    "pct_masculine_corpus = total_masculine_corpus/len(description_eval_sample)\n",
    "total_feminine_corpus = len(description_eval_sample[description_eval_sample['total_feminine'] != 0])\n",
    "pct_feminine_corpus = total_feminine_corpus/len(description_eval_sample)\n",
    "\n",
    "# Mean percent of masculine and feminine words in a job advertisement across the entire corpus\n",
    "mean_pct_masculine_corpus = description_eval_sample['pct_masculine'].mean()\n",
    "mean_pct_feminine_corpus = description_eval_sample['pct_feminine'].mean()\n",
    "\n",
    "# Mean gender target score across the entire corpus\n",
    "mean_gt_score_corpus = description_eval_sample['gt_score'].mean()\n",
    "\n",
    "# Top masculine entities and their percentage\n",
    "all_masc_ents = description_eval_sample['masc_ents'].to_list()\n",
    "all_masc_ents = pd.DataFrame([item for all_masc_ents in all_masc_ents for item in all_masc_ents])\n",
    "\n",
    "top_masc = all_masc_ents.value_counts(normalize=True) * 100\n",
    "\n",
    "# Top feminine entities and their percentage\n",
    "all_fem_ents = description_eval_sample['fem_ents'].to_list()\n",
    "all_fem_ents = pd.DataFrame([item for all_fem_ents in all_fem_ents for item in all_fem_ents])\n",
    "\n",
    "top_fem = all_fem_ents.value_counts(normalize=True) * 100\n",
    "\n",
    "\n",
    "print(\"There are %d job descriptions with masculine language (%2f percent)\" % (total_masculine_corpus, pct_masculine_corpus))\n",
    "print(\"There are %d job descriptions with feminine language (%2f percent)\" % (total_feminine_corpus, pct_feminine_corpus))\n",
    "print(\"There is an average of %2f masculine words per job advertisement\" % (mean_pct_masculine_corpus))\n",
    "print(\"There is an average of %2f feminine words per job advertisement\" % (mean_pct_feminine_corpus))\n",
    "print(\"The average gender target score across the entire corpus is %2f\" % mean_gt_score_corpus)\n",
    "\n",
    "print(top_masc[0:5])\n",
    "print(top_fem[0:5])"
   ]
  },
  {
   "cell_type": "code",
   "execution_count": 119,
   "metadata": {},
   "outputs": [
    {
     "data": {
      "text/html": [
       "<div>\n",
       "<style scoped>\n",
       "    .dataframe tbody tr th:only-of-type {\n",
       "        vertical-align: middle;\n",
       "    }\n",
       "\n",
       "    .dataframe tbody tr th {\n",
       "        vertical-align: top;\n",
       "    }\n",
       "\n",
       "    .dataframe thead th {\n",
       "        text-align: right;\n",
       "    }\n",
       "</style>\n",
       "<table border=\"1\" class=\"dataframe\">\n",
       "  <thead>\n",
       "    <tr style=\"text-align: right;\">\n",
       "      <th></th>\n",
       "      <th>Job Description</th>\n",
       "      <th>description_clean</th>\n",
       "      <th>spacy</th>\n",
       "      <th>total</th>\n",
       "      <th>total_masculine</th>\n",
       "      <th>total_feminine</th>\n",
       "      <th>pct_masculine</th>\n",
       "      <th>pct_feminine</th>\n",
       "      <th>masc_ents</th>\n",
       "      <th>fem_ents</th>\n",
       "      <th>gt_score</th>\n",
       "    </tr>\n",
       "  </thead>\n",
       "  <tbody>\n",
       "    <tr>\n",
       "      <th>11483</th>\n",
       "      <td>&lt;div id=\"jobDescriptionText\" class=\"jobsearch-...</td>\n",
       "      <td>zappos e-commerce is seeking a senior analys...</td>\n",
       "      <td>(  , zappos, e, -, commerce, is, seeking, a, s...</td>\n",
       "      <td>388</td>\n",
       "      <td>20</td>\n",
       "      <td>4</td>\n",
       "      <td>0.0515</td>\n",
       "      <td>0.0103</td>\n",
       "      <td>[analyst, challenging, finding, decision, anal...</td>\n",
       "      <td>[work, understand, interpersonal, communicate]</td>\n",
       "      <td>0.339244</td>\n",
       "    </tr>\n",
       "    <tr>\n",
       "      <th>8674</th>\n",
       "      <td>&lt;div id=\"jobDescriptionText\" class=\"jobsearch-...</td>\n",
       "      <td>comcast spotlight, the advertising sales div...</td>\n",
       "      <td>(  , comcast, spotlight, ,, the, advertising, ...</td>\n",
       "      <td>846</td>\n",
       "      <td>39</td>\n",
       "      <td>7</td>\n",
       "      <td>0.0461</td>\n",
       "      <td>0.0083</td>\n",
       "      <td>[most, best, ability, driven, individual, rese...</td>\n",
       "      <td>[work, connect, she, support, support, support...</td>\n",
       "      <td>0.332777</td>\n",
       "    </tr>\n",
       "    <tr>\n",
       "      <th>3446</th>\n",
       "      <td>&lt;div id=\"jobDescriptionText\" class=\"jobsearch-...</td>\n",
       "      <td>position purpose:    the strategy department...</td>\n",
       "      <td>(  , position, purpose, :,    , the, strategy,...</td>\n",
       "      <td>614</td>\n",
       "      <td>28</td>\n",
       "      <td>10</td>\n",
       "      <td>0.0456</td>\n",
       "      <td>0.0163</td>\n",
       "      <td>[data, data, driven, decision, data, analyst, ...</td>\n",
       "      <td>[support, work, understand, communicate, she, ...</td>\n",
       "      <td>0.383745</td>\n",
       "    </tr>\n",
       "    <tr>\n",
       "      <th>23431</th>\n",
       "      <td>&lt;div id=\"jobDescriptionText\" class=\"jobsearch-...</td>\n",
       "      <td>are you curious, motivated, and forward-thin...</td>\n",
       "      <td>(  , are, you, curious, ,, motivated, ,, and, ...</td>\n",
       "      <td>1559</td>\n",
       "      <td>66</td>\n",
       "      <td>19</td>\n",
       "      <td>0.0423</td>\n",
       "      <td>0.0122</td>\n",
       "      <td>[most, challenging, project, project, project,...</td>\n",
       "      <td>[work, work, service, communicate, work, work,...</td>\n",
       "      <td>0.365182</td>\n",
       "    </tr>\n",
       "    <tr>\n",
       "      <th>1890</th>\n",
       "      <td>&lt;div id=\"jobDescriptionText\" class=\"jobsearch-...</td>\n",
       "      <td>job advert      want to take your know-how...</td>\n",
       "      <td>(    , job, advert,      , want, to, take, you...</td>\n",
       "      <td>980</td>\n",
       "      <td>41</td>\n",
       "      <td>4</td>\n",
       "      <td>0.0418</td>\n",
       "      <td>0.0041</td>\n",
       "      <td>[data, data, best, lead, natural, driven, best...</td>\n",
       "      <td>[service, service, service, communicate]</td>\n",
       "      <td>0.305292</td>\n",
       "    </tr>\n",
       "    <tr>\n",
       "      <th>...</th>\n",
       "      <td>...</td>\n",
       "      <td>...</td>\n",
       "      <td>...</td>\n",
       "      <td>...</td>\n",
       "      <td>...</td>\n",
       "      <td>...</td>\n",
       "      <td>...</td>\n",
       "      <td>...</td>\n",
       "      <td>...</td>\n",
       "      <td>...</td>\n",
       "      <td>...</td>\n",
       "    </tr>\n",
       "    <tr>\n",
       "      <th>16076</th>\n",
       "      <td>&lt;div id=\"jobDescriptionText\" class=\"jobsearch-...</td>\n",
       "      <td>radco residential is seeking a leasing consu...</td>\n",
       "      <td>(  , radco, residential, is, seeking, a, leasi...</td>\n",
       "      <td>550</td>\n",
       "      <td>0</td>\n",
       "      <td>4</td>\n",
       "      <td>0.0000</td>\n",
       "      <td>0.0073</td>\n",
       "      <td>[]</td>\n",
       "      <td>[service, service, communicate, work]</td>\n",
       "      <td>0.731059</td>\n",
       "    </tr>\n",
       "    <tr>\n",
       "      <th>13987</th>\n",
       "      <td>&lt;div id=\"jobDescriptionText\" class=\"jobsearch-...</td>\n",
       "      <td>essential functions of job duties:   supervi...</td>\n",
       "      <td>(  , essential, functions, of, job, duties, :,...</td>\n",
       "      <td>386</td>\n",
       "      <td>0</td>\n",
       "      <td>5</td>\n",
       "      <td>0.0000</td>\n",
       "      <td>0.0130</td>\n",
       "      <td>[]</td>\n",
       "      <td>[share, work, work, class, class]</td>\n",
       "      <td>0.731059</td>\n",
       "    </tr>\n",
       "    <tr>\n",
       "      <th>14826</th>\n",
       "      <td>&lt;div id=\"jobDescriptionText\" class=\"jobsearch-...</td>\n",
       "      <td>responsibilities:     make cold calls and fo...</td>\n",
       "      <td>(  , responsibilities, :,     , make, cold, ca...</td>\n",
       "      <td>101</td>\n",
       "      <td>0</td>\n",
       "      <td>0</td>\n",
       "      <td>0.0000</td>\n",
       "      <td>0.0000</td>\n",
       "      <td>[]</td>\n",
       "      <td>[]</td>\n",
       "      <td>0.500000</td>\n",
       "    </tr>\n",
       "    <tr>\n",
       "      <th>27591</th>\n",
       "      <td>&lt;div id=\"jobDescriptionText\" class=\"jobsearch-...</td>\n",
       "      <td>job summary:  provides sales and administr...</td>\n",
       "      <td>(    , job, summary, :,  , provides, sales, an...</td>\n",
       "      <td>438</td>\n",
       "      <td>0</td>\n",
       "      <td>6</td>\n",
       "      <td>0.0000</td>\n",
       "      <td>0.0137</td>\n",
       "      <td>[]</td>\n",
       "      <td>[support, support, support, work, support, sup...</td>\n",
       "      <td>0.731059</td>\n",
       "    </tr>\n",
       "    <tr>\n",
       "      <th>20204</th>\n",
       "      <td>&lt;div id=\"jobDescriptionText\" class=\"jobsearch-...</td>\n",
       "      <td>job qualifications     good communication ...</td>\n",
       "      <td>(    , job, qualifications,     , good, commun...</td>\n",
       "      <td>91</td>\n",
       "      <td>0</td>\n",
       "      <td>0</td>\n",
       "      <td>0.0000</td>\n",
       "      <td>0.0000</td>\n",
       "      <td>[]</td>\n",
       "      <td>[]</td>\n",
       "      <td>0.500000</td>\n",
       "    </tr>\n",
       "  </tbody>\n",
       "</table>\n",
       "<p>1000 rows × 11 columns</p>\n",
       "</div>"
      ],
      "text/plain": [
       "                                         Job Description  \\\n",
       "11483  <div id=\"jobDescriptionText\" class=\"jobsearch-...   \n",
       "8674   <div id=\"jobDescriptionText\" class=\"jobsearch-...   \n",
       "3446   <div id=\"jobDescriptionText\" class=\"jobsearch-...   \n",
       "23431  <div id=\"jobDescriptionText\" class=\"jobsearch-...   \n",
       "1890   <div id=\"jobDescriptionText\" class=\"jobsearch-...   \n",
       "...                                                  ...   \n",
       "16076  <div id=\"jobDescriptionText\" class=\"jobsearch-...   \n",
       "13987  <div id=\"jobDescriptionText\" class=\"jobsearch-...   \n",
       "14826  <div id=\"jobDescriptionText\" class=\"jobsearch-...   \n",
       "27591  <div id=\"jobDescriptionText\" class=\"jobsearch-...   \n",
       "20204  <div id=\"jobDescriptionText\" class=\"jobsearch-...   \n",
       "\n",
       "                                       description_clean  \\\n",
       "11483    zappos e-commerce is seeking a senior analys...   \n",
       "8674     comcast spotlight, the advertising sales div...   \n",
       "3446     position purpose:    the strategy department...   \n",
       "23431    are you curious, motivated, and forward-thin...   \n",
       "1890       job advert      want to take your know-how...   \n",
       "...                                                  ...   \n",
       "16076    radco residential is seeking a leasing consu...   \n",
       "13987    essential functions of job duties:   supervi...   \n",
       "14826    responsibilities:     make cold calls and fo...   \n",
       "27591      job summary:  provides sales and administr...   \n",
       "20204      job qualifications     good communication ...   \n",
       "\n",
       "                                                   spacy  total  \\\n",
       "11483  (  , zappos, e, -, commerce, is, seeking, a, s...    388   \n",
       "8674   (  , comcast, spotlight, ,, the, advertising, ...    846   \n",
       "3446   (  , position, purpose, :,    , the, strategy,...    614   \n",
       "23431  (  , are, you, curious, ,, motivated, ,, and, ...   1559   \n",
       "1890   (    , job, advert,      , want, to, take, you...    980   \n",
       "...                                                  ...    ...   \n",
       "16076  (  , radco, residential, is, seeking, a, leasi...    550   \n",
       "13987  (  , essential, functions, of, job, duties, :,...    386   \n",
       "14826  (  , responsibilities, :,     , make, cold, ca...    101   \n",
       "27591  (    , job, summary, :,  , provides, sales, an...    438   \n",
       "20204  (    , job, qualifications,     , good, commun...     91   \n",
       "\n",
       "       total_masculine  total_feminine  pct_masculine  pct_feminine  \\\n",
       "11483               20               4         0.0515        0.0103   \n",
       "8674                39               7         0.0461        0.0083   \n",
       "3446                28              10         0.0456        0.0163   \n",
       "23431               66              19         0.0423        0.0122   \n",
       "1890                41               4         0.0418        0.0041   \n",
       "...                ...             ...            ...           ...   \n",
       "16076                0               4         0.0000        0.0073   \n",
       "13987                0               5         0.0000        0.0130   \n",
       "14826                0               0         0.0000        0.0000   \n",
       "27591                0               6         0.0000        0.0137   \n",
       "20204                0               0         0.0000        0.0000   \n",
       "\n",
       "                                               masc_ents  \\\n",
       "11483  [analyst, challenging, finding, decision, anal...   \n",
       "8674   [most, best, ability, driven, individual, rese...   \n",
       "3446   [data, data, driven, decision, data, analyst, ...   \n",
       "23431  [most, challenging, project, project, project,...   \n",
       "1890   [data, data, best, lead, natural, driven, best...   \n",
       "...                                                  ...   \n",
       "16076                                                 []   \n",
       "13987                                                 []   \n",
       "14826                                                 []   \n",
       "27591                                                 []   \n",
       "20204                                                 []   \n",
       "\n",
       "                                                fem_ents  gt_score  \n",
       "11483     [work, understand, interpersonal, communicate]  0.339244  \n",
       "8674   [work, connect, she, support, support, support...  0.332777  \n",
       "3446   [support, work, understand, communicate, she, ...  0.383745  \n",
       "23431  [work, work, service, communicate, work, work,...  0.365182  \n",
       "1890            [service, service, service, communicate]  0.305292  \n",
       "...                                                  ...       ...  \n",
       "16076              [service, service, communicate, work]  0.731059  \n",
       "13987                  [share, work, work, class, class]  0.731059  \n",
       "14826                                                 []  0.500000  \n",
       "27591  [support, support, support, work, support, sup...  0.731059  \n",
       "20204                                                 []  0.500000  \n",
       "\n",
       "[1000 rows x 11 columns]"
      ]
     },
     "execution_count": 119,
     "metadata": {},
     "output_type": "execute_result"
    }
   ],
   "source": [
    "description_eval_sample.sort_values(\"pct_masculine\", ascending=False)"
   ]
  },
  {
   "attachments": {},
   "cell_type": "markdown",
   "metadata": {},
   "source": [
    "### Manual Inspection\n",
    "\n",
    "Complete a manual inspection of the most masculine and most feminine job advertisements."
   ]
  },
  {
   "cell_type": "code",
   "execution_count": 103,
   "metadata": {},
   "outputs": [],
   "source": [
    "# Get top three masculine pct and feminine pct job advertisements\n",
    "top_fem  = description_eval_sample.sort_values('gt_score', ascending=False).iloc[0:3]\n",
    "top_masc = description_eval_sample.sort_values('gt_score', ascending=False).iloc[-3:]"
   ]
  },
  {
   "cell_type": "code",
   "execution_count": 104,
   "metadata": {},
   "outputs": [],
   "source": [
    "# Settings for producing displacy images\n",
    "colors = {\"MAS\": \"linear-gradient(120deg, #a1c4fd, #a1c4fd)\", \"FEM\": \"linear-gradient(120deg, #fdcbf1, #fdcbf1)\"}\n",
    "options = {\"ents\": [\"MAS\", \"FEM\"], \"colors\": colors}"
   ]
  },
  {
   "cell_type": "code",
   "execution_count": 106,
   "metadata": {},
   "outputs": [
    {
     "data": {
      "text/html": [
       "<span class=\"tex2jax_ignore\"><div class=\"entities\" style=\"line-height: 2.5; direction: ltr\">    job location –  hoboken, nj – usa   required experience –  2-5 years    at innoplexus we enable customers in europe and americas to succeed in a competitive market by delivering real time access to full picture of relevant \n",
       "<mark class=\"entity\" style=\"background: linear-gradient(120deg, #a1c4fd, #a1c4fd); padding: 0.45em 0.6em; margin: 0 0.25em; line-height: 1; border-radius: 0.35em;\">\n",
       "    data\n",
       "    <span style=\"font-size: 0.8em; font-weight: bold; line-height: 1; border-radius: 0.35em; vertical-align: middle; margin-left: 0.5rem\">MAS</span>\n",
       "</mark>\n",
       ". we make accessing and consuming \n",
       "<mark class=\"entity\" style=\"background: linear-gradient(120deg, #a1c4fd, #a1c4fd); padding: 0.45em 0.6em; margin: 0 0.25em; line-height: 1; border-radius: 0.35em;\">\n",
       "    data\n",
       "    <span style=\"font-size: 0.8em; font-weight: bold; line-height: 1; border-radius: 0.35em; vertical-align: middle; margin-left: 0.5rem\">MAS</span>\n",
       "</mark>\n",
       " seamless and offer continual insights via intuitive interfaces. we leverage artificial intelligence, blockchain and advanced analytics to shape the future of global finance, life sciences and pharmaceutical organizations.     do you have a track record of selling it / cloud based solutions (saas or daas) to pharmaceutical  companies, biotech firms, and cros?    are you curious and have a passion for innovative technologies?    are you a good story-teller?    we are hiring account executives based out of our hoboken, nj office to cover mid size and  emerging accounts in pharma and biotech.     what we are looking for:     2-5 years of prior sales experience   hunter mindset; passion &amp; enthusiasm     the specifics:    this role will be responsible to hunt for new business. the collaborative team player who takes on this  role will manage all aspects of the sales cycle including:     prospecting   scoping   contracting   closing     the typical day will include 50-60 outbound calls / emails to prospective clients in the morning. the  second half of the morning would include presenting our capabilities and technology to senior level  executives at the client. client workshops and scoping calls would make up the second half of the day.    there will be a specific sales target for the role with potential for significant upside for above on target  earnings.    the opportunity in front of you:     be part of a team that is revolutionizing the pharma industry with proven, cutting edge, technology   long runway for growth with proven opportunities for hungry and passionate people   \n",
       "<mark class=\"entity\" style=\"background: linear-gradient(120deg, #a1c4fd, #a1c4fd); padding: 0.45em 0.6em; margin: 0 0.25em; line-height: 1; border-radius: 0.35em;\">\n",
       "    ability\n",
       "    <span style=\"font-size: 0.8em; font-weight: bold; line-height: 1; border-radius: 0.35em; vertical-align: middle; margin-left: 0.5rem\">MAS</span>\n",
       "</mark>\n",
       " to shape direction and culture     come be part of driving disruption in a dynamic industry! we are changing the way pharma works.      </div></span>"
      ],
      "text/plain": [
       "<IPython.core.display.HTML object>"
      ]
     },
     "metadata": {},
     "output_type": "display_data"
    }
   ],
   "source": [
    "displacy.render(top_masc['spacy'].iloc[0], style='ent', options=options)"
   ]
  },
  {
   "cell_type": "code",
   "execution_count": 107,
   "metadata": {},
   "outputs": [
    {
     "data": {
      "text/html": [
       "<span class=\"tex2jax_ignore\"><div class=\"entities\" style=\"line-height: 2.5; direction: ltr\">  here at reynolds and reynolds, we have a variety of summer internships available to help you jump start your career! these diverse opportunities are available within many departments across our company and we are open to a variety of majors. no experience is required and training is provided!    internship opportunities include: sales, marketing, administrative, \n",
       "<mark class=\"entity\" style=\"background: linear-gradient(120deg, #a1c4fd, #a1c4fd); padding: 0.45em 0.6em; margin: 0 0.25em; line-height: 1; border-radius: 0.35em;\">\n",
       "    analytical\n",
       "    <span style=\"font-size: 0.8em; font-weight: bold; line-height: 1; border-radius: 0.35em; vertical-align: middle; margin-left: 0.5rem\">MAS</span>\n",
       "</mark>\n",
       ", information technology, software development, and many more to come.    requirements:    currently pursuing a bachelor’s degree    must be classified as a junior or senior for 2020-2021 academic year    knowledge of microsoft excel, word and outlook is a plus    excellent oral and written communication skills    </div></span>"
      ],
      "text/plain": [
       "<IPython.core.display.HTML object>"
      ]
     },
     "metadata": {},
     "output_type": "display_data"
    }
   ],
   "source": [
    "displacy.render(top_masc['spacy'].iloc[1], style='ent', options=options)"
   ]
  },
  {
   "cell_type": "code",
   "execution_count": 108,
   "metadata": {},
   "outputs": [
    {
     "data": {
      "text/html": [
       "<span class=\"tex2jax_ignore\"><div class=\"entities\" style=\"line-height: 2.5; direction: ltr\">account executive   clarabridge has a storied history of consistent growth and expansion. as a clarabridge account executive, you will need to serve as a farmer and a hunter who is enthusiastic about identifying target prospects, creating opportunities, and effectively communicating just how crucial our customer experience management platform can be for an organization's brand and bottom line. our \n",
       "<mark class=\"entity\" style=\"background: linear-gradient(120deg, #a1c4fd, #a1c4fd); padding: 0.45em 0.6em; margin: 0 0.25em; line-height: 1; border-radius: 0.35em;\">\n",
       "    most\n",
       "    <span style=\"font-size: 0.8em; font-weight: bold; line-height: 1; border-radius: 0.35em; vertical-align: middle; margin-left: 0.5rem\">MAS</span>\n",
       "</mark>\n",
       " successful account executives have a forward-thinking approach to solving business issues, an obsession with customer satisfaction, and a background in selling saas within the voc, cem, or business analytics landscapes. clarabridge works primarily with fortune 1000 and fortune 500 companies, so experience driving and closing large, complex deals with prominent brands is a huge plus.    what you'll do:     cultivate and maintain a solid pipeline of well qualified opportunities   take charge of your sales cycles. we want your fingerprints on everything from initial prospecting and opportunity identification, all the way to sale closure and managing the post-sale relationship   be a high-touch sales rep who builds strong client connections and gains \n",
       "<mark class=\"entity\" style=\"background: linear-gradient(120deg, #a1c4fd, #a1c4fd); padding: 0.45em 0.6em; margin: 0 0.25em; line-height: 1; border-radius: 0.35em;\">\n",
       "    insight\n",
       "    <span style=\"font-size: 0.8em; font-weight: bold; line-height: 1; border-radius: 0.35em; vertical-align: middle; margin-left: 0.5rem\">MAS</span>\n",
       "</mark>\n",
       " into how the clarabridge solution can create maximum value for our customers   develop expertise and become a go-to resource for information on clarabridge and on the customer experience management industry   land and expand is a key strategy to our growth--you will be expected to develop and maintain key accounts and identify opportunities for the company to continue to deliver value and demonstrate the impact our product has to the client's customer success strategy   keep track of everything—new leads, deal progress, marketing commitments, and success rates-- so you can report back to your manager on how awesome you are on a regular basis   have your suitcase handy—you'll be traveling within your assigned territory about 60% of the time   help clarabridge continue its exponential growth by meeting and exceeding your sales goals. reach new heights of personal and professional success in the process     about you:     you have a bachelor's degree   you've been navigating complex, enterprise-level saas sales cycles for 5 – 10 years and have been successful meeting seven-figure direct sales quotas   you've successfully and consistently met or exceeded your annual sales quota   experience managing renewals and upselling to assigned key accounts and acquiring new customers   you're comfortable calling on and closing transactions with c-level business executives   you embrace the chaos and love the \n",
       "<mark class=\"entity\" style=\"background: linear-gradient(120deg, #a1c4fd, #a1c4fd); padding: 0.45em 0.6em; margin: 0 0.25em; line-height: 1; border-radius: 0.35em;\">\n",
       "    challenge\n",
       "    <span style=\"font-size: 0.8em; font-weight: bold; line-height: 1; border-radius: 0.35em; vertical-align: middle; margin-left: 0.5rem\">MAS</span>\n",
       "</mark>\n",
       " and excitement of selling an innovative product in a high-growth, fast paced environment   you easily grasp clients' needs and are \n",
       "<mark class=\"entity\" style=\"background: linear-gradient(120deg, #a1c4fd, #a1c4fd); padding: 0.45em 0.6em; margin: 0 0.25em; line-height: 1; border-radius: 0.35em;\">\n",
       "    able\n",
       "    <span style=\"font-size: 0.8em; font-weight: bold; line-height: 1; border-radius: 0.35em; vertical-align: middle; margin-left: 0.5rem\">MAS</span>\n",
       "</mark>\n",
       " to clearly articulate the business value and roi of saas solutions   \n",
       "<mark class=\"entity\" style=\"background: linear-gradient(120deg, #a1c4fd, #a1c4fd); padding: 0.45em 0.6em; margin: 0 0.25em; line-height: 1; border-radius: 0.35em;\">\n",
       "    exceptional\n",
       "    <span style=\"font-size: 0.8em; font-weight: bold; line-height: 1; border-radius: 0.35em; vertical-align: middle; margin-left: 0.5rem\">MAS</span>\n",
       "</mark>\n",
       " presentation, verbal and written communication skills    </div></span>"
      ],
      "text/plain": [
       "<IPython.core.display.HTML object>"
      ]
     },
     "metadata": {},
     "output_type": "display_data"
    }
   ],
   "source": [
    "displacy.render(top_masc['spacy'].iloc[2], style='ent', options=options)"
   ]
  },
  {
   "cell_type": "code",
   "execution_count": 109,
   "metadata": {},
   "outputs": [
    {
     "data": {
      "text/html": [
       "<span class=\"tex2jax_ignore\"><div class=\"entities\" style=\"line-height: 2.5; direction: ltr\">  with this position you will \n",
       "<mark class=\"entity\" style=\"background: linear-gradient(120deg, #fdcbf1, #fdcbf1); padding: 0.45em 0.6em; margin: 0 0.25em; line-height: 1; border-radius: 0.35em;\">\n",
       "    work\n",
       "    <span style=\"font-size: 0.8em; font-weight: bold; line-height: 1; border-radius: 0.35em; vertical-align: middle; margin-left: 0.5rem\">FEM</span>\n",
       "</mark>\n",
       " closely with customers to help them create their dream kitchen! we are looking with some with at least 10 years of kitchen remodeling sales experience. candidates must have a valid driver's license and reliable vehicle as you will be going the clients homes.   job type: full-time   experience:     relevant: 10 years (required)   remodeling: 10 years (preferred)     license:   driver's (required)   labor type:   other   typical start time:   7am   typical end time:   7am   pay frequency:   weekly   schedule:   monday to friday  </div></span>"
      ],
      "text/plain": [
       "<IPython.core.display.HTML object>"
      ]
     },
     "metadata": {},
     "output_type": "display_data"
    }
   ],
   "source": [
    "displacy.render(top_fem['spacy'].iloc[0], style='ent', options=options)"
   ]
  },
  {
   "cell_type": "code",
   "execution_count": 110,
   "metadata": {},
   "outputs": [
    {
     "data": {
      "text/html": [
       "<span class=\"tex2jax_ignore\"><div class=\"entities\" style=\"line-height: 2.5; direction: ltr\">  hyundai of albany is looking for multiple individuals to join our team!   if you have a passion for giving excellent customer \n",
       "<mark class=\"entity\" style=\"background: linear-gradient(120deg, #fdcbf1, #fdcbf1); padding: 0.45em 0.6em; margin: 0 0.25em; line-height: 1; border-radius: 0.35em;\">\n",
       "    service\n",
       "    <span style=\"font-size: 0.8em; font-weight: bold; line-height: 1; border-radius: 0.35em; vertical-align: middle; margin-left: 0.5rem\">FEM</span>\n",
       "</mark>\n",
       ", enjoy meeting new people, and have the desire of creating a better life, we are offering the right candidate a career as a sales consultant, with opportunity for career advancement.   individuals with experience in customer \n",
       "<mark class=\"entity\" style=\"background: linear-gradient(120deg, #fdcbf1, #fdcbf1); padding: 0.45em 0.6em; margin: 0 0.25em; line-height: 1; border-radius: 0.35em;\">\n",
       "    service\n",
       "    <span style=\"font-size: 0.8em; font-weight: bold; line-height: 1; border-radius: 0.35em; vertical-align: middle; margin-left: 0.5rem\">FEM</span>\n",
       "</mark>\n",
       ", advertising, financial services, cellular &amp; mortgage sales along with the restaurant industry have proven to be very successful when switching careers to automotive sales consultant.   qualifications:      minimum high school diploma or ged equivalent required   at least 6 months of sales experience preferred, but  not required     automotive sales background preferred, but  not required     excellent customer \n",
       "<mark class=\"entity\" style=\"background: linear-gradient(120deg, #fdcbf1, #fdcbf1); padding: 0.45em 0.6em; margin: 0 0.25em; line-height: 1; border-radius: 0.35em;\">\n",
       "    service\n",
       "    <span style=\"font-size: 0.8em; font-weight: bold; line-height: 1; border-radius: 0.35em; vertical-align: middle; margin-left: 0.5rem\">FEM</span>\n",
       "</mark>\n",
       ", organizational and negotiation skills   self-motivated, goal-oriented and enthusiastic presence in a team environment   valid driver’s license required and clean driving record   professional appearance and \n",
       "<mark class=\"entity\" style=\"background: linear-gradient(120deg, #fdcbf1, #fdcbf1); padding: 0.45em 0.6em; margin: 0 0.25em; line-height: 1; border-radius: 0.35em;\">\n",
       "    work\n",
       "    <span style=\"font-size: 0.8em; font-weight: bold; line-height: 1; border-radius: 0.35em; vertical-align: middle; margin-left: 0.5rem\">FEM</span>\n",
       "</mark>\n",
       " ethic   reliable, strong \n",
       "<mark class=\"entity\" style=\"background: linear-gradient(120deg, #fdcbf1, #fdcbf1); padding: 0.45em 0.6em; margin: 0 0.25em; line-height: 1; border-radius: 0.35em;\">\n",
       "    work\n",
       "    <span style=\"font-size: 0.8em; font-weight: bold; line-height: 1; border-radius: 0.35em; vertical-align: middle; margin-left: 0.5rem\">FEM</span>\n",
       "</mark>\n",
       " ethic, all around hustler     benefits:      monthly bonus incentives   paid training and development   career growth opportunities   medical, vision and dental after only 60 days   paid vacation   401(k)     job type: full-time   job type: full-time   experience:     customer \n",
       "<mark class=\"entity\" style=\"background: linear-gradient(120deg, #fdcbf1, #fdcbf1); padding: 0.45em 0.6em; margin: 0 0.25em; line-height: 1; border-radius: 0.35em;\">\n",
       "    service\n",
       "    <span style=\"font-size: 0.8em; font-weight: bold; line-height: 1; border-radius: 0.35em; vertical-align: middle; margin-left: 0.5rem\">FEM</span>\n",
       "</mark>\n",
       ": 1 year (preferred)   automotive sales: 1 year (preferred)     education:   high school or equivalent (preferred)   language:   spanish (preferred)   additional compensation:     bonuses   commission    </div></span>"
      ],
      "text/plain": [
       "<IPython.core.display.HTML object>"
      ]
     },
     "metadata": {},
     "output_type": "display_data"
    }
   ],
   "source": [
    "displacy.render(top_fem['spacy'].iloc[1], style='ent', options=options)"
   ]
  },
  {
   "cell_type": "code",
   "execution_count": 111,
   "metadata": {},
   "outputs": [
    {
     "data": {
      "text/html": [
       "<span class=\"tex2jax_ignore\"><div class=\"entities\" style=\"line-height: 2.5; direction: ltr\">  essential functions of job duties:   supervise all activities relating to truck and fleet commercial sales to attain the goals regarding market \n",
       "<mark class=\"entity\" style=\"background: linear-gradient(120deg, #fdcbf1, #fdcbf1); padding: 0.45em 0.6em; margin: 0 0.25em; line-height: 1; border-radius: 0.35em;\">\n",
       "    share\n",
       "    <span style=\"font-size: 0.8em; font-weight: bold; line-height: 1; border-radius: 0.35em; vertical-align: middle; margin-left: 0.5rem\">FEM</span>\n",
       "</mark>\n",
       ", unit sales, revenues, gross profits, expenses, and department profit as provided in the dealership’s marketing and business plan.   responsible for customer calls, quotes, and sales closings. manage and oversee customer relations, pricing, and truck and or fleet orders to oem.   responsible for inventory control. responsible for cost control over internal \n",
       "<mark class=\"entity\" style=\"background: linear-gradient(120deg, #fdcbf1, #fdcbf1); padding: 0.45em 0.6em; margin: 0 0.25em; line-height: 1; border-radius: 0.35em;\">\n",
       "    work\n",
       "    <span style=\"font-size: 0.8em; font-weight: bold; line-height: 1; border-radius: 0.35em; vertical-align: middle; margin-left: 0.5rem\">FEM</span>\n",
       "</mark>\n",
       " on vehicles. prepare an annual marketing plan and budget for the new and used truck department.   regularly monitor actual performance to plan and ascertain reason for any variance. interact daily with finance and insurance department. buy, sell, and trade trucks. maintain awareness of current and projected market conditions.   develop and implement appropriate strategies and programs as necessary to attain the dealership’s truck objectives. responsible for financial decisions as it coincides with the finance and insurance department, inventory management, employee performance, establishing objectives and operating controls.   participate in recruitment of sales staff, training, and development. responsible for productivity and controls, communication with general manager, all management functions, sales meetings, \n",
       "<mark class=\"entity\" style=\"background: linear-gradient(120deg, #fdcbf1, #fdcbf1); padding: 0.45em 0.6em; margin: 0 0.25em; line-height: 1; border-radius: 0.35em;\">\n",
       "    work\n",
       "    <span style=\"font-size: 0.8em; font-weight: bold; line-height: 1; border-radius: 0.35em; vertical-align: middle; margin-left: 0.5rem\">FEM</span>\n",
       "</mark>\n",
       " plans, advertising, and displays. perform all other duties as assigned.   education:   a high school diploma and/or ged is required.   college degree in business preferred. combination of education, training, or experience that provides the required knowledge, skills and abilities.   experience a minimum of five years experience in retail truck sales and two years of managerial experience preferred.   licenses or certificates:   a valid driver’s license is required. cdl with minimum of a \n",
       "<mark class=\"entity\" style=\"background: linear-gradient(120deg, #fdcbf1, #fdcbf1); padding: 0.45em 0.6em; margin: 0 0.25em; line-height: 1; border-radius: 0.35em;\">\n",
       "    class\n",
       "    <span style=\"font-size: 0.8em; font-weight: bold; line-height: 1; border-radius: 0.35em; vertical-align: middle; margin-left: 0.5rem\">FEM</span>\n",
       "</mark>\n",
       " b with air brake endorsement preferred.     chevy of avon is an equal opportunity employer*     job types: full-time, commission   experience:     sales: 5 years (required)     education:     high school or equivalent (required)     license:     cdl or \n",
       "<mark class=\"entity\" style=\"background: linear-gradient(120deg, #fdcbf1, #fdcbf1); padding: 0.45em 0.6em; margin: 0 0.25em; line-height: 1; border-radius: 0.35em;\">\n",
       "    class\n",
       "    <span style=\"font-size: 0.8em; font-weight: bold; line-height: 1; border-radius: 0.35em; vertical-align: middle; margin-left: 0.5rem\">FEM</span>\n",
       "</mark>\n",
       " b (preferred)     required travel:   50 (required)  </div></span>"
      ],
      "text/plain": [
       "<IPython.core.display.HTML object>"
      ]
     },
     "metadata": {},
     "output_type": "display_data"
    }
   ],
   "source": [
    "displacy.render(top_fem['spacy'].iloc[2], style='ent', options=options)"
   ]
  },
  {
   "cell_type": "code",
   "execution_count": null,
   "metadata": {},
   "outputs": [],
   "source": []
  }
 ],
 "metadata": {
  "kernelspec": {
   "display_name": "base",
   "language": "python",
   "name": "python3"
  },
  "language_info": {
   "codemirror_mode": {
    "name": "ipython",
    "version": 3
   },
   "file_extension": ".py",
   "mimetype": "text/x-python",
   "name": "python",
   "nbconvert_exporter": "python",
   "pygments_lexer": "ipython3",
   "version": "3.10.9"
  },
  "orig_nbformat": 4
 },
 "nbformat": 4,
 "nbformat_minor": 2
}
