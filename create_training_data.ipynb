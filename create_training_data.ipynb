{
 "cells": [
  {
   "cell_type": "code",
   "execution_count": 42,
   "metadata": {},
   "outputs": [],
   "source": [
    "import csv\n",
    "import json\n",
    "import pandas as pd\n",
    "import spacy\n",
    "import itertools"
   ]
  },
  {
   "cell_type": "code",
   "execution_count": 43,
   "metadata": {},
   "outputs": [],
   "source": [
    "# Define the file paths for the CSV and JSONL files\n",
    "csv_file_path = 'C:\\\\Users\\\\chris\\\\DATA417\\\\data\\\\descriptions_clean.csv'\n",
    "jsonl_file_path = 'C:\\\\Users\\\\chris\\\\DATA417\\\\data\\\\data.jsonl'\n",
    "masculine_file_path = 'C:\\\\Users\\\\chris\\\\DATA417\\\\data\\\\masculine.csv'\n",
    "feminine__file_path = 'C:\\\\Users\\\\chris\\\\DATA417\\\\data\\\\feminine.csv'\n",
    "exclusion_file_path = 'C:\\\\Users\\\\chris\\\\DATA417\\\\data\\\\exclusion.csv'"
   ]
  },
  {
   "cell_type": "code",
   "execution_count": 44,
   "metadata": {},
   "outputs": [],
   "source": [
    "nlp = spacy.load('en_core_web_sm')"
   ]
  },
  {
   "cell_type": "code",
   "execution_count": 45,
   "metadata": {},
   "outputs": [],
   "source": [
    "# Load word lists\n",
    "with open(masculine_file_path, newline='') as f:\n",
    "    masculine_words = [row[0] for row in csv.reader(f)]\n",
    "with open(feminine__file_path, newline='') as f:\n",
    "    feminine_words = [row[0] for row in csv.reader(f)]\n",
    "with open(exclusion_file_path, newline='') as f:\n",
    "    exclusion_words = [row[0] for row in csv.reader(f)]\n",
    "\n",
    "wordlists = {\n",
    "    \"MAS\" : masculine_words,\n",
    "    \"FEM\" : feminine_words,\n",
    "    \"EXC\" : exclusion_words\n",
    "}"
   ]
  },
  {
   "cell_type": "code",
   "execution_count": 46,
   "metadata": {},
   "outputs": [
    {
     "data": {
      "text/plain": [
       "set()"
      ]
     },
     "execution_count": 46,
     "metadata": {},
     "output_type": "execute_result"
    }
   ],
   "source": [
    "intersect = set(wordlists[\"MAS\"]) & set(wordlists[\"EXC\"])\n",
    "intersect"
   ]
  },
  {
   "cell_type": "code",
   "execution_count": 47,
   "metadata": {},
   "outputs": [],
   "source": [
    "# Define the function to match words in the text\n",
    "def match_words(text):\n",
    "    # Create an empty list to store the matches\n",
    "    matches = []\n",
    "    # Create a spaCy Doc object from the text\n",
    "    doc = nlp(text)\n",
    "    # Loop through the word lists and check for matches\n",
    "    for list_name, word_list in wordlists.items():\n",
    "        for word in word_list:\n",
    "            for token in doc:\n",
    "                if token.text.lower() == word:\n",
    "                    matches.append(\n",
    "                        [\n",
    "                            token.idx,\n",
    "                            token.idx + len(token.text),\n",
    "                            list_name\n",
    "                        ]\n",
    "                    )\n",
    "    # Return the matches\n",
    "    return matches"
   ]
  },
  {
   "cell_type": "code",
   "execution_count": 48,
   "metadata": {},
   "outputs": [],
   "source": [
    "# Define the function to process each row of the CSV file\n",
    "def process_row(row):\n",
    "    # Get the text description from the row\n",
    "    text = row[\"Job Description\"]\n",
    "    # Match the words in the text and get the label attributes\n",
    "    matches = match_words(text)\n",
    "    # Return a dictionary with the text and label attributes\n",
    "    return {\"text\": text, \"label\": matches}"
   ]
  },
  {
   "cell_type": "code",
   "execution_count": 49,
   "metadata": {},
   "outputs": [],
   "source": [
    "# Read in the CSV file and create a list of processed rows\n",
    "processed_rows = []\n",
    "with open(csv_file_path) as csvfile:\n",
    "    reader = csv.DictReader(csvfile)\n",
    "    for row in reader:\n",
    "        processed_rows.append(process_row(row))"
   ]
  },
  {
   "cell_type": "code",
   "execution_count": 50,
   "metadata": {},
   "outputs": [],
   "source": [
    "# Write the processed rows to a JSONL file\n",
    "with open(jsonl_file_path, \"w\") as outfile:\n",
    "    for row in processed_rows:\n",
    "        json.dump(row, outfile)\n",
    "        outfile.write(\"\\n\")"
   ]
  },
  {
   "cell_type": "code",
   "execution_count": 51,
   "metadata": {},
   "outputs": [],
   "source": [
    "result = []\n",
    "\n",
    "with open(jsonl_file_path, 'r') as f:\n",
    "    for line in f.readlines():\n",
    "        data = json.loads(line)\n",
    "\n",
    "        labels = data['label']\n",
    "        labels.sort()\n",
    "        labels = list(l for l,_ in itertools.groupby(labels))\n",
    "\n",
    "        entry = [data['text'], {\"entities\" : labels}]\n",
    "\n",
    "        result.append(entry)\n",
    "    \n",
    "    train = result[0:700]\n",
    "    dev = result[701:1000]\n",
    "\n",
    "    with open(\"train.json\", 'w') as g:\n",
    "        json.dump(train, g)\n",
    "\n",
    "    with open(\"dev.json\", 'w') as h:\n",
    "        json.dump(dev, h)\n"
   ]
  },
  {
   "cell_type": "code",
   "execution_count": null,
   "metadata": {},
   "outputs": [],
   "source": []
  }
 ],
 "metadata": {
  "kernelspec": {
   "display_name": "base",
   "language": "python",
   "name": "python3"
  },
  "language_info": {
   "codemirror_mode": {
    "name": "ipython",
    "version": 3
   },
   "file_extension": ".py",
   "mimetype": "text/x-python",
   "name": "python",
   "nbconvert_exporter": "python",
   "pygments_lexer": "ipython3",
   "version": "3.10.9"
  },
  "orig_nbformat": 4
 },
 "nbformat": 4,
 "nbformat_minor": 2
}
